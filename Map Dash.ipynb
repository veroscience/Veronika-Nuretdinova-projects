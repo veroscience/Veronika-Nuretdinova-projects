{
 "cells": [
  {
   "cell_type": "code",
   "execution_count": 1,
   "metadata": {},
   "outputs": [],
   "source": [
    "import pandas as pd\n",
    "import numpy as np"
   ]
  },
  {
   "cell_type": "code",
   "execution_count": 2,
   "metadata": {},
   "outputs": [
    {
     "name": "stderr",
     "output_type": "stream",
     "text": [
      "C:\\Users\\vnuretdi\\anaconda\\lib\\site-packages\\ipykernel_launcher.py:2: UserWarning: \n",
      "The dash_core_components package is deprecated. Please replace\n",
      "`import dash_core_components as dcc` with `from dash import dcc`\n",
      "  \n",
      "C:\\Users\\vnuretdi\\anaconda\\lib\\site-packages\\ipykernel_launcher.py:3: UserWarning: \n",
      "The dash_html_components package is deprecated. Please replace\n",
      "`import dash_html_components as html` with `from dash import html`\n",
      "  This is separate from the ipykernel package so we can avoid doing imports until\n"
     ]
    }
   ],
   "source": [
    "import dash\n",
    "import dash_core_components as dcc\n",
    "import dash_html_components as html\n",
    "from dash.dependencies import Input, Output\n",
    "import plotly.express as px\n",
    "import plotly as pt"
   ]
  },
  {
   "cell_type": "code",
   "execution_count": 3,
   "metadata": {},
   "outputs": [],
   "source": [
    "data=pd.read_csv('country_data.csv')"
   ]
  },
  {
   "cell_type": "code",
   "execution_count": 76,
   "metadata": {},
   "outputs": [],
   "source": [
    "#data.drop('iso_alpha', axis=1, inplace=True)"
   ]
  },
  {
   "cell_type": "code",
   "execution_count": 124,
   "metadata": {},
   "outputs": [],
   "source": [
    "data=data.rename(columns={'Entity':\"country\"})"
   ]
  },
  {
   "cell_type": "code",
   "execution_count": 104,
   "metadata": {},
   "outputs": [],
   "source": [
    "data['iso_alpha']=df['iso_alpha']"
   ]
  },
  {
   "cell_type": "code",
   "execution_count": 388,
   "metadata": {},
   "outputs": [
    {
     "data": {
      "text/plain": [
       "(200, 7)"
      ]
     },
     "execution_count": 388,
     "metadata": {},
     "output_type": "execute_result"
    }
   ],
   "source": [
    "data.shape"
   ]
  },
  {
   "cell_type": "code",
   "execution_count": null,
   "metadata": {},
   "outputs": [],
   "source": []
  },
  {
   "cell_type": "code",
   "execution_count": 6,
   "metadata": {},
   "outputs": [],
   "source": [
    "import dash_bootstrap_components as dbc"
   ]
  },
  {
   "cell_type": "code",
   "execution_count": 7,
   "metadata": {},
   "outputs": [],
   "source": [
    "from dash import Dash, html, dcc"
   ]
  },
  {
   "cell_type": "code",
   "execution_count": 8,
   "metadata": {},
   "outputs": [],
   "source": [
    "import base64\n",
    "import datetime\n",
    "import io\n",
    "\n",
    "import dash\n",
    "from dash.dependencies import Input, Output, State\n",
    "from dash import dcc, html, dash_table\n",
    "from dash.exceptions import PreventUpdate"
   ]
  },
  {
   "cell_type": "code",
   "execution_count": 9,
   "metadata": {},
   "outputs": [],
   "source": [
    "df = pd.read_csv(\"country_codes.csv\")"
   ]
  },
  {
   "cell_type": "code",
   "execution_count": 10,
   "metadata": {},
   "outputs": [],
   "source": [
    "font_options = pd.read_csv(\"fonts.csv\")['fonts']"
   ]
  },
  {
   "cell_type": "code",
   "execution_count": 317,
   "metadata": {},
   "outputs": [
    {
     "data": {
      "text/plain": [
       "0     Abadi MT Condensed Light\n",
       "1          Albertus Extra Bold\n",
       "2              Albertus Medium\n",
       "3                Antique Olive\n",
       "4                        Arial\n",
       "                ...           \n",
       "78                     Univers\n",
       "79           Univers Condensed\n",
       "80                    Vagabond\n",
       "81                     Verdana\n",
       "82                 Westminster\n",
       "Name: fonts, Length: 83, dtype: object"
      ]
     },
     "execution_count": 317,
     "metadata": {},
     "output_type": "execute_result"
    }
   ],
   "source": [
    "font_options"
   ]
  },
  {
   "cell_type": "code",
   "execution_count": 238,
   "metadata": {},
   "outputs": [
    {
     "name": "stdout",
     "output_type": "stream",
     "text": [
      "Dash is running on http://127.0.0.1:8050/\n",
      "\n",
      "Dash is running on http://127.0.0.1:8050/\n",
      "\n",
      "Dash is running on http://127.0.0.1:8050/\n",
      "\n",
      "Dash is running on http://127.0.0.1:8050/\n",
      "\n",
      "Dash is running on http://127.0.0.1:8050/\n",
      "\n",
      "Dash is running on http://127.0.0.1:8050/\n",
      "\n",
      "Dash is running on http://127.0.0.1:8050/\n",
      "\n",
      "Dash is running on http://127.0.0.1:8050/\n",
      "\n",
      "Dash is running on http://127.0.0.1:8050/\n",
      "\n",
      "Dash is running on http://127.0.0.1:8050/\n",
      "\n",
      "Dash is running on http://127.0.0.1:8050/\n",
      "\n",
      "Dash is running on http://127.0.0.1:8050/\n",
      "\n",
      "Dash is running on http://127.0.0.1:8050/\n",
      "\n",
      "Dash is running on http://127.0.0.1:8050/\n",
      "\n",
      "Dash is running on http://127.0.0.1:8050/\n",
      "\n",
      "Dash is running on http://127.0.0.1:8050/\n",
      "\n",
      "Dash is running on http://127.0.0.1:8050/\n",
      "\n",
      "Dash is running on http://127.0.0.1:8050/\n",
      "\n",
      "Dash is running on http://127.0.0.1:8050/\n",
      "\n",
      "Dash is running on http://127.0.0.1:8050/\n",
      "\n",
      "Dash is running on http://127.0.0.1:8050/\n",
      "\n",
      "Dash is running on http://127.0.0.1:8050/\n",
      "\n",
      "Dash is running on http://127.0.0.1:8050/\n",
      "\n",
      "Dash is running on http://127.0.0.1:8050/\n",
      "\n",
      "Dash is running on http://127.0.0.1:8050/\n",
      "\n",
      "Dash is running on http://127.0.0.1:8050/\n",
      "\n",
      "Dash is running on http://127.0.0.1:8050/\n",
      "\n",
      "Dash is running on http://127.0.0.1:8050/\n",
      "\n",
      "Dash is running on http://127.0.0.1:8050/\n",
      "\n",
      "Dash is running on http://127.0.0.1:8050/\n",
      "\n",
      "Dash is running on http://127.0.0.1:8050/\n",
      "\n",
      "Dash is running on http://127.0.0.1:8050/\n",
      "\n",
      "Dash is running on http://127.0.0.1:8050/\n",
      "\n",
      "Dash is running on http://127.0.0.1:8050/\n",
      "\n",
      "Dash is running on http://127.0.0.1:8050/\n",
      "\n",
      "Dash is running on http://127.0.0.1:8050/\n",
      "\n",
      "Dash is running on http://127.0.0.1:8050/\n",
      "\n",
      "Dash is running on http://127.0.0.1:8050/\n",
      "\n",
      "Dash is running on http://127.0.0.1:8050/\n",
      "\n",
      "Dash is running on http://127.0.0.1:8050/\n",
      "\n",
      "Dash is running on http://127.0.0.1:8050/\n",
      "\n",
      "Dash is running on http://127.0.0.1:8050/\n",
      "\n",
      "Dash is running on http://127.0.0.1:8050/\n",
      "\n",
      "Dash is running on http://127.0.0.1:8050/\n",
      "\n",
      "Dash is running on http://127.0.0.1:8050/\n",
      "\n",
      "Dash is running on http://127.0.0.1:8050/\n",
      "\n",
      "Dash is running on http://127.0.0.1:8050/\n",
      "\n",
      "Dash is running on http://127.0.0.1:8050/\n",
      "\n",
      "Dash is running on http://127.0.0.1:8050/\n",
      "\n",
      "Dash is running on http://127.0.0.1:8050/\n",
      "\n",
      "Dash is running on http://127.0.0.1:8050/\n",
      "\n",
      "Dash is running on http://127.0.0.1:8050/\n",
      "\n",
      " * Serving Flask app \"__main__\" (lazy loading)\n",
      " * Environment: production\n",
      "   WARNING: This is a development server. Do not use it in a production deployment.\n",
      "   Use a production WSGI server instead.\n",
      " * Debug mode: off\n"
     ]
    },
    {
     "name": "stderr",
     "output_type": "stream",
     "text": [
      " * Running on http://127.0.0.1:8050/ (Press CTRL+C to quit)\n",
      "127.0.0.1 - - [11/Feb/2022 20:55:38] \"\u001b[37mGET / HTTP/1.1\u001b[0m\" 200 -\n",
      "127.0.0.1 - - [11/Feb/2022 20:55:38] \"\u001b[37mGET /_dash-layout HTTP/1.1\u001b[0m\" 200 -\n",
      "127.0.0.1 - - [11/Feb/2022 20:55:38] \"\u001b[37mGET /_dash-dependencies HTTP/1.1\u001b[0m\" 200 -\n",
      "127.0.0.1 - - [11/Feb/2022 20:55:38] \"\u001b[37mGET /_dash-component-suites/dash/dcc/async-upload.js HTTP/1.1\u001b[0m\" 200 -\n",
      "127.0.0.1 - - [11/Feb/2022 20:55:38] \"\u001b[37mGET /_dash-component-suites/dash/dcc/async-dropdown.js HTTP/1.1\u001b[0m\" 200 -\n",
      "127.0.0.1 - - [11/Feb/2022 20:55:38] \"\u001b[37mGET /_dash-component-suites/dash/dcc/async-slider.js HTTP/1.1\u001b[0m\" 200 -\n",
      "127.0.0.1 - - [11/Feb/2022 20:55:38] \"\u001b[37mGET /_dash-component-suites/dash/dcc/async-graph.js HTTP/1.1\u001b[0m\" 200 -\n",
      "127.0.0.1 - - [11/Feb/2022 20:55:38] \"\u001b[37mPOST /_dash-update-component HTTP/1.1\u001b[0m\" 200 -\n",
      "127.0.0.1 - - [11/Feb/2022 20:55:38] \"\u001b[37mGET /_dash-component-suites/dash/dcc/async-plotlyjs.js HTTP/1.1\u001b[0m\" 200 -\n",
      "127.0.0.1 - - [11/Feb/2022 20:55:38] \"\u001b[37mPOST /_dash-update-component HTTP/1.1\u001b[0m\" 204 -\n"
     ]
    }
   ],
   "source": [
    "app = Dash(__name__, external_stylesheets=[dbc.themes.BOOTSTRAP])\n",
    "\n",
    "text_value=\"\"\n",
    "\n",
    "dataset=pd.DataFrame()\n",
    "theme_options={'light':'plotly', 'dark':\"plotly_dark\"}\n",
    "\n",
    "app.layout = html.Div([\n",
    "   dbc.Container(dbc.Row([ \n",
    "         \n",
    "    dbc.Col([\n",
    "        \n",
    "    dcc.Upload(\n",
    "        id='upload-data',\n",
    "        children=html.Div(\n",
    "        dbc.Button('Select Data File (csv or xls, incl. \"country\" column)', color=\"primary\"), \n",
    "                style={'width': '90%', 'height': '35px', 'margin-left': '10px', 'margin-top': '10px'}), \n",
    "        # Allow multiple files to be uploaded\n",
    "        multiple=True\n",
    "    ),    \n",
    "        html.Div(            \n",
    "    dcc.Dropdown(id=\"column_selection\", placeholder=\"Select column\"), style={'margin-left': '10px', 'width': '90%', \n",
    "                                                                             'margin-top': '35px', 'color':'black'}),\n",
    "\n",
    "       html.Div(            \n",
    "    dcc.Dropdown(id=\"color_selection\", placeholder=\"Color by column\"), style={'margin-left': '10px', 'width': '90%', \n",
    "                                                                             'margin-top': '15px', 'color':'black'}),\n",
    "            \n",
    "    html.Div([\n",
    "    html.Div(\"Choose map type\", style={'margin-left': '10px','margin-top': '20px'}),\n",
    "    html.Div(dcc.Dropdown(id=\"map_type\", options=['natural earth', 'equirectangular', 'mercator', 'orthographic', 'kavrayskiy7',\n",
    "              'miller', 'robinson', 'eckert4', 'azimuthal equal area', 'azimuthal equidistant', 'gnomonic', 'stereographic', \n",
    "            'mollweide', 'hammer', 'transverse mercator', 'winkel tripel', 'aitoff', 'sinusoidal'],\n",
    "                 value=\"equirectangular\"), style={'margin-left': '10px', 'width': '90%', \n",
    "                                                                             'margin-top': '10px', 'color':'black'})\n",
    "    ]),\n",
    "       \n",
    "         html.Div([\n",
    "    html.Div(\"Choose map template\", style={'margin-left': '10px','margin-top': '20px'}),\n",
    "    html.Div(dcc.Dropdown(id=\"theme_choice\", options=['light', 'dark'],\n",
    "                 value=\"light\"), style={'margin-left': '10px', 'width': '90%', \n",
    "                                                                             'margin-top': '10px', 'color':'black'})\n",
    "    ]),\n",
    "        \n",
    "    \n",
    "    html.P(),\n",
    "    \n",
    "    html.Div([\n",
    "         html.Div(\"Add title\", style={'margin-left': '10px','margin-top': '10px'}),\n",
    "   html.Div(dcc.Input(\n",
    "            id=\"chart-title\",\n",
    "            type=\"text\",\n",
    "            placeholder=\"Please input the title name\".format(_),\n",
    "         style={'width': '90%',  'display': 'inline-block', 'margin-left': '10px','margin-top': '10px'}\n",
    "        )),\n",
    "        \n",
    "    html.Div(dcc.Dropdown(options=font_options, value='Arial', id=\"font_type\", placeholder=\"Title Font\"), style={'margin-left': '10px', 'width': '90%', \n",
    "                                                                             'margin-top': '15px', 'color':'black'}),\n",
    "        \n",
    "        html.Div(\"Font size\", style={'margin-left': '10px','margin-top': '10px'}),\n",
    "     html.Div(dcc.Slider(0, 40, marks=None,  value=20,\n",
    "               id='font_size'),\n",
    "                style={'width': '90%', 'height': '35px', 'margin-left': '10px','margin-top': '10px'}),  \n",
    "        \n",
    "]),\n",
    "        \n",
    "    html.P(),\n",
    "      \n",
    "    html.Div([  \n",
    "    html.Div(\"Choose bubbles size\", style={'margin-left': '10px','margin-top': '10px'}),\n",
    "     html.Div(dcc.Slider(0, 100, 10,\n",
    "               value=50,\n",
    "               id='my-slider'),\n",
    "                style={'width': '90%', 'height': '35px', 'margin-left': '10px','margin-top': '10px'}), \n",
    "    ]),    \n",
    "        \n",
    "        \n",
    "    ], style={'backgroundColor': 'black', 'color': 'white'} , width=3),\n",
    "   \n",
    "    dbc.Col([\n",
    "     html.Div([\n",
    "                  \n",
    "         \n",
    "         dcc.Graph(\n",
    "        id='example-graph')\n",
    "         ])],  width=9), \n",
    "    \n",
    "    ],  style={\"height\": \"100vh\"}), \n",
    "        fluid=True)])\n",
    "    \n",
    "def parse_contents(contents, filename):\n",
    "    \n",
    "    content_type, content_string = contents.split(',')\n",
    "\n",
    "    decoded = base64.b64decode(content_string)\n",
    "    \n",
    "    data=pd.DataFrame()\n",
    "    try:\n",
    "        if 'csv' in filename:\n",
    "            # Assume that the user uploaded a CSV file\n",
    "            data = pd.read_csv(\n",
    "                io.StringIO(decoded.decode('utf-8')))\n",
    "        elif 'xls' in filename:\n",
    "            # Assume that the user uploaded an excel file\n",
    "            data = pd.read_excel(io.BytesIO(decoded))\n",
    "\n",
    "    except Exception as e:\n",
    "        print(e)\n",
    "        return html.Div([\n",
    "            'There was an error processing this file.'\n",
    "        ])\n",
    "\n",
    "    return data\n",
    "\n",
    "\n",
    "@app.callback(Output('column_selection', 'options'),\n",
    "              Output('color_selection', 'options'),\n",
    "              Input('upload-data', 'contents'),              \n",
    "             State('upload-data', 'filename'))\n",
    "\n",
    "\n",
    "def update_data(list_of_contents, list_of_names): \n",
    "    global dataset\n",
    "    \n",
    "    dropdown_options=[]\n",
    "        \n",
    "    if list_of_contents is not None:\n",
    "        \n",
    "        dataset = [parse_contents(c, n) for c, n in\n",
    "            zip(list_of_contents, list_of_names)][0]\n",
    "        \n",
    "        dataset=pd.merge(dataset, df[['country','iso_code']], on='country')\n",
    "        dataset=dataset.fillna(0)\n",
    "        print(dataset.head())\n",
    "        \n",
    "        dropdown_options=list(dataset.drop(['country','iso_code'], axis=1).columns)\n",
    "        \n",
    "    return dropdown_options, dropdown_options\n",
    "\n",
    "    \n",
    "@app.callback( Output('example-graph', 'figure'),\n",
    "             Input('my-slider', 'value'),\n",
    "             Input('chart-title', 'value'),\n",
    "             Input('column_selection', 'value'),\n",
    "             Input('color_selection', 'value'),\n",
    "             Input('map_type', 'value'),\n",
    "             Input('font_size', 'value'),\n",
    "             Input('font_type', 'value'),\n",
    "             Input('theme_choice', 'value'))\n",
    "\n",
    "\n",
    "def update_graph(slider_value, text_value, column_sel, color_value, map_type, font_size, font_type, theme):\n",
    "    \n",
    "    global dataset\n",
    "    \n",
    "   \n",
    "    \n",
    "    if len(dataset.columns)==0:\n",
    "        raise PreventUpdate\n",
    "    \n",
    "    else:\n",
    "        \n",
    "        print(\"second columns\", column_sel, dataset[column_sel].head(), \n",
    "          dataset[(dataset.iso_code!='NaN')&(dataset[column_sel]!='NaN')].shape)\n",
    "        \n",
    "        fig = px.scatter_geo(dataset[(dataset.iso_code!='NaN')&(dataset[column_sel]!='NaN')], locations=\"iso_code\", \n",
    "                             hover_name='country', size=column_sel, size_max=slider_value, projection=map_type,                             \n",
    "                                 title=text_value, color=color_value, template=theme_options[theme], \n",
    "                             hover_data={'iso_code':False})\n",
    "\n",
    "        fig.update_layout(height=600, margin={\"r\":10,\"t\":60,\"l\":20,\"b\":50},   title={'y':0.95, 'x':0.45,\n",
    "                    'xanchor': 'center', 'yanchor': 'top'},\n",
    "                            title_font_family=font_type, title_font_size=font_size)\n",
    "        \n",
    "   #     fig.update_layout(legend=dict(orientation=\"h\", y=0.05, x=0.1))\n",
    "       \n",
    "        \n",
    "        fig.update_geos(\n",
    "     showcountries=True, countrycolor=\"grey\"\n",
    ")\n",
    "        \n",
    "        if theme=='dark':\n",
    "             fig.update_geos(\n",
    "      showland=True, landcolor=\"rgb(203,213,232)\"\n",
    ")\n",
    "\n",
    "\n",
    "    return fig\n",
    "\n",
    "if __name__ == '__main__':\n",
    "    app.run_server()"
   ]
  },
  {
   "cell_type": "code",
   "execution_count": null,
   "metadata": {},
   "outputs": [],
   "source": [
    "dataset_filtered"
   ]
  },
  {
   "cell_type": "code",
   "execution_count": 494,
   "metadata": {},
   "outputs": [],
   "source": [
    "## Map with lines"
   ]
  },
  {
   "cell_type": "code",
   "execution_count": 17,
   "metadata": {},
   "outputs": [],
   "source": [
    "migration=pd.read_csv('migration_stacked.csv')"
   ]
  },
  {
   "cell_type": "code",
   "execution_count": 18,
   "metadata": {},
   "outputs": [
    {
     "data": {
      "text/html": [
       "<div>\n",
       "<style scoped>\n",
       "    .dataframe tbody tr th:only-of-type {\n",
       "        vertical-align: middle;\n",
       "    }\n",
       "\n",
       "    .dataframe tbody tr th {\n",
       "        vertical-align: top;\n",
       "    }\n",
       "\n",
       "    .dataframe thead th {\n",
       "        text-align: right;\n",
       "    }\n",
       "</style>\n",
       "<table border=\"1\" class=\"dataframe\">\n",
       "  <thead>\n",
       "    <tr style=\"text-align: right;\">\n",
       "      <th></th>\n",
       "      <th>from</th>\n",
       "      <th>to</th>\n",
       "      <th>num</th>\n",
       "    </tr>\n",
       "  </thead>\n",
       "  <tbody>\n",
       "    <tr>\n",
       "      <th>0</th>\n",
       "      <td>Afghanistan</td>\n",
       "      <td>United States</td>\n",
       "      <td>2196</td>\n",
       "    </tr>\n",
       "    <tr>\n",
       "      <th>1</th>\n",
       "      <td>Afghanistan</td>\n",
       "      <td>United Kingdom</td>\n",
       "      <td>607</td>\n",
       "    </tr>\n",
       "    <tr>\n",
       "      <th>2</th>\n",
       "      <td>Afghanistan</td>\n",
       "      <td>Ukraine</td>\n",
       "      <td>0</td>\n",
       "    </tr>\n",
       "    <tr>\n",
       "      <th>3</th>\n",
       "      <td>Afghanistan</td>\n",
       "      <td>Switzerland</td>\n",
       "      <td>127</td>\n",
       "    </tr>\n",
       "    <tr>\n",
       "      <th>4</th>\n",
       "      <td>Afghanistan</td>\n",
       "      <td>Sweden</td>\n",
       "      <td>4165</td>\n",
       "    </tr>\n",
       "  </tbody>\n",
       "</table>\n",
       "</div>"
      ],
      "text/plain": [
       "          from              to   num\n",
       "0  Afghanistan   United States  2196\n",
       "1  Afghanistan  United Kingdom   607\n",
       "2  Afghanistan         Ukraine     0\n",
       "3  Afghanistan     Switzerland   127\n",
       "4  Afghanistan          Sweden  4165"
      ]
     },
     "execution_count": 18,
     "metadata": {},
     "output_type": "execute_result"
    }
   ],
   "source": [
    "migration.drop('Unnamed: 0', axis=1, inplace=True)\n",
    "migration.head()"
   ]
  },
  {
   "cell_type": "code",
   "execution_count": 21,
   "metadata": {},
   "outputs": [],
   "source": [
    "migration['num']=migration['num'].replace('..',0)\n",
    "migration['num']=migration['num'].astype(int)"
   ]
  },
  {
   "cell_type": "code",
   "execution_count": 11,
   "metadata": {},
   "outputs": [],
   "source": [
    "import plotly.graph_objects as go"
   ]
  },
  {
   "cell_type": "code",
   "execution_count": 130,
   "metadata": {},
   "outputs": [
    {
     "data": {
      "application/vnd.plotly.v1+json": {
       "config": {
        "plotlyServerURL": "https://plot.ly"
       },
       "data": [
        {
         "type": "scattergeo"
        }
       ],
       "layout": {
        "geo": {
         "countrycolor": "grey",
         "projection": {
          "type": "equirectangular"
         },
         "showcountries": true
        },
        "height": 600,
        "margin": {
         "b": 50,
         "l": 20,
         "r": 10,
         "t": 60
        },
        "template": {
         "data": {
          "bar": [
           {
            "error_x": {
             "color": "#2a3f5f"
            },
            "error_y": {
             "color": "#2a3f5f"
            },
            "marker": {
             "line": {
              "color": "#E5ECF6",
              "width": 0.5
             },
             "pattern": {
              "fillmode": "overlay",
              "size": 10,
              "solidity": 0.2
             }
            },
            "type": "bar"
           }
          ],
          "barpolar": [
           {
            "marker": {
             "line": {
              "color": "#E5ECF6",
              "width": 0.5
             },
             "pattern": {
              "fillmode": "overlay",
              "size": 10,
              "solidity": 0.2
             }
            },
            "type": "barpolar"
           }
          ],
          "carpet": [
           {
            "aaxis": {
             "endlinecolor": "#2a3f5f",
             "gridcolor": "white",
             "linecolor": "white",
             "minorgridcolor": "white",
             "startlinecolor": "#2a3f5f"
            },
            "baxis": {
             "endlinecolor": "#2a3f5f",
             "gridcolor": "white",
             "linecolor": "white",
             "minorgridcolor": "white",
             "startlinecolor": "#2a3f5f"
            },
            "type": "carpet"
           }
          ],
          "choropleth": [
           {
            "colorbar": {
             "outlinewidth": 0,
             "ticks": ""
            },
            "type": "choropleth"
           }
          ],
          "contour": [
           {
            "colorbar": {
             "outlinewidth": 0,
             "ticks": ""
            },
            "colorscale": [
             [
              0,
              "#0d0887"
             ],
             [
              0.1111111111111111,
              "#46039f"
             ],
             [
              0.2222222222222222,
              "#7201a8"
             ],
             [
              0.3333333333333333,
              "#9c179e"
             ],
             [
              0.4444444444444444,
              "#bd3786"
             ],
             [
              0.5555555555555556,
              "#d8576b"
             ],
             [
              0.6666666666666666,
              "#ed7953"
             ],
             [
              0.7777777777777778,
              "#fb9f3a"
             ],
             [
              0.8888888888888888,
              "#fdca26"
             ],
             [
              1,
              "#f0f921"
             ]
            ],
            "type": "contour"
           }
          ],
          "contourcarpet": [
           {
            "colorbar": {
             "outlinewidth": 0,
             "ticks": ""
            },
            "type": "contourcarpet"
           }
          ],
          "heatmap": [
           {
            "colorbar": {
             "outlinewidth": 0,
             "ticks": ""
            },
            "colorscale": [
             [
              0,
              "#0d0887"
             ],
             [
              0.1111111111111111,
              "#46039f"
             ],
             [
              0.2222222222222222,
              "#7201a8"
             ],
             [
              0.3333333333333333,
              "#9c179e"
             ],
             [
              0.4444444444444444,
              "#bd3786"
             ],
             [
              0.5555555555555556,
              "#d8576b"
             ],
             [
              0.6666666666666666,
              "#ed7953"
             ],
             [
              0.7777777777777778,
              "#fb9f3a"
             ],
             [
              0.8888888888888888,
              "#fdca26"
             ],
             [
              1,
              "#f0f921"
             ]
            ],
            "type": "heatmap"
           }
          ],
          "heatmapgl": [
           {
            "colorbar": {
             "outlinewidth": 0,
             "ticks": ""
            },
            "colorscale": [
             [
              0,
              "#0d0887"
             ],
             [
              0.1111111111111111,
              "#46039f"
             ],
             [
              0.2222222222222222,
              "#7201a8"
             ],
             [
              0.3333333333333333,
              "#9c179e"
             ],
             [
              0.4444444444444444,
              "#bd3786"
             ],
             [
              0.5555555555555556,
              "#d8576b"
             ],
             [
              0.6666666666666666,
              "#ed7953"
             ],
             [
              0.7777777777777778,
              "#fb9f3a"
             ],
             [
              0.8888888888888888,
              "#fdca26"
             ],
             [
              1,
              "#f0f921"
             ]
            ],
            "type": "heatmapgl"
           }
          ],
          "histogram": [
           {
            "marker": {
             "pattern": {
              "fillmode": "overlay",
              "size": 10,
              "solidity": 0.2
             }
            },
            "type": "histogram"
           }
          ],
          "histogram2d": [
           {
            "colorbar": {
             "outlinewidth": 0,
             "ticks": ""
            },
            "colorscale": [
             [
              0,
              "#0d0887"
             ],
             [
              0.1111111111111111,
              "#46039f"
             ],
             [
              0.2222222222222222,
              "#7201a8"
             ],
             [
              0.3333333333333333,
              "#9c179e"
             ],
             [
              0.4444444444444444,
              "#bd3786"
             ],
             [
              0.5555555555555556,
              "#d8576b"
             ],
             [
              0.6666666666666666,
              "#ed7953"
             ],
             [
              0.7777777777777778,
              "#fb9f3a"
             ],
             [
              0.8888888888888888,
              "#fdca26"
             ],
             [
              1,
              "#f0f921"
             ]
            ],
            "type": "histogram2d"
           }
          ],
          "histogram2dcontour": [
           {
            "colorbar": {
             "outlinewidth": 0,
             "ticks": ""
            },
            "colorscale": [
             [
              0,
              "#0d0887"
             ],
             [
              0.1111111111111111,
              "#46039f"
             ],
             [
              0.2222222222222222,
              "#7201a8"
             ],
             [
              0.3333333333333333,
              "#9c179e"
             ],
             [
              0.4444444444444444,
              "#bd3786"
             ],
             [
              0.5555555555555556,
              "#d8576b"
             ],
             [
              0.6666666666666666,
              "#ed7953"
             ],
             [
              0.7777777777777778,
              "#fb9f3a"
             ],
             [
              0.8888888888888888,
              "#fdca26"
             ],
             [
              1,
              "#f0f921"
             ]
            ],
            "type": "histogram2dcontour"
           }
          ],
          "mesh3d": [
           {
            "colorbar": {
             "outlinewidth": 0,
             "ticks": ""
            },
            "type": "mesh3d"
           }
          ],
          "parcoords": [
           {
            "line": {
             "colorbar": {
              "outlinewidth": 0,
              "ticks": ""
             }
            },
            "type": "parcoords"
           }
          ],
          "pie": [
           {
            "automargin": true,
            "type": "pie"
           }
          ],
          "scatter": [
           {
            "marker": {
             "colorbar": {
              "outlinewidth": 0,
              "ticks": ""
             }
            },
            "type": "scatter"
           }
          ],
          "scatter3d": [
           {
            "line": {
             "colorbar": {
              "outlinewidth": 0,
              "ticks": ""
             }
            },
            "marker": {
             "colorbar": {
              "outlinewidth": 0,
              "ticks": ""
             }
            },
            "type": "scatter3d"
           }
          ],
          "scattercarpet": [
           {
            "marker": {
             "colorbar": {
              "outlinewidth": 0,
              "ticks": ""
             }
            },
            "type": "scattercarpet"
           }
          ],
          "scattergeo": [
           {
            "marker": {
             "colorbar": {
              "outlinewidth": 0,
              "ticks": ""
             }
            },
            "type": "scattergeo"
           }
          ],
          "scattergl": [
           {
            "marker": {
             "colorbar": {
              "outlinewidth": 0,
              "ticks": ""
             }
            },
            "type": "scattergl"
           }
          ],
          "scattermapbox": [
           {
            "marker": {
             "colorbar": {
              "outlinewidth": 0,
              "ticks": ""
             }
            },
            "type": "scattermapbox"
           }
          ],
          "scatterpolar": [
           {
            "marker": {
             "colorbar": {
              "outlinewidth": 0,
              "ticks": ""
             }
            },
            "type": "scatterpolar"
           }
          ],
          "scatterpolargl": [
           {
            "marker": {
             "colorbar": {
              "outlinewidth": 0,
              "ticks": ""
             }
            },
            "type": "scatterpolargl"
           }
          ],
          "scatterternary": [
           {
            "marker": {
             "colorbar": {
              "outlinewidth": 0,
              "ticks": ""
             }
            },
            "type": "scatterternary"
           }
          ],
          "surface": [
           {
            "colorbar": {
             "outlinewidth": 0,
             "ticks": ""
            },
            "colorscale": [
             [
              0,
              "#0d0887"
             ],
             [
              0.1111111111111111,
              "#46039f"
             ],
             [
              0.2222222222222222,
              "#7201a8"
             ],
             [
              0.3333333333333333,
              "#9c179e"
             ],
             [
              0.4444444444444444,
              "#bd3786"
             ],
             [
              0.5555555555555556,
              "#d8576b"
             ],
             [
              0.6666666666666666,
              "#ed7953"
             ],
             [
              0.7777777777777778,
              "#fb9f3a"
             ],
             [
              0.8888888888888888,
              "#fdca26"
             ],
             [
              1,
              "#f0f921"
             ]
            ],
            "type": "surface"
           }
          ],
          "table": [
           {
            "cells": {
             "fill": {
              "color": "#EBF0F8"
             },
             "line": {
              "color": "white"
             }
            },
            "header": {
             "fill": {
              "color": "#C8D4E3"
             },
             "line": {
              "color": "white"
             }
            },
            "type": "table"
           }
          ]
         },
         "layout": {
          "annotationdefaults": {
           "arrowcolor": "#2a3f5f",
           "arrowhead": 0,
           "arrowwidth": 1
          },
          "autotypenumbers": "strict",
          "coloraxis": {
           "colorbar": {
            "outlinewidth": 0,
            "ticks": ""
           }
          },
          "colorscale": {
           "diverging": [
            [
             0,
             "#8e0152"
            ],
            [
             0.1,
             "#c51b7d"
            ],
            [
             0.2,
             "#de77ae"
            ],
            [
             0.3,
             "#f1b6da"
            ],
            [
             0.4,
             "#fde0ef"
            ],
            [
             0.5,
             "#f7f7f7"
            ],
            [
             0.6,
             "#e6f5d0"
            ],
            [
             0.7,
             "#b8e186"
            ],
            [
             0.8,
             "#7fbc41"
            ],
            [
             0.9,
             "#4d9221"
            ],
            [
             1,
             "#276419"
            ]
           ],
           "sequential": [
            [
             0,
             "#0d0887"
            ],
            [
             0.1111111111111111,
             "#46039f"
            ],
            [
             0.2222222222222222,
             "#7201a8"
            ],
            [
             0.3333333333333333,
             "#9c179e"
            ],
            [
             0.4444444444444444,
             "#bd3786"
            ],
            [
             0.5555555555555556,
             "#d8576b"
            ],
            [
             0.6666666666666666,
             "#ed7953"
            ],
            [
             0.7777777777777778,
             "#fb9f3a"
            ],
            [
             0.8888888888888888,
             "#fdca26"
            ],
            [
             1,
             "#f0f921"
            ]
           ],
           "sequentialminus": [
            [
             0,
             "#0d0887"
            ],
            [
             0.1111111111111111,
             "#46039f"
            ],
            [
             0.2222222222222222,
             "#7201a8"
            ],
            [
             0.3333333333333333,
             "#9c179e"
            ],
            [
             0.4444444444444444,
             "#bd3786"
            ],
            [
             0.5555555555555556,
             "#d8576b"
            ],
            [
             0.6666666666666666,
             "#ed7953"
            ],
            [
             0.7777777777777778,
             "#fb9f3a"
            ],
            [
             0.8888888888888888,
             "#fdca26"
            ],
            [
             1,
             "#f0f921"
            ]
           ]
          },
          "colorway": [
           "#636efa",
           "#EF553B",
           "#00cc96",
           "#ab63fa",
           "#FFA15A",
           "#19d3f3",
           "#FF6692",
           "#B6E880",
           "#FF97FF",
           "#FECB52"
          ],
          "font": {
           "color": "#2a3f5f"
          },
          "geo": {
           "bgcolor": "white",
           "lakecolor": "white",
           "landcolor": "#E5ECF6",
           "showlakes": true,
           "showland": true,
           "subunitcolor": "white"
          },
          "hoverlabel": {
           "align": "left"
          },
          "hovermode": "closest",
          "mapbox": {
           "style": "light"
          },
          "paper_bgcolor": "white",
          "plot_bgcolor": "#E5ECF6",
          "polar": {
           "angularaxis": {
            "gridcolor": "white",
            "linecolor": "white",
            "ticks": ""
           },
           "bgcolor": "#E5ECF6",
           "radialaxis": {
            "gridcolor": "white",
            "linecolor": "white",
            "ticks": ""
           }
          },
          "scene": {
           "xaxis": {
            "backgroundcolor": "#E5ECF6",
            "gridcolor": "white",
            "gridwidth": 2,
            "linecolor": "white",
            "showbackground": true,
            "ticks": "",
            "zerolinecolor": "white"
           },
           "yaxis": {
            "backgroundcolor": "#E5ECF6",
            "gridcolor": "white",
            "gridwidth": 2,
            "linecolor": "white",
            "showbackground": true,
            "ticks": "",
            "zerolinecolor": "white"
           },
           "zaxis": {
            "backgroundcolor": "#E5ECF6",
            "gridcolor": "white",
            "gridwidth": 2,
            "linecolor": "white",
            "showbackground": true,
            "ticks": "",
            "zerolinecolor": "white"
           }
          },
          "shapedefaults": {
           "line": {
            "color": "#2a3f5f"
           }
          },
          "ternary": {
           "aaxis": {
            "gridcolor": "white",
            "linecolor": "white",
            "ticks": ""
           },
           "baxis": {
            "gridcolor": "white",
            "linecolor": "white",
            "ticks": ""
           },
           "bgcolor": "#E5ECF6",
           "caxis": {
            "gridcolor": "white",
            "linecolor": "white",
            "ticks": ""
           }
          },
          "title": {
           "x": 0.05
          },
          "xaxis": {
           "automargin": true,
           "gridcolor": "white",
           "linecolor": "white",
           "ticks": "",
           "title": {
            "standoff": 15
           },
           "zerolinecolor": "white",
           "zerolinewidth": 2
          },
          "yaxis": {
           "automargin": true,
           "gridcolor": "white",
           "linecolor": "white",
           "ticks": "",
           "title": {
            "standoff": 15
           },
           "zerolinecolor": "white",
           "zerolinewidth": 2
          }
         }
        }
       }
      },
      "text/html": [
       "<div>                            <div id=\"837654da-a300-41d3-b374-95b155d2fe47\" class=\"plotly-graph-div\" style=\"height:600px; width:100%;\"></div>            <script type=\"text/javascript\">                require([\"plotly\"], function(Plotly) {                    window.PLOTLYENV=window.PLOTLYENV || {};                                    if (document.getElementById(\"837654da-a300-41d3-b374-95b155d2fe47\")) {                    Plotly.newPlot(                        \"837654da-a300-41d3-b374-95b155d2fe47\",                        [{\"type\":\"scattergeo\"}],                        {\"template\":{\"data\":{\"bar\":[{\"error_x\":{\"color\":\"#2a3f5f\"},\"error_y\":{\"color\":\"#2a3f5f\"},\"marker\":{\"line\":{\"color\":\"#E5ECF6\",\"width\":0.5},\"pattern\":{\"fillmode\":\"overlay\",\"size\":10,\"solidity\":0.2}},\"type\":\"bar\"}],\"barpolar\":[{\"marker\":{\"line\":{\"color\":\"#E5ECF6\",\"width\":0.5},\"pattern\":{\"fillmode\":\"overlay\",\"size\":10,\"solidity\":0.2}},\"type\":\"barpolar\"}],\"carpet\":[{\"aaxis\":{\"endlinecolor\":\"#2a3f5f\",\"gridcolor\":\"white\",\"linecolor\":\"white\",\"minorgridcolor\":\"white\",\"startlinecolor\":\"#2a3f5f\"},\"baxis\":{\"endlinecolor\":\"#2a3f5f\",\"gridcolor\":\"white\",\"linecolor\":\"white\",\"minorgridcolor\":\"white\",\"startlinecolor\":\"#2a3f5f\"},\"type\":\"carpet\"}],\"choropleth\":[{\"colorbar\":{\"outlinewidth\":0,\"ticks\":\"\"},\"type\":\"choropleth\"}],\"contour\":[{\"colorbar\":{\"outlinewidth\":0,\"ticks\":\"\"},\"colorscale\":[[0.0,\"#0d0887\"],[0.1111111111111111,\"#46039f\"],[0.2222222222222222,\"#7201a8\"],[0.3333333333333333,\"#9c179e\"],[0.4444444444444444,\"#bd3786\"],[0.5555555555555556,\"#d8576b\"],[0.6666666666666666,\"#ed7953\"],[0.7777777777777778,\"#fb9f3a\"],[0.8888888888888888,\"#fdca26\"],[1.0,\"#f0f921\"]],\"type\":\"contour\"}],\"contourcarpet\":[{\"colorbar\":{\"outlinewidth\":0,\"ticks\":\"\"},\"type\":\"contourcarpet\"}],\"heatmap\":[{\"colorbar\":{\"outlinewidth\":0,\"ticks\":\"\"},\"colorscale\":[[0.0,\"#0d0887\"],[0.1111111111111111,\"#46039f\"],[0.2222222222222222,\"#7201a8\"],[0.3333333333333333,\"#9c179e\"],[0.4444444444444444,\"#bd3786\"],[0.5555555555555556,\"#d8576b\"],[0.6666666666666666,\"#ed7953\"],[0.7777777777777778,\"#fb9f3a\"],[0.8888888888888888,\"#fdca26\"],[1.0,\"#f0f921\"]],\"type\":\"heatmap\"}],\"heatmapgl\":[{\"colorbar\":{\"outlinewidth\":0,\"ticks\":\"\"},\"colorscale\":[[0.0,\"#0d0887\"],[0.1111111111111111,\"#46039f\"],[0.2222222222222222,\"#7201a8\"],[0.3333333333333333,\"#9c179e\"],[0.4444444444444444,\"#bd3786\"],[0.5555555555555556,\"#d8576b\"],[0.6666666666666666,\"#ed7953\"],[0.7777777777777778,\"#fb9f3a\"],[0.8888888888888888,\"#fdca26\"],[1.0,\"#f0f921\"]],\"type\":\"heatmapgl\"}],\"histogram\":[{\"marker\":{\"pattern\":{\"fillmode\":\"overlay\",\"size\":10,\"solidity\":0.2}},\"type\":\"histogram\"}],\"histogram2d\":[{\"colorbar\":{\"outlinewidth\":0,\"ticks\":\"\"},\"colorscale\":[[0.0,\"#0d0887\"],[0.1111111111111111,\"#46039f\"],[0.2222222222222222,\"#7201a8\"],[0.3333333333333333,\"#9c179e\"],[0.4444444444444444,\"#bd3786\"],[0.5555555555555556,\"#d8576b\"],[0.6666666666666666,\"#ed7953\"],[0.7777777777777778,\"#fb9f3a\"],[0.8888888888888888,\"#fdca26\"],[1.0,\"#f0f921\"]],\"type\":\"histogram2d\"}],\"histogram2dcontour\":[{\"colorbar\":{\"outlinewidth\":0,\"ticks\":\"\"},\"colorscale\":[[0.0,\"#0d0887\"],[0.1111111111111111,\"#46039f\"],[0.2222222222222222,\"#7201a8\"],[0.3333333333333333,\"#9c179e\"],[0.4444444444444444,\"#bd3786\"],[0.5555555555555556,\"#d8576b\"],[0.6666666666666666,\"#ed7953\"],[0.7777777777777778,\"#fb9f3a\"],[0.8888888888888888,\"#fdca26\"],[1.0,\"#f0f921\"]],\"type\":\"histogram2dcontour\"}],\"mesh3d\":[{\"colorbar\":{\"outlinewidth\":0,\"ticks\":\"\"},\"type\":\"mesh3d\"}],\"parcoords\":[{\"line\":{\"colorbar\":{\"outlinewidth\":0,\"ticks\":\"\"}},\"type\":\"parcoords\"}],\"pie\":[{\"automargin\":true,\"type\":\"pie\"}],\"scatter\":[{\"marker\":{\"colorbar\":{\"outlinewidth\":0,\"ticks\":\"\"}},\"type\":\"scatter\"}],\"scatter3d\":[{\"line\":{\"colorbar\":{\"outlinewidth\":0,\"ticks\":\"\"}},\"marker\":{\"colorbar\":{\"outlinewidth\":0,\"ticks\":\"\"}},\"type\":\"scatter3d\"}],\"scattercarpet\":[{\"marker\":{\"colorbar\":{\"outlinewidth\":0,\"ticks\":\"\"}},\"type\":\"scattercarpet\"}],\"scattergeo\":[{\"marker\":{\"colorbar\":{\"outlinewidth\":0,\"ticks\":\"\"}},\"type\":\"scattergeo\"}],\"scattergl\":[{\"marker\":{\"colorbar\":{\"outlinewidth\":0,\"ticks\":\"\"}},\"type\":\"scattergl\"}],\"scattermapbox\":[{\"marker\":{\"colorbar\":{\"outlinewidth\":0,\"ticks\":\"\"}},\"type\":\"scattermapbox\"}],\"scatterpolar\":[{\"marker\":{\"colorbar\":{\"outlinewidth\":0,\"ticks\":\"\"}},\"type\":\"scatterpolar\"}],\"scatterpolargl\":[{\"marker\":{\"colorbar\":{\"outlinewidth\":0,\"ticks\":\"\"}},\"type\":\"scatterpolargl\"}],\"scatterternary\":[{\"marker\":{\"colorbar\":{\"outlinewidth\":0,\"ticks\":\"\"}},\"type\":\"scatterternary\"}],\"surface\":[{\"colorbar\":{\"outlinewidth\":0,\"ticks\":\"\"},\"colorscale\":[[0.0,\"#0d0887\"],[0.1111111111111111,\"#46039f\"],[0.2222222222222222,\"#7201a8\"],[0.3333333333333333,\"#9c179e\"],[0.4444444444444444,\"#bd3786\"],[0.5555555555555556,\"#d8576b\"],[0.6666666666666666,\"#ed7953\"],[0.7777777777777778,\"#fb9f3a\"],[0.8888888888888888,\"#fdca26\"],[1.0,\"#f0f921\"]],\"type\":\"surface\"}],\"table\":[{\"cells\":{\"fill\":{\"color\":\"#EBF0F8\"},\"line\":{\"color\":\"white\"}},\"header\":{\"fill\":{\"color\":\"#C8D4E3\"},\"line\":{\"color\":\"white\"}},\"type\":\"table\"}]},\"layout\":{\"annotationdefaults\":{\"arrowcolor\":\"#2a3f5f\",\"arrowhead\":0,\"arrowwidth\":1},\"autotypenumbers\":\"strict\",\"coloraxis\":{\"colorbar\":{\"outlinewidth\":0,\"ticks\":\"\"}},\"colorscale\":{\"diverging\":[[0,\"#8e0152\"],[0.1,\"#c51b7d\"],[0.2,\"#de77ae\"],[0.3,\"#f1b6da\"],[0.4,\"#fde0ef\"],[0.5,\"#f7f7f7\"],[0.6,\"#e6f5d0\"],[0.7,\"#b8e186\"],[0.8,\"#7fbc41\"],[0.9,\"#4d9221\"],[1,\"#276419\"]],\"sequential\":[[0.0,\"#0d0887\"],[0.1111111111111111,\"#46039f\"],[0.2222222222222222,\"#7201a8\"],[0.3333333333333333,\"#9c179e\"],[0.4444444444444444,\"#bd3786\"],[0.5555555555555556,\"#d8576b\"],[0.6666666666666666,\"#ed7953\"],[0.7777777777777778,\"#fb9f3a\"],[0.8888888888888888,\"#fdca26\"],[1.0,\"#f0f921\"]],\"sequentialminus\":[[0.0,\"#0d0887\"],[0.1111111111111111,\"#46039f\"],[0.2222222222222222,\"#7201a8\"],[0.3333333333333333,\"#9c179e\"],[0.4444444444444444,\"#bd3786\"],[0.5555555555555556,\"#d8576b\"],[0.6666666666666666,\"#ed7953\"],[0.7777777777777778,\"#fb9f3a\"],[0.8888888888888888,\"#fdca26\"],[1.0,\"#f0f921\"]]},\"colorway\":[\"#636efa\",\"#EF553B\",\"#00cc96\",\"#ab63fa\",\"#FFA15A\",\"#19d3f3\",\"#FF6692\",\"#B6E880\",\"#FF97FF\",\"#FECB52\"],\"font\":{\"color\":\"#2a3f5f\"},\"geo\":{\"bgcolor\":\"white\",\"lakecolor\":\"white\",\"landcolor\":\"#E5ECF6\",\"showlakes\":true,\"showland\":true,\"subunitcolor\":\"white\"},\"hoverlabel\":{\"align\":\"left\"},\"hovermode\":\"closest\",\"mapbox\":{\"style\":\"light\"},\"paper_bgcolor\":\"white\",\"plot_bgcolor\":\"#E5ECF6\",\"polar\":{\"angularaxis\":{\"gridcolor\":\"white\",\"linecolor\":\"white\",\"ticks\":\"\"},\"bgcolor\":\"#E5ECF6\",\"radialaxis\":{\"gridcolor\":\"white\",\"linecolor\":\"white\",\"ticks\":\"\"}},\"scene\":{\"xaxis\":{\"backgroundcolor\":\"#E5ECF6\",\"gridcolor\":\"white\",\"gridwidth\":2,\"linecolor\":\"white\",\"showbackground\":true,\"ticks\":\"\",\"zerolinecolor\":\"white\"},\"yaxis\":{\"backgroundcolor\":\"#E5ECF6\",\"gridcolor\":\"white\",\"gridwidth\":2,\"linecolor\":\"white\",\"showbackground\":true,\"ticks\":\"\",\"zerolinecolor\":\"white\"},\"zaxis\":{\"backgroundcolor\":\"#E5ECF6\",\"gridcolor\":\"white\",\"gridwidth\":2,\"linecolor\":\"white\",\"showbackground\":true,\"ticks\":\"\",\"zerolinecolor\":\"white\"}},\"shapedefaults\":{\"line\":{\"color\":\"#2a3f5f\"}},\"ternary\":{\"aaxis\":{\"gridcolor\":\"white\",\"linecolor\":\"white\",\"ticks\":\"\"},\"baxis\":{\"gridcolor\":\"white\",\"linecolor\":\"white\",\"ticks\":\"\"},\"bgcolor\":\"#E5ECF6\",\"caxis\":{\"gridcolor\":\"white\",\"linecolor\":\"white\",\"ticks\":\"\"}},\"title\":{\"x\":0.05},\"xaxis\":{\"automargin\":true,\"gridcolor\":\"white\",\"linecolor\":\"white\",\"ticks\":\"\",\"title\":{\"standoff\":15},\"zerolinecolor\":\"white\",\"zerolinewidth\":2},\"yaxis\":{\"automargin\":true,\"gridcolor\":\"white\",\"linecolor\":\"white\",\"ticks\":\"\",\"title\":{\"standoff\":15},\"zerolinecolor\":\"white\",\"zerolinewidth\":2}}},\"geo\":{\"projection\":{\"type\":\"equirectangular\"},\"showcountries\":true,\"countrycolor\":\"grey\"},\"margin\":{\"r\":10,\"t\":60,\"l\":20,\"b\":50},\"height\":600},                        {\"responsive\": true}                    ).then(function(){\n",
       "                            \n",
       "var gd = document.getElementById('837654da-a300-41d3-b374-95b155d2fe47');\n",
       "var x = new MutationObserver(function (mutations, observer) {{\n",
       "        var display = window.getComputedStyle(gd).display;\n",
       "        if (!display || display === 'none') {{\n",
       "            console.log([gd, 'removed!']);\n",
       "            Plotly.purge(gd);\n",
       "            observer.disconnect();\n",
       "        }}\n",
       "}});\n",
       "\n",
       "// Listen for the removal of the full notebook cells\n",
       "var notebookContainer = gd.closest('#notebook-container');\n",
       "if (notebookContainer) {{\n",
       "    x.observe(notebookContainer, {childList: true});\n",
       "}}\n",
       "\n",
       "// Listen for the clearing of the current output cell\n",
       "var outputEl = gd.closest('.output');\n",
       "if (outputEl) {{\n",
       "    x.observe(outputEl, {childList: true});\n",
       "}}\n",
       "\n",
       "                        })                };                });            </script>        </div>"
      ]
     },
     "metadata": {},
     "output_type": "display_data"
    }
   ],
   "source": [
    "fig =go.Figure(go.Scattergeo())\n",
    "fig.update_geos(\n",
    "    projection_type=\"equirectangular\",\n",
    "     showcountries=True, countrycolor=\"grey\"\n",
    ")\n",
    "\n",
    "fig.update_layout(height=600, margin={\"r\":10,\"t\":60,\"l\":20,\"b\":50})"
   ]
  },
  {
   "cell_type": "code",
   "execution_count": 28,
   "metadata": {},
   "outputs": [],
   "source": [
    "scl=px.colors.qualitative.Plotly"
   ]
  },
  {
   "cell_type": "code",
   "execution_count": 113,
   "metadata": {},
   "outputs": [
    {
     "data": {
      "text/plain": [
       "'2,196'"
      ]
     },
     "execution_count": 113,
     "metadata": {},
     "output_type": "execute_result"
    }
   ],
   "source": [
    "i=0\n",
    "\"{:,}\".format(migration.loc[i,'num'])"
   ]
  },
  {
   "cell_type": "code",
   "execution_count": 135,
   "metadata": {},
   "outputs": [],
   "source": [
    "slider_value=60"
   ]
  },
  {
   "cell_type": "code",
   "execution_count": 136,
   "metadata": {},
   "outputs": [
    {
     "data": {
      "text/plain": [
       "2250.4666666666667"
      ]
     },
     "execution_count": 136,
     "metadata": {},
     "output_type": "execute_result"
    }
   ],
   "source": [
    "max(migration['num'])/slider_value"
   ]
  },
  {
   "cell_type": "code",
   "execution_count": 132,
   "metadata": {},
   "outputs": [
    {
     "data": {
      "application/vnd.plotly.v1+json": {
       "config": {
        "plotlyServerURL": "https://plot.ly"
       },
       "data": [
        {
         "type": "scattergeo"
        },
        {
         "hovertemplate": "From: Albania<br>To: Italy<br>12,165<extra></extra>",
         "lat": [
          41,
          42.8
         ],
         "line": {
          "color": "rgb(115, 175, 72)",
          "dash": "dash",
          "width": 2.433
         },
         "lon": [
          20,
          12.8
         ],
         "mode": "lines",
         "type": "scattergeo"
        },
        {
         "hovertemplate": "From: Albania<br>To: Greece<br>99,967<extra></extra>",
         "lat": [
          41,
          39
         ],
         "line": {
          "color": "rgb(148, 52, 110)",
          "dash": "dash",
          "width": 19.9934
         },
         "lon": [
          20,
          22
         ],
         "mode": "lines",
         "type": "scattergeo"
        },
        {
         "hovertemplate": "From: Australia<br>To: United Kingdom<br>20,217<extra></extra>",
         "lat": [
          -27,
          54
         ],
         "line": {
          "color": "rgb(115, 175, 72)",
          "dash": "dash",
          "width": 4.0434
         },
         "lon": [
          133,
          -2
         ],
         "mode": "lines",
         "type": "scattergeo"
        },
        {
         "hovertemplate": "From: Bangladesh<br>To: United States<br>12,099<extra></extra>",
         "lat": [
          24,
          38
         ],
         "line": {
          "color": "rgb(111, 64, 112)",
          "dash": "dash",
          "width": 2.4198
         },
         "lon": [
          90,
          -97
         ],
         "mode": "lines",
         "type": "scattergeo"
        },
        {
         "hovertemplate": "From: Bangladesh<br>To: Italy<br>10,487<extra></extra>",
         "lat": [
          24,
          42.8
         ],
         "line": {
          "color": "rgb(15, 133, 84)",
          "dash": "dash",
          "width": 2.0974
         },
         "lon": [
          90,
          12.8
         ],
         "mode": "lines",
         "type": "scattergeo"
        },
        {
         "hovertemplate": "From: Brazil<br>To: United States<br>11,033<extra></extra>",
         "lat": [
          -10,
          38
         ],
         "line": {
          "color": "rgb(102, 102, 102)",
          "dash": "dash",
          "width": 2.2066
         },
         "lon": [
          -55,
          -97
         ],
         "mode": "lines",
         "type": "scattergeo"
        },
        {
         "hovertemplate": "From: Bulgaria<br>To: Germany<br>24,093<extra></extra>",
         "lat": [
          43,
          51
         ],
         "line": {
          "color": "rgb(204, 80, 62)",
          "dash": "dash",
          "width": 4.8186
         },
         "lon": [
          25,
          9
         ],
         "mode": "lines",
         "type": "scattergeo"
        },
        {
         "hovertemplate": "From: Canada<br>To: United States<br>13,181<extra></extra>",
         "lat": [
          60,
          38
         ],
         "line": {
          "color": "rgb(56, 166, 165)",
          "dash": "dash",
          "width": 2.6362
         },
         "lon": [
          -95,
          -97
         ],
         "mode": "lines",
         "type": "scattergeo"
        },
        {
         "hovertemplate": "From: Colombia<br>To: United States<br>21,131<extra></extra>",
         "lat": [
          4,
          38
         ],
         "line": {
          "color": "rgb(111, 64, 112)",
          "dash": "dash",
          "width": 4.2262
         },
         "lon": [
          -72,
          -97
         ],
         "mode": "lines",
         "type": "scattergeo"
        },
        {
         "hovertemplate": "From: Cuba<br>To: United States<br>32,219<extra></extra>",
         "lat": [
          21.5,
          38
         ],
         "line": {
          "color": "rgb(15, 133, 84)",
          "dash": "dash",
          "width": 6.4438
         },
         "lon": [
          -80,
          -97
         ],
         "mode": "lines",
         "type": "scattergeo"
        },
        {
         "hovertemplate": "From: Dominican Republic<br>To: United States<br>41,311<extra></extra>",
         "lat": [
          19,
          38
         ],
         "line": {
          "color": "rgb(225, 124, 5)",
          "dash": "dash",
          "width": 8.2622
         },
         "lon": [
          -70.7,
          -97
         ],
         "mode": "lines",
         "type": "scattergeo"
        },
        {
         "hovertemplate": "From: Ecuador<br>To: United States<br>10,591<extra></extra>",
         "lat": [
          -2,
          38
         ],
         "line": {
          "color": "rgb(237, 173, 8)",
          "dash": "dash",
          "width": 2.1182
         },
         "lon": [
          -77.5,
          -97
         ],
         "mode": "lines",
         "type": "scattergeo"
        },
        {
         "hovertemplate": "From: Egypt<br>To: United States<br>10,294<extra></extra>",
         "lat": [
          27,
          38
         ],
         "line": {
          "color": "rgb(115, 175, 72)",
          "dash": "dash",
          "width": 2.0588
         },
         "lon": [
          30,
          -97
         ],
         "mode": "lines",
         "type": "scattergeo"
        },
        {
         "hovertemplate": "From: El Salvador<br>To: United States<br>18,260<extra></extra>",
         "lat": [
          13.8,
          38
         ],
         "line": {
          "color": "rgb(15, 133, 84)",
          "dash": "dash",
          "width": 3.652
         },
         "lon": [
          -88.9,
          -97
         ],
         "mode": "lines",
         "type": "scattergeo"
        },
        {
         "hovertemplate": "From: Ethiopia<br>To: United States<br>13,097<extra></extra>",
         "lat": [
          8,
          38
         ],
         "line": {
          "color": "rgb(102, 102, 102)",
          "dash": "dash",
          "width": 2.6194
         },
         "lon": [
          38,
          -97
         ],
         "mode": "lines",
         "type": "scattergeo"
        },
        {
         "hovertemplate": "From: France<br>To: Switzerland<br>12,543<extra></extra>",
         "lat": [
          46,
          47
         ],
         "line": {
          "color": "rgb(102, 102, 102)",
          "dash": "dash",
          "width": 2.5086
         },
         "lon": [
          2,
          8
         ],
         "mode": "lines",
         "type": "scattergeo"
        },
        {
         "hovertemplate": "From: France<br>To: Germany<br>12,979<extra></extra>",
         "lat": [
          46,
          51
         ],
         "line": {
          "color": "rgb(225, 124, 5)",
          "dash": "dash",
          "width": 2.5958
         },
         "lon": [
          2,
          9
         ],
         "mode": "lines",
         "type": "scattergeo"
        },
        {
         "hovertemplate": "From: France<br>To: Belgium<br>12,282<extra></extra>",
         "lat": [
          46,
          50.8
         ],
         "line": {
          "color": "rgb(115, 175, 72)",
          "dash": "dash",
          "width": 2.4564
         },
         "lon": [
          2,
          4
         ],
         "mode": "lines",
         "type": "scattergeo"
        },
        {
         "hovertemplate": "From: Germany<br>To: United Kingdom<br>13,617<extra></extra>",
         "lat": [
          51,
          54
         ],
         "line": {
          "color": "rgb(115, 175, 72)",
          "dash": "dash",
          "width": 2.7234
         },
         "lon": [
          9,
          -2
         ],
         "mode": "lines",
         "type": "scattergeo"
        },
        {
         "hovertemplate": "From: Germany<br>To: Switzerland<br>23,289<extra></extra>",
         "lat": [
          51,
          47
         ],
         "line": {
          "color": "rgb(225, 124, 5)",
          "dash": "dash",
          "width": 4.6578
         },
         "lon": [
          9,
          8
         ],
         "mode": "lines",
         "type": "scattergeo"
        },
        {
         "hovertemplate": "From: Germany<br>To: Austria<br>13,513<extra></extra>",
         "lat": [
          51,
          47.3
         ],
         "line": {
          "color": "rgb(29, 105, 150)",
          "dash": "dash",
          "width": 2.7026
         },
         "lon": [
          9,
          13.3
         ],
         "mode": "lines",
         "type": "scattergeo"
        },
        {
         "hovertemplate": "From: Ghana<br>To: United States<br>10,265<extra></extra>",
         "lat": [
          8,
          38
         ],
         "line": {
          "color": "rgb(56, 166, 165)",
          "dash": "dash",
          "width": 2.053
         },
         "lon": [
          -2,
          -97
         ],
         "mode": "lines",
         "type": "scattergeo"
        },
        {
         "hovertemplate": "From: Guatemala<br>To: United States<br>10,224<extra></extra>",
         "lat": [
          15.5,
          38
         ],
         "line": {
          "color": "rgb(102, 102, 102)",
          "dash": "dash",
          "width": 2.0448
         },
         "lon": [
          -90.3,
          -97
         ],
         "mode": "lines",
         "type": "scattergeo"
        },
        {
         "hovertemplate": "From: Haiti<br>To: United States<br>20,351<extra></extra>",
         "lat": [
          19,
          38
         ],
         "line": {
          "color": "rgb(225, 124, 5)",
          "dash": "dash",
          "width": 4.0702
         },
         "lon": [
          -72.4,
          -97
         ],
         "mode": "lines",
         "type": "scattergeo"
        },
        {
         "hovertemplate": "From: Hungary<br>To: Germany<br>25,151<extra></extra>",
         "lat": [
          47,
          51
         ],
         "line": {
          "color": "rgb(56, 166, 165)",
          "dash": "dash",
          "width": 5.0302
         },
         "lon": [
          20,
          9
         ],
         "mode": "lines",
         "type": "scattergeo"
        },
        {
         "hovertemplate": "From: India<br>To: United States<br>68,458<extra></extra>",
         "lat": [
          20,
          38
         ],
         "line": {
          "color": "rgb(29, 105, 150)",
          "dash": "dash",
          "width": 13.6916
         },
         "lon": [
          77,
          -97
         ],
         "mode": "lines",
         "type": "scattergeo"
        },
        {
         "hovertemplate": "From: India<br>To: United Kingdom<br>46,621<extra></extra>",
         "lat": [
          20,
          54
         ],
         "line": {
          "color": "rgb(56, 166, 165)",
          "dash": "dash",
          "width": 9.3242
         },
         "lon": [
          77,
          -2
         ],
         "mode": "lines",
         "type": "scattergeo"
        },
        {
         "hovertemplate": "From: India<br>To: Italy<br>10,814<extra></extra>",
         "lat": [
          20,
          42.8
         ],
         "line": {
          "color": "rgb(225, 124, 5)",
          "dash": "dash",
          "width": 2.1628
         },
         "lon": [
          77,
          12.8
         ],
         "mode": "lines",
         "type": "scattergeo"
        },
        {
         "hovertemplate": "From: India<br>To: Germany<br>11,403<extra></extra>",
         "lat": [
          20,
          51
         ],
         "line": {
          "color": "rgb(95, 70, 144)",
          "dash": "dash",
          "width": 2.2806
         },
         "lon": [
          77,
          9
         ],
         "mode": "lines",
         "type": "scattergeo"
        },
        {
         "hovertemplate": "From: India<br>To: Canada<br>33,087<extra></extra>",
         "lat": [
          20,
          60
         ],
         "line": {
          "color": "rgb(204, 80, 62)",
          "dash": "dash",
          "width": 6.6174
         },
         "lon": [
          77,
          -95
         ],
         "mode": "lines",
         "type": "scattergeo"
        },
        {
         "hovertemplate": "From: Iran, Islamic Republic of<br>To: United States<br>12,863<extra></extra>",
         "lat": [
          32,
          38
         ],
         "line": {
          "color": "rgb(102, 102, 102)",
          "dash": "dash",
          "width": 2.5726
         },
         "lon": [
          53,
          -97
         ],
         "mode": "lines",
         "type": "scattergeo"
        },
        {
         "hovertemplate": "From: Iran, Islamic Republic of<br>To: Canada<br>11,291<extra></extra>",
         "lat": [
          32,
          60
         ],
         "line": {
          "color": "rgb(237, 173, 8)",
          "dash": "dash",
          "width": 2.2582
         },
         "lon": [
          53,
          -95
         ],
         "mode": "lines",
         "type": "scattergeo"
        },
        {
         "hovertemplate": "From: Italy<br>To: Switzerland<br>15,942<extra></extra>",
         "lat": [
          42.8,
          47
         ],
         "line": {
          "color": "rgb(111, 64, 112)",
          "dash": "dash",
          "width": 3.1884
         },
         "lon": [
          12.8,
          8
         ],
         "mode": "lines",
         "type": "scattergeo"
        },
        {
         "hovertemplate": "From: Italy<br>To: Spain<br>12,184<extra></extra>",
         "lat": [
          42.8,
          40
         ],
         "line": {
          "color": "rgb(95, 70, 144)",
          "dash": "dash",
          "width": 2.4368
         },
         "lon": [
          12.8,
          -4
         ],
         "mode": "lines",
         "type": "scattergeo"
        },
        {
         "hovertemplate": "From: Italy<br>To: Germany<br>20,087<extra></extra>",
         "lat": [
          42.8,
          51
         ],
         "line": {
          "color": "rgb(237, 173, 8)",
          "dash": "dash",
          "width": 4.0174
         },
         "lon": [
          12.8,
          9
         ],
         "mode": "lines",
         "type": "scattergeo"
        },
        {
         "hovertemplate": "From: Jamaica<br>To: United States<br>19,400<extra></extra>",
         "lat": [
          18.3,
          38
         ],
         "line": {
          "color": "rgb(237, 173, 8)",
          "dash": "dash",
          "width": 3.88
         },
         "lon": [
          -77.5,
          -97
         ],
         "mode": "lines",
         "type": "scattergeo"
        },
        {
         "hovertemplate": "From: Mexico<br>To: United States<br>135,028<extra></extra>",
         "lat": [
          23,
          38
         ],
         "line": {
          "color": "rgb(29, 105, 150)",
          "dash": "dash",
          "width": 27.0056
         },
         "lon": [
          -102,
          -97
         ],
         "mode": "lines",
         "type": "scattergeo"
        },
        {
         "hovertemplate": "From: Morocco<br>To: Spain<br>20,517<extra></extra>",
         "lat": [
          32,
          40
         ],
         "line": {
          "color": "rgb(29, 105, 150)",
          "dash": "dash",
          "width": 4.1034
         },
         "lon": [
          -5,
          -4
         ],
         "mode": "lines",
         "type": "scattergeo"
        },
        {
         "hovertemplate": "From: Morocco<br>To: Italy<br>19,568<extra></extra>",
         "lat": [
          32,
          42.8
         ],
         "line": {
          "color": "rgb(29, 105, 150)",
          "dash": "dash",
          "width": 3.9136
         },
         "lon": [
          -5,
          12.8
         ],
         "mode": "lines",
         "type": "scattergeo"
        },
        {
         "hovertemplate": "From: Myanmar<br>To: United States<br>12,565<extra></extra>",
         "lat": [
          22,
          38
         ],
         "line": {
          "color": "rgb(237, 173, 8)",
          "dash": "dash",
          "width": 2.513
         },
         "lon": [
          98,
          -97
         ],
         "mode": "lines",
         "type": "scattergeo"
        },
        {
         "hovertemplate": "From: Nepal<br>To: United States<br>13,046<extra></extra>",
         "lat": [
          28,
          38
         ],
         "line": {
          "color": "rgb(15, 133, 84)",
          "dash": "dash",
          "width": 2.6092
         },
         "lon": [
          84,
          -97
         ],
         "mode": "lines",
         "type": "scattergeo"
        },
        {
         "hovertemplate": "From: Netherlands<br>To: Germany<br>11,203<extra></extra>",
         "lat": [
          52.5,
          51
         ],
         "line": {
          "color": "rgb(29, 105, 150)",
          "dash": "dash",
          "width": 2.2406
         },
         "lon": [
          5.8,
          9
         ],
         "mode": "lines",
         "type": "scattergeo"
        },
        {
         "hovertemplate": "From: New Zealand<br>To: United Kingdom<br>11,703<extra></extra>",
         "lat": [
          -41,
          54
         ],
         "line": {
          "color": "rgb(56, 166, 165)",
          "dash": "dash",
          "width": 2.3406
         },
         "lon": [
          174,
          -2
         ],
         "mode": "lines",
         "type": "scattergeo"
        },
        {
         "hovertemplate": "From: Nigeria<br>To: United States<br>13,840<extra></extra>",
         "lat": [
          10,
          38
         ],
         "line": {
          "color": "rgb(111, 64, 112)",
          "dash": "dash",
          "width": 2.768
         },
         "lon": [
          8,
          -97
         ],
         "mode": "lines",
         "type": "scattergeo"
        },
        {
         "hovertemplate": "From: Pakistan<br>To: United States<br>13,251<extra></extra>",
         "lat": [
          30,
          38
         ],
         "line": {
          "color": "rgb(225, 124, 5)",
          "dash": "dash",
          "width": 2.6502
         },
         "lon": [
          70,
          -97
         ],
         "mode": "lines",
         "type": "scattergeo"
        },
        {
         "hovertemplate": "From: Pakistan<br>To: United Kingdom<br>15,758<extra></extra>",
         "lat": [
          30,
          54
         ],
         "line": {
          "color": "rgb(204, 80, 62)",
          "dash": "dash",
          "width": 3.1516
         },
         "lon": [
          70,
          -2
         ],
         "mode": "lines",
         "type": "scattergeo"
        },
        {
         "hovertemplate": "From: Pakistan<br>To: Canada<br>12,603<extra></extra>",
         "lat": [
          30,
          60
         ],
         "line": {
          "color": "rgb(29, 105, 150)",
          "dash": "dash",
          "width": 2.5206
         },
         "lon": [
          70,
          -95
         ],
         "mode": "lines",
         "type": "scattergeo"
        },
        {
         "hovertemplate": "From: Peru<br>To: United States<br>12,564<extra></extra>",
         "lat": [
          -10,
          38
         ],
         "line": {
          "color": "rgb(56, 166, 165)",
          "dash": "dash",
          "width": 2.5128
         },
         "lon": [
          -76,
          -97
         ],
         "mode": "lines",
         "type": "scattergeo"
        },
        {
         "hovertemplate": "From: Philippines<br>To: United States<br>54,446<extra></extra>",
         "lat": [
          13,
          38
         ],
         "line": {
          "color": "rgb(29, 105, 150)",
          "dash": "dash",
          "width": 10.8892
         },
         "lon": [
          122,
          -97
         ],
         "mode": "lines",
         "type": "scattergeo"
        },
        {
         "hovertemplate": "From: Philippines<br>To: Canada<br>29,544<extra></extra>",
         "lat": [
          13,
          60
         ],
         "line": {
          "color": "rgb(204, 80, 62)",
          "dash": "dash",
          "width": 5.9088
         },
         "lon": [
          122,
          -95
         ],
         "mode": "lines",
         "type": "scattergeo"
        },
        {
         "hovertemplate": "From: Poland<br>To: United Kingdom<br>49,172<extra></extra>",
         "lat": [
          52,
          54
         ],
         "line": {
          "color": "rgb(29, 105, 150)",
          "dash": "dash",
          "width": 9.8344
         },
         "lon": [
          20,
          -2
         ],
         "mode": "lines",
         "type": "scattergeo"
        },
        {
         "hovertemplate": "From: Poland<br>To: Norway<br>10,125<extra></extra>",
         "lat": [
          52,
          62
         ],
         "line": {
          "color": "rgb(95, 70, 144)",
          "dash": "dash",
          "width": 2.025
         },
         "lon": [
          20,
          10
         ],
         "mode": "lines",
         "type": "scattergeo"
        },
        {
         "hovertemplate": "From: Poland<br>To: Netherlands<br>15,489<extra></extra>",
         "lat": [
          52,
          52.5
         ],
         "line": {
          "color": "rgb(56, 166, 165)",
          "dash": "dash",
          "width": 3.0978
         },
         "lon": [
          20,
          5.8
         ],
         "mode": "lines",
         "type": "scattergeo"
        },
        {
         "hovertemplate": "From: Poland<br>To: Germany<br>119,867<extra></extra>",
         "lat": [
          52,
          51
         ],
         "line": {
          "color": "rgb(102, 102, 102)",
          "dash": "dash",
          "width": 23.9734
         },
         "lon": [
          20,
          9
         ],
         "mode": "lines",
         "type": "scattergeo"
        },
        {
         "hovertemplate": "From: Portugal<br>To: Switzerland<br>14,615<extra></extra>",
         "lat": [
          39.5,
          47
         ],
         "line": {
          "color": "rgb(56, 166, 165)",
          "dash": "dash",
          "width": 2.923
         },
         "lon": [
          -8,
          8
         ],
         "mode": "lines",
         "type": "scattergeo"
        },
        {
         "hovertemplate": "From: Korea, Republic of<br>To: United States<br>23,166<extra></extra>",
         "lat": [
          37,
          38
         ],
         "line": {
          "color": "rgb(148, 52, 110)",
          "dash": "dash",
          "width": 4.6332
         },
         "lon": [
          127.5,
          -97
         ],
         "mode": "lines",
         "type": "scattergeo"
        },
        {
         "hovertemplate": "From: Romania<br>To: Spain<br>22,775<extra></extra>",
         "lat": [
          46,
          40
         ],
         "line": {
          "color": "rgb(95, 70, 144)",
          "dash": "dash",
          "width": 4.555
         },
         "lon": [
          25,
          -4
         ],
         "mode": "lines",
         "type": "scattergeo"
        },
        {
         "hovertemplate": "From: Romania<br>To: Italy<br>58,227<extra></extra>",
         "lat": [
          46,
          42.8
         ],
         "line": {
          "color": "rgb(95, 70, 144)",
          "dash": "dash",
          "width": 11.6454
         },
         "lon": [
          25,
          12.8
         ],
         "mode": "lines",
         "type": "scattergeo"
        },
        {
         "hovertemplate": "From: Romania<br>To: Germany<br>48,225<extra></extra>",
         "lat": [
          46,
          51
         ],
         "line": {
          "color": "rgb(237, 173, 8)",
          "dash": "dash",
          "width": 9.645
         },
         "lon": [
          25,
          9
         ],
         "mode": "lines",
         "type": "scattergeo"
        },
        {
         "hovertemplate": "From: Russian Federation<br>To: Germany<br>15,052<extra></extra>",
         "lat": [
          60,
          51
         ],
         "line": {
          "color": "rgb(115, 175, 72)",
          "dash": "dash",
          "width": 3.0104
         },
         "lon": [
          100,
          9
         ],
         "mode": "lines",
         "type": "scattergeo"
        },
        {
         "hovertemplate": "From: Serbia<br>To: Germany<br>11,556<extra></extra>",
         "lat": [
          44,
          51
         ],
         "line": {
          "color": "rgb(237, 173, 8)",
          "dash": "dash",
          "width": 2.3112
         },
         "lon": [
          21,
          9
         ],
         "mode": "lines",
         "type": "scattergeo"
        },
        {
         "hovertemplate": "From: Somalia<br>To: Sweden<br>10,966<extra></extra>",
         "lat": [
          10,
          62
         ],
         "line": {
          "color": "rgb(15, 133, 84)",
          "dash": "dash",
          "width": 2.1932
         },
         "lon": [
          49,
          15
         ],
         "mode": "lines",
         "type": "scattergeo"
        },
        {
         "hovertemplate": "From: South Africa<br>To: United Kingdom<br>24,291<extra></extra>",
         "lat": [
          -29,
          54
         ],
         "line": {
          "color": "rgb(102, 102, 102)",
          "dash": "dash",
          "width": 4.8582
         },
         "lon": [
          24,
          -2
         ],
         "mode": "lines",
         "type": "scattergeo"
        },
        {
         "hovertemplate": "From: Syrian Arab Republic<br>To: Sweden<br>11,749<extra></extra>",
         "lat": [
          35,
          62
         ],
         "line": {
          "color": "rgb(237, 173, 8)",
          "dash": "dash",
          "width": 2.3498
         },
         "lon": [
          38,
          15
         ],
         "mode": "lines",
         "type": "scattergeo"
        },
        {
         "hovertemplate": "From: Turkey<br>To: Germany<br>26,653<extra></extra>",
         "lat": [
          39,
          51
         ],
         "line": {
          "color": "rgb(56, 166, 165)",
          "dash": "dash",
          "width": 5.3306
         },
         "lon": [
          35,
          9
         ],
         "mode": "lines",
         "type": "scattergeo"
        },
        {
         "hovertemplate": "From: Ukraine<br>To: Russian Federation<br>10,240<extra></extra>",
         "lat": [
          49,
          60
         ],
         "line": {
          "color": "rgb(204, 80, 62)",
          "dash": "dash",
          "width": 2.048
         },
         "lon": [
          32,
          100
         ],
         "mode": "lines",
         "type": "scattergeo"
        },
        {
         "hovertemplate": "From: Ukraine<br>To: Italy<br>12,814<extra></extra>",
         "lat": [
          49,
          42.8
         ],
         "line": {
          "color": "rgb(115, 175, 72)",
          "dash": "dash",
          "width": 2.5628
         },
         "lon": [
          32,
          12.8
         ],
         "mode": "lines",
         "type": "scattergeo"
        },
        {
         "hovertemplate": "From: United Kingdom<br>To: United States<br>12,984<extra></extra>",
         "lat": [
          54,
          38
         ],
         "line": {
          "color": "rgb(148, 52, 110)",
          "dash": "dash",
          "width": 2.5968
         },
         "lon": [
          -2,
          -97
         ],
         "mode": "lines",
         "type": "scattergeo"
        },
        {
         "hovertemplate": "From: United Kingdom<br>To: Spain<br>14,146<extra></extra>",
         "lat": [
          54,
          40
         ],
         "line": {
          "color": "rgb(56, 166, 165)",
          "dash": "dash",
          "width": 2.8292
         },
         "lon": [
          -2,
          -4
         ],
         "mode": "lines",
         "type": "scattergeo"
        },
        {
         "hovertemplate": "From: United Kingdom<br>To: New Zealand<br>10,082<extra></extra>",
         "lat": [
          54,
          -41
         ],
         "line": {
          "color": "rgb(111, 64, 112)",
          "dash": "dash",
          "width": 2.0164
         },
         "lon": [
          -2,
          174
         ],
         "mode": "lines",
         "type": "scattergeo"
        },
        {
         "hovertemplate": "From: United States<br>To: United Kingdom<br>14,531<extra></extra>",
         "lat": [
          38,
          54
         ],
         "line": {
          "color": "rgb(204, 80, 62)",
          "dash": "dash",
          "width": 2.9062
         },
         "lon": [
          -97,
          -2
         ],
         "mode": "lines",
         "type": "scattergeo"
        },
        {
         "hovertemplate": "From: United States<br>To: Germany<br>17,542<extra></extra>",
         "lat": [
          38,
          51
         ],
         "line": {
          "color": "rgb(237, 173, 8)",
          "dash": "dash",
          "width": 3.5084
         },
         "lon": [
          -97,
          9
         ],
         "mode": "lines",
         "type": "scattergeo"
        },
        {
         "hovertemplate": "From: Viet Nam<br>To: United States<br>27,101<extra></extra>",
         "lat": [
          16,
          38
         ],
         "line": {
          "color": "rgb(29, 105, 150)",
          "dash": "dash",
          "width": 5.4202
         },
         "lon": [
          106,
          -97
         ],
         "mode": "lines",
         "type": "scattergeo"
        },
        {
         "hovertemplate": "From: Albania<br>To: Italy<br>12,165<extra></extra>",
         "lat": [
          41,
          42.8
         ],
         "line": {
          "color": "#FF97FF",
          "dash": "dash",
          "width": 2.433
         },
         "lon": [
          20,
          12.8
         ],
         "mode": "lines",
         "type": "scattergeo"
        },
        {
         "hovertemplate": "From: Albania<br>To: Greece<br>99,967<extra></extra>",
         "lat": [
          41,
          39
         ],
         "line": {
          "color": "#00CC96",
          "dash": "dash",
          "width": 19.9934
         },
         "lon": [
          20,
          22
         ],
         "mode": "lines",
         "type": "scattergeo"
        },
        {
         "hovertemplate": "From: Australia<br>To: United Kingdom<br>20,217<extra></extra>",
         "lat": [
          -27,
          54
         ],
         "line": {
          "color": "#B6E880",
          "dash": "dash",
          "width": 4.0434
         },
         "lon": [
          133,
          -2
         ],
         "mode": "lines",
         "type": "scattergeo"
        },
        {
         "hovertemplate": "From: Bangladesh<br>To: United States<br>12,099<extra></extra>",
         "lat": [
          24,
          38
         ],
         "line": {
          "color": "#FF6692",
          "dash": "dash",
          "width": 2.4198
         },
         "lon": [
          90,
          -97
         ],
         "mode": "lines",
         "type": "scattergeo"
        },
        {
         "hovertemplate": "From: Bangladesh<br>To: Italy<br>10,487<extra></extra>",
         "lat": [
          24,
          42.8
         ],
         "line": {
          "color": "#00CC96",
          "dash": "dash",
          "width": 2.0974
         },
         "lon": [
          90,
          12.8
         ],
         "mode": "lines",
         "type": "scattergeo"
        },
        {
         "hovertemplate": "From: Brazil<br>To: United States<br>11,033<extra></extra>",
         "lat": [
          -10,
          38
         ],
         "line": {
          "color": "#FF6692",
          "dash": "dash",
          "width": 2.2066
         },
         "lon": [
          -55,
          -97
         ],
         "mode": "lines",
         "type": "scattergeo"
        },
        {
         "hovertemplate": "From: Bulgaria<br>To: Germany<br>24,093<extra></extra>",
         "lat": [
          43,
          51
         ],
         "line": {
          "color": "#EF553B",
          "dash": "dash",
          "width": 4.8186
         },
         "lon": [
          25,
          9
         ],
         "mode": "lines",
         "type": "scattergeo"
        },
        {
         "hovertemplate": "From: Canada<br>To: United States<br>13,181<extra></extra>",
         "lat": [
          60,
          38
         ],
         "line": {
          "color": "#00CC96",
          "dash": "dash",
          "width": 2.6362
         },
         "lon": [
          -95,
          -97
         ],
         "mode": "lines",
         "type": "scattergeo"
        },
        {
         "hovertemplate": "From: Colombia<br>To: United States<br>21,131<extra></extra>",
         "lat": [
          4,
          38
         ],
         "line": {
          "color": "#636EFA",
          "dash": "dash",
          "width": 4.2262
         },
         "lon": [
          -72,
          -97
         ],
         "mode": "lines",
         "type": "scattergeo"
        },
        {
         "hovertemplate": "From: Cuba<br>To: United States<br>32,219<extra></extra>",
         "lat": [
          21.5,
          38
         ],
         "line": {
          "color": "#00CC96",
          "dash": "dash",
          "width": 6.4438
         },
         "lon": [
          -80,
          -97
         ],
         "mode": "lines",
         "type": "scattergeo"
        },
        {
         "hovertemplate": "From: Dominican Republic<br>To: United States<br>41,311<extra></extra>",
         "lat": [
          19,
          38
         ],
         "line": {
          "color": "#FF97FF",
          "dash": "dash",
          "width": 8.2622
         },
         "lon": [
          -70.7,
          -97
         ],
         "mode": "lines",
         "type": "scattergeo"
        },
        {
         "hovertemplate": "From: Ecuador<br>To: United States<br>10,591<extra></extra>",
         "lat": [
          -2,
          38
         ],
         "line": {
          "color": "#636EFA",
          "dash": "dash",
          "width": 2.1182
         },
         "lon": [
          -77.5,
          -97
         ],
         "mode": "lines",
         "type": "scattergeo"
        },
        {
         "hovertemplate": "From: Egypt<br>To: United States<br>10,294<extra></extra>",
         "lat": [
          27,
          38
         ],
         "line": {
          "color": "#00CC96",
          "dash": "dash",
          "width": 2.0588
         },
         "lon": [
          30,
          -97
         ],
         "mode": "lines",
         "type": "scattergeo"
        },
        {
         "hovertemplate": "From: El Salvador<br>To: United States<br>18,260<extra></extra>",
         "lat": [
          13.8,
          38
         ],
         "line": {
          "color": "#FFA15A",
          "dash": "dash",
          "width": 3.652
         },
         "lon": [
          -88.9,
          -97
         ],
         "mode": "lines",
         "type": "scattergeo"
        },
        {
         "hovertemplate": "From: Ethiopia<br>To: United States<br>13,097<extra></extra>",
         "lat": [
          8,
          38
         ],
         "line": {
          "color": "#00CC96",
          "dash": "dash",
          "width": 2.6194
         },
         "lon": [
          38,
          -97
         ],
         "mode": "lines",
         "type": "scattergeo"
        },
        {
         "hovertemplate": "From: France<br>To: Switzerland<br>12,543<extra></extra>",
         "lat": [
          46,
          47
         ],
         "line": {
          "color": "#EF553B",
          "dash": "dash",
          "width": 2.5086
         },
         "lon": [
          2,
          8
         ],
         "mode": "lines",
         "type": "scattergeo"
        },
        {
         "hovertemplate": "From: France<br>To: Germany<br>12,979<extra></extra>",
         "lat": [
          46,
          51
         ],
         "line": {
          "color": "#FECB52",
          "dash": "dash",
          "width": 2.5958
         },
         "lon": [
          2,
          9
         ],
         "mode": "lines",
         "type": "scattergeo"
        },
        {
         "hovertemplate": "From: France<br>To: Belgium<br>12,282<extra></extra>",
         "lat": [
          46,
          50.8
         ],
         "line": {
          "color": "#FF97FF",
          "dash": "dash",
          "width": 2.4564
         },
         "lon": [
          2,
          4
         ],
         "mode": "lines",
         "type": "scattergeo"
        },
        {
         "hovertemplate": "From: Germany<br>To: United Kingdom<br>13,617<extra></extra>",
         "lat": [
          51,
          54
         ],
         "line": {
          "color": "#B6E880",
          "dash": "dash",
          "width": 2.7234
         },
         "lon": [
          9,
          -2
         ],
         "mode": "lines",
         "type": "scattergeo"
        },
        {
         "hovertemplate": "From: Germany<br>To: Switzerland<br>23,289<extra></extra>",
         "lat": [
          51,
          47
         ],
         "line": {
          "color": "#FECB52",
          "dash": "dash",
          "width": 4.6578
         },
         "lon": [
          9,
          8
         ],
         "mode": "lines",
         "type": "scattergeo"
        },
        {
         "hovertemplate": "From: Germany<br>To: Austria<br>13,513<extra></extra>",
         "lat": [
          51,
          47.3
         ],
         "line": {
          "color": "#B6E880",
          "dash": "dash",
          "width": 2.7026
         },
         "lon": [
          9,
          13.3
         ],
         "mode": "lines",
         "type": "scattergeo"
        },
        {
         "hovertemplate": "From: Ghana<br>To: United States<br>10,265<extra></extra>",
         "lat": [
          8,
          38
         ],
         "line": {
          "color": "#FF97FF",
          "dash": "dash",
          "width": 2.053
         },
         "lon": [
          -2,
          -97
         ],
         "mode": "lines",
         "type": "scattergeo"
        },
        {
         "hovertemplate": "From: Guatemala<br>To: United States<br>10,224<extra></extra>",
         "lat": [
          15.5,
          38
         ],
         "line": {
          "color": "#FFA15A",
          "dash": "dash",
          "width": 2.0448
         },
         "lon": [
          -90.3,
          -97
         ],
         "mode": "lines",
         "type": "scattergeo"
        },
        {
         "hovertemplate": "From: Haiti<br>To: United States<br>20,351<extra></extra>",
         "lat": [
          19,
          38
         ],
         "line": {
          "color": "#00CC96",
          "dash": "dash",
          "width": 4.0702
         },
         "lon": [
          -72.4,
          -97
         ],
         "mode": "lines",
         "type": "scattergeo"
        },
        {
         "hovertemplate": "From: Hungary<br>To: Germany<br>25,151<extra></extra>",
         "lat": [
          47,
          51
         ],
         "line": {
          "color": "#FECB52",
          "dash": "dash",
          "width": 5.0302
         },
         "lon": [
          20,
          9
         ],
         "mode": "lines",
         "type": "scattergeo"
        },
        {
         "hovertemplate": "From: India<br>To: United States<br>68,458<extra></extra>",
         "lat": [
          20,
          38
         ],
         "line": {
          "color": "#00CC96",
          "dash": "dash",
          "width": 13.6916
         },
         "lon": [
          77,
          -97
         ],
         "mode": "lines",
         "type": "scattergeo"
        },
        {
         "hovertemplate": "From: India<br>To: United Kingdom<br>46,621<extra></extra>",
         "lat": [
          20,
          54
         ],
         "line": {
          "color": "#AB63FA",
          "dash": "dash",
          "width": 9.3242
         },
         "lon": [
          77,
          -2
         ],
         "mode": "lines",
         "type": "scattergeo"
        },
        {
         "hovertemplate": "From: India<br>To: Italy<br>10,814<extra></extra>",
         "lat": [
          20,
          42.8
         ],
         "line": {
          "color": "#FF97FF",
          "dash": "dash",
          "width": 2.1628
         },
         "lon": [
          77,
          12.8
         ],
         "mode": "lines",
         "type": "scattergeo"
        },
        {
         "hovertemplate": "From: India<br>To: Germany<br>11,403<extra></extra>",
         "lat": [
          20,
          51
         ],
         "line": {
          "color": "#AB63FA",
          "dash": "dash",
          "width": 2.2806
         },
         "lon": [
          77,
          9
         ],
         "mode": "lines",
         "type": "scattergeo"
        },
        {
         "hovertemplate": "From: India<br>To: Canada<br>33,087<extra></extra>",
         "lat": [
          20,
          60
         ],
         "line": {
          "color": "#636EFA",
          "dash": "dash",
          "width": 6.6174
         },
         "lon": [
          77,
          -95
         ],
         "mode": "lines",
         "type": "scattergeo"
        },
        {
         "hovertemplate": "From: Iran, Islamic Republic of<br>To: United States<br>12,863<extra></extra>",
         "lat": [
          32,
          38
         ],
         "line": {
          "color": "#FF6692",
          "dash": "dash",
          "width": 2.5726
         },
         "lon": [
          53,
          -97
         ],
         "mode": "lines",
         "type": "scattergeo"
        },
        {
         "hovertemplate": "From: Iran, Islamic Republic of<br>To: Canada<br>11,291<extra></extra>",
         "lat": [
          32,
          60
         ],
         "line": {
          "color": "#FFA15A",
          "dash": "dash",
          "width": 2.2582
         },
         "lon": [
          53,
          -95
         ],
         "mode": "lines",
         "type": "scattergeo"
        },
        {
         "hovertemplate": "From: Italy<br>To: Switzerland<br>15,942<extra></extra>",
         "lat": [
          42.8,
          47
         ],
         "line": {
          "color": "#B6E880",
          "dash": "dash",
          "width": 3.1884
         },
         "lon": [
          12.8,
          8
         ],
         "mode": "lines",
         "type": "scattergeo"
        },
        {
         "hovertemplate": "From: Italy<br>To: Spain<br>12,184<extra></extra>",
         "lat": [
          42.8,
          40
         ],
         "line": {
          "color": "#FECB52",
          "dash": "dash",
          "width": 2.4368
         },
         "lon": [
          12.8,
          -4
         ],
         "mode": "lines",
         "type": "scattergeo"
        },
        {
         "hovertemplate": "From: Italy<br>To: Germany<br>20,087<extra></extra>",
         "lat": [
          42.8,
          51
         ],
         "line": {
          "color": "#19D3F3",
          "dash": "dash",
          "width": 4.0174
         },
         "lon": [
          12.8,
          9
         ],
         "mode": "lines",
         "type": "scattergeo"
        },
        {
         "hovertemplate": "From: Jamaica<br>To: United States<br>19,400<extra></extra>",
         "lat": [
          18.3,
          38
         ],
         "line": {
          "color": "#FF6692",
          "dash": "dash",
          "width": 3.88
         },
         "lon": [
          -77.5,
          -97
         ],
         "mode": "lines",
         "type": "scattergeo"
        },
        {
         "hovertemplate": "From: Mexico<br>To: United States<br>135,028<extra></extra>",
         "lat": [
          23,
          38
         ],
         "line": {
          "color": "#FF97FF",
          "dash": "dash",
          "width": 27.0056
         },
         "lon": [
          -102,
          -97
         ],
         "mode": "lines",
         "type": "scattergeo"
        },
        {
         "hovertemplate": "From: Morocco<br>To: Spain<br>20,517<extra></extra>",
         "lat": [
          32,
          40
         ],
         "line": {
          "color": "#AB63FA",
          "dash": "dash",
          "width": 4.1034
         },
         "lon": [
          -5,
          -4
         ],
         "mode": "lines",
         "type": "scattergeo"
        },
        {
         "hovertemplate": "From: Morocco<br>To: Italy<br>19,568<extra></extra>",
         "lat": [
          32,
          42.8
         ],
         "line": {
          "color": "#FFA15A",
          "dash": "dash",
          "width": 3.9136
         },
         "lon": [
          -5,
          12.8
         ],
         "mode": "lines",
         "type": "scattergeo"
        },
        {
         "hovertemplate": "From: Myanmar<br>To: United States<br>12,565<extra></extra>",
         "lat": [
          22,
          38
         ],
         "line": {
          "color": "#00CC96",
          "dash": "dash",
          "width": 2.513
         },
         "lon": [
          98,
          -97
         ],
         "mode": "lines",
         "type": "scattergeo"
        },
        {
         "hovertemplate": "From: Nepal<br>To: United States<br>13,046<extra></extra>",
         "lat": [
          28,
          38
         ],
         "line": {
          "color": "#FF6692",
          "dash": "dash",
          "width": 2.6092
         },
         "lon": [
          84,
          -97
         ],
         "mode": "lines",
         "type": "scattergeo"
        },
        {
         "hovertemplate": "From: Netherlands<br>To: Germany<br>11,203<extra></extra>",
         "lat": [
          52.5,
          51
         ],
         "line": {
          "color": "#FECB52",
          "dash": "dash",
          "width": 2.2406
         },
         "lon": [
          5.8,
          9
         ],
         "mode": "lines",
         "type": "scattergeo"
        },
        {
         "hovertemplate": "From: New Zealand<br>To: United Kingdom<br>11,703<extra></extra>",
         "lat": [
          -41,
          54
         ],
         "line": {
          "color": "#EF553B",
          "dash": "dash",
          "width": 2.3406
         },
         "lon": [
          174,
          -2
         ],
         "mode": "lines",
         "type": "scattergeo"
        },
        {
         "hovertemplate": "From: Nigeria<br>To: United States<br>13,840<extra></extra>",
         "lat": [
          10,
          38
         ],
         "line": {
          "color": "#FF6692",
          "dash": "dash",
          "width": 2.768
         },
         "lon": [
          8,
          -97
         ],
         "mode": "lines",
         "type": "scattergeo"
        },
        {
         "hovertemplate": "From: Pakistan<br>To: United States<br>13,251<extra></extra>",
         "lat": [
          30,
          38
         ],
         "line": {
          "color": "#00CC96",
          "dash": "dash",
          "width": 2.6502
         },
         "lon": [
          70,
          -97
         ],
         "mode": "lines",
         "type": "scattergeo"
        },
        {
         "hovertemplate": "From: Pakistan<br>To: United Kingdom<br>15,758<extra></extra>",
         "lat": [
          30,
          54
         ],
         "line": {
          "color": "#AB63FA",
          "dash": "dash",
          "width": 3.1516
         },
         "lon": [
          70,
          -2
         ],
         "mode": "lines",
         "type": "scattergeo"
        },
        {
         "hovertemplate": "From: Pakistan<br>To: Canada<br>12,603<extra></extra>",
         "lat": [
          30,
          60
         ],
         "line": {
          "color": "#636EFA",
          "dash": "dash",
          "width": 2.5206
         },
         "lon": [
          70,
          -95
         ],
         "mode": "lines",
         "type": "scattergeo"
        },
        {
         "hovertemplate": "From: Peru<br>To: United States<br>12,564<extra></extra>",
         "lat": [
          -10,
          38
         ],
         "line": {
          "color": "#636EFA",
          "dash": "dash",
          "width": 2.5128
         },
         "lon": [
          -76,
          -97
         ],
         "mode": "lines",
         "type": "scattergeo"
        },
        {
         "hovertemplate": "From: Philippines<br>To: United States<br>54,446<extra></extra>",
         "lat": [
          13,
          38
         ],
         "line": {
          "color": "#00CC96",
          "dash": "dash",
          "width": 10.8892
         },
         "lon": [
          122,
          -97
         ],
         "mode": "lines",
         "type": "scattergeo"
        },
        {
         "hovertemplate": "From: Philippines<br>To: Canada<br>29,544<extra></extra>",
         "lat": [
          13,
          60
         ],
         "line": {
          "color": "#636EFA",
          "dash": "dash",
          "width": 5.9088
         },
         "lon": [
          122,
          -95
         ],
         "mode": "lines",
         "type": "scattergeo"
        },
        {
         "hovertemplate": "From: Poland<br>To: United Kingdom<br>49,172<extra></extra>",
         "lat": [
          52,
          54
         ],
         "line": {
          "color": "#19D3F3",
          "dash": "dash",
          "width": 9.8344
         },
         "lon": [
          20,
          -2
         ],
         "mode": "lines",
         "type": "scattergeo"
        },
        {
         "hovertemplate": "From: Poland<br>To: Norway<br>10,125<extra></extra>",
         "lat": [
          52,
          62
         ],
         "line": {
          "color": "#19D3F3",
          "dash": "dash",
          "width": 2.025
         },
         "lon": [
          20,
          10
         ],
         "mode": "lines",
         "type": "scattergeo"
        },
        {
         "hovertemplate": "From: Poland<br>To: Netherlands<br>15,489<extra></extra>",
         "lat": [
          52,
          52.5
         ],
         "line": {
          "color": "#B6E880",
          "dash": "dash",
          "width": 3.0978
         },
         "lon": [
          20,
          5.8
         ],
         "mode": "lines",
         "type": "scattergeo"
        },
        {
         "hovertemplate": "From: Poland<br>To: Germany<br>119,867<extra></extra>",
         "lat": [
          52,
          51
         ],
         "line": {
          "color": "#19D3F3",
          "dash": "dash",
          "width": 23.9734
         },
         "lon": [
          20,
          9
         ],
         "mode": "lines",
         "type": "scattergeo"
        },
        {
         "hovertemplate": "From: Portugal<br>To: Switzerland<br>14,615<extra></extra>",
         "lat": [
          39.5,
          47
         ],
         "line": {
          "color": "#FECB52",
          "dash": "dash",
          "width": 2.923
         },
         "lon": [
          -8,
          8
         ],
         "mode": "lines",
         "type": "scattergeo"
        },
        {
         "hovertemplate": "From: Korea, Republic of<br>To: United States<br>23,166<extra></extra>",
         "lat": [
          37,
          38
         ],
         "line": {
          "color": "#636EFA",
          "dash": "dash",
          "width": 4.6332
         },
         "lon": [
          127.5,
          -97
         ],
         "mode": "lines",
         "type": "scattergeo"
        },
        {
         "hovertemplate": "From: Romania<br>To: Spain<br>22,775<extra></extra>",
         "lat": [
          46,
          40
         ],
         "line": {
          "color": "#FECB52",
          "dash": "dash",
          "width": 4.555
         },
         "lon": [
          25,
          -4
         ],
         "mode": "lines",
         "type": "scattergeo"
        },
        {
         "hovertemplate": "From: Romania<br>To: Italy<br>58,227<extra></extra>",
         "lat": [
          46,
          42.8
         ],
         "line": {
          "color": "#636EFA",
          "dash": "dash",
          "width": 11.6454
         },
         "lon": [
          25,
          12.8
         ],
         "mode": "lines",
         "type": "scattergeo"
        },
        {
         "hovertemplate": "From: Romania<br>To: Germany<br>48,225<extra></extra>",
         "lat": [
          46,
          51
         ],
         "line": {
          "color": "#19D3F3",
          "dash": "dash",
          "width": 9.645
         },
         "lon": [
          25,
          9
         ],
         "mode": "lines",
         "type": "scattergeo"
        },
        {
         "hovertemplate": "From: Russian Federation<br>To: Germany<br>15,052<extra></extra>",
         "lat": [
          60,
          51
         ],
         "line": {
          "color": "#B6E880",
          "dash": "dash",
          "width": 3.0104
         },
         "lon": [
          100,
          9
         ],
         "mode": "lines",
         "type": "scattergeo"
        },
        {
         "hovertemplate": "From: Serbia<br>To: Germany<br>11,556<extra></extra>",
         "lat": [
          44,
          51
         ],
         "line": {
          "color": "#B6E880",
          "dash": "dash",
          "width": 2.3112
         },
         "lon": [
          21,
          9
         ],
         "mode": "lines",
         "type": "scattergeo"
        },
        {
         "hovertemplate": "From: Somalia<br>To: Sweden<br>10,966<extra></extra>",
         "lat": [
          10,
          62
         ],
         "line": {
          "color": "#FFA15A",
          "dash": "dash",
          "width": 2.1932
         },
         "lon": [
          49,
          15
         ],
         "mode": "lines",
         "type": "scattergeo"
        },
        {
         "hovertemplate": "From: South Africa<br>To: United Kingdom<br>24,291<extra></extra>",
         "lat": [
          -29,
          54
         ],
         "line": {
          "color": "#AB63FA",
          "dash": "dash",
          "width": 4.8582
         },
         "lon": [
          24,
          -2
         ],
         "mode": "lines",
         "type": "scattergeo"
        },
        {
         "hovertemplate": "From: Syrian Arab Republic<br>To: Sweden<br>11,749<extra></extra>",
         "lat": [
          35,
          62
         ],
         "line": {
          "color": "#00CC96",
          "dash": "dash",
          "width": 2.3498
         },
         "lon": [
          38,
          15
         ],
         "mode": "lines",
         "type": "scattergeo"
        },
        {
         "hovertemplate": "From: Turkey<br>To: Germany<br>26,653<extra></extra>",
         "lat": [
          39,
          51
         ],
         "line": {
          "color": "#B6E880",
          "dash": "dash",
          "width": 5.3306
         },
         "lon": [
          35,
          9
         ],
         "mode": "lines",
         "type": "scattergeo"
        },
        {
         "hovertemplate": "From: Ukraine<br>To: Russian Federation<br>10,240<extra></extra>",
         "lat": [
          49,
          60
         ],
         "line": {
          "color": "#00CC96",
          "dash": "dash",
          "width": 2.048
         },
         "lon": [
          32,
          100
         ],
         "mode": "lines",
         "type": "scattergeo"
        },
        {
         "hovertemplate": "From: Ukraine<br>To: Italy<br>12,814<extra></extra>",
         "lat": [
          49,
          42.8
         ],
         "line": {
          "color": "#636EFA",
          "dash": "dash",
          "width": 2.5628
         },
         "lon": [
          32,
          12.8
         ],
         "mode": "lines",
         "type": "scattergeo"
        },
        {
         "hovertemplate": "From: United Kingdom<br>To: United States<br>12,984<extra></extra>",
         "lat": [
          54,
          38
         ],
         "line": {
          "color": "#FF97FF",
          "dash": "dash",
          "width": 2.5968
         },
         "lon": [
          -2,
          -97
         ],
         "mode": "lines",
         "type": "scattergeo"
        },
        {
         "hovertemplate": "From: United Kingdom<br>To: Spain<br>14,146<extra></extra>",
         "lat": [
          54,
          40
         ],
         "line": {
          "color": "#AB63FA",
          "dash": "dash",
          "width": 2.8292
         },
         "lon": [
          -2,
          -4
         ],
         "mode": "lines",
         "type": "scattergeo"
        },
        {
         "hovertemplate": "From: United Kingdom<br>To: New Zealand<br>10,082<extra></extra>",
         "lat": [
          54,
          -41
         ],
         "line": {
          "color": "#636EFA",
          "dash": "dash",
          "width": 2.0164
         },
         "lon": [
          -2,
          174
         ],
         "mode": "lines",
         "type": "scattergeo"
        },
        {
         "hovertemplate": "From: United States<br>To: United Kingdom<br>14,531<extra></extra>",
         "lat": [
          38,
          54
         ],
         "line": {
          "color": "#AB63FA",
          "dash": "dash",
          "width": 2.9062
         },
         "lon": [
          -97,
          -2
         ],
         "mode": "lines",
         "type": "scattergeo"
        },
        {
         "hovertemplate": "From: United States<br>To: Germany<br>17,542<extra></extra>",
         "lat": [
          38,
          51
         ],
         "line": {
          "color": "#AB63FA",
          "dash": "dash",
          "width": 3.5084
         },
         "lon": [
          -97,
          9
         ],
         "mode": "lines",
         "type": "scattergeo"
        },
        {
         "hovertemplate": "From: Viet Nam<br>To: United States<br>27,101<extra></extra>",
         "lat": [
          16,
          38
         ],
         "line": {
          "color": "#00CC96",
          "dash": "dash",
          "width": 5.4202
         },
         "lon": [
          106,
          -97
         ],
         "mode": "lines",
         "type": "scattergeo"
        }
       ],
       "layout": {
        "geo": {
         "countrycolor": "grey",
         "projection": {
          "type": "equirectangular"
         },
         "showcountries": true
        },
        "height": 600,
        "margin": {
         "b": 50,
         "l": 20,
         "r": 10,
         "t": 60
        },
        "showlegend": false,
        "template": {
         "data": {
          "bar": [
           {
            "error_x": {
             "color": "#2a3f5f"
            },
            "error_y": {
             "color": "#2a3f5f"
            },
            "marker": {
             "line": {
              "color": "#E5ECF6",
              "width": 0.5
             },
             "pattern": {
              "fillmode": "overlay",
              "size": 10,
              "solidity": 0.2
             }
            },
            "type": "bar"
           }
          ],
          "barpolar": [
           {
            "marker": {
             "line": {
              "color": "#E5ECF6",
              "width": 0.5
             },
             "pattern": {
              "fillmode": "overlay",
              "size": 10,
              "solidity": 0.2
             }
            },
            "type": "barpolar"
           }
          ],
          "carpet": [
           {
            "aaxis": {
             "endlinecolor": "#2a3f5f",
             "gridcolor": "white",
             "linecolor": "white",
             "minorgridcolor": "white",
             "startlinecolor": "#2a3f5f"
            },
            "baxis": {
             "endlinecolor": "#2a3f5f",
             "gridcolor": "white",
             "linecolor": "white",
             "minorgridcolor": "white",
             "startlinecolor": "#2a3f5f"
            },
            "type": "carpet"
           }
          ],
          "choropleth": [
           {
            "colorbar": {
             "outlinewidth": 0,
             "ticks": ""
            },
            "type": "choropleth"
           }
          ],
          "contour": [
           {
            "colorbar": {
             "outlinewidth": 0,
             "ticks": ""
            },
            "colorscale": [
             [
              0,
              "#0d0887"
             ],
             [
              0.1111111111111111,
              "#46039f"
             ],
             [
              0.2222222222222222,
              "#7201a8"
             ],
             [
              0.3333333333333333,
              "#9c179e"
             ],
             [
              0.4444444444444444,
              "#bd3786"
             ],
             [
              0.5555555555555556,
              "#d8576b"
             ],
             [
              0.6666666666666666,
              "#ed7953"
             ],
             [
              0.7777777777777778,
              "#fb9f3a"
             ],
             [
              0.8888888888888888,
              "#fdca26"
             ],
             [
              1,
              "#f0f921"
             ]
            ],
            "type": "contour"
           }
          ],
          "contourcarpet": [
           {
            "colorbar": {
             "outlinewidth": 0,
             "ticks": ""
            },
            "type": "contourcarpet"
           }
          ],
          "heatmap": [
           {
            "colorbar": {
             "outlinewidth": 0,
             "ticks": ""
            },
            "colorscale": [
             [
              0,
              "#0d0887"
             ],
             [
              0.1111111111111111,
              "#46039f"
             ],
             [
              0.2222222222222222,
              "#7201a8"
             ],
             [
              0.3333333333333333,
              "#9c179e"
             ],
             [
              0.4444444444444444,
              "#bd3786"
             ],
             [
              0.5555555555555556,
              "#d8576b"
             ],
             [
              0.6666666666666666,
              "#ed7953"
             ],
             [
              0.7777777777777778,
              "#fb9f3a"
             ],
             [
              0.8888888888888888,
              "#fdca26"
             ],
             [
              1,
              "#f0f921"
             ]
            ],
            "type": "heatmap"
           }
          ],
          "heatmapgl": [
           {
            "colorbar": {
             "outlinewidth": 0,
             "ticks": ""
            },
            "colorscale": [
             [
              0,
              "#0d0887"
             ],
             [
              0.1111111111111111,
              "#46039f"
             ],
             [
              0.2222222222222222,
              "#7201a8"
             ],
             [
              0.3333333333333333,
              "#9c179e"
             ],
             [
              0.4444444444444444,
              "#bd3786"
             ],
             [
              0.5555555555555556,
              "#d8576b"
             ],
             [
              0.6666666666666666,
              "#ed7953"
             ],
             [
              0.7777777777777778,
              "#fb9f3a"
             ],
             [
              0.8888888888888888,
              "#fdca26"
             ],
             [
              1,
              "#f0f921"
             ]
            ],
            "type": "heatmapgl"
           }
          ],
          "histogram": [
           {
            "marker": {
             "pattern": {
              "fillmode": "overlay",
              "size": 10,
              "solidity": 0.2
             }
            },
            "type": "histogram"
           }
          ],
          "histogram2d": [
           {
            "colorbar": {
             "outlinewidth": 0,
             "ticks": ""
            },
            "colorscale": [
             [
              0,
              "#0d0887"
             ],
             [
              0.1111111111111111,
              "#46039f"
             ],
             [
              0.2222222222222222,
              "#7201a8"
             ],
             [
              0.3333333333333333,
              "#9c179e"
             ],
             [
              0.4444444444444444,
              "#bd3786"
             ],
             [
              0.5555555555555556,
              "#d8576b"
             ],
             [
              0.6666666666666666,
              "#ed7953"
             ],
             [
              0.7777777777777778,
              "#fb9f3a"
             ],
             [
              0.8888888888888888,
              "#fdca26"
             ],
             [
              1,
              "#f0f921"
             ]
            ],
            "type": "histogram2d"
           }
          ],
          "histogram2dcontour": [
           {
            "colorbar": {
             "outlinewidth": 0,
             "ticks": ""
            },
            "colorscale": [
             [
              0,
              "#0d0887"
             ],
             [
              0.1111111111111111,
              "#46039f"
             ],
             [
              0.2222222222222222,
              "#7201a8"
             ],
             [
              0.3333333333333333,
              "#9c179e"
             ],
             [
              0.4444444444444444,
              "#bd3786"
             ],
             [
              0.5555555555555556,
              "#d8576b"
             ],
             [
              0.6666666666666666,
              "#ed7953"
             ],
             [
              0.7777777777777778,
              "#fb9f3a"
             ],
             [
              0.8888888888888888,
              "#fdca26"
             ],
             [
              1,
              "#f0f921"
             ]
            ],
            "type": "histogram2dcontour"
           }
          ],
          "mesh3d": [
           {
            "colorbar": {
             "outlinewidth": 0,
             "ticks": ""
            },
            "type": "mesh3d"
           }
          ],
          "parcoords": [
           {
            "line": {
             "colorbar": {
              "outlinewidth": 0,
              "ticks": ""
             }
            },
            "type": "parcoords"
           }
          ],
          "pie": [
           {
            "automargin": true,
            "type": "pie"
           }
          ],
          "scatter": [
           {
            "marker": {
             "colorbar": {
              "outlinewidth": 0,
              "ticks": ""
             }
            },
            "type": "scatter"
           }
          ],
          "scatter3d": [
           {
            "line": {
             "colorbar": {
              "outlinewidth": 0,
              "ticks": ""
             }
            },
            "marker": {
             "colorbar": {
              "outlinewidth": 0,
              "ticks": ""
             }
            },
            "type": "scatter3d"
           }
          ],
          "scattercarpet": [
           {
            "marker": {
             "colorbar": {
              "outlinewidth": 0,
              "ticks": ""
             }
            },
            "type": "scattercarpet"
           }
          ],
          "scattergeo": [
           {
            "marker": {
             "colorbar": {
              "outlinewidth": 0,
              "ticks": ""
             }
            },
            "type": "scattergeo"
           }
          ],
          "scattergl": [
           {
            "marker": {
             "colorbar": {
              "outlinewidth": 0,
              "ticks": ""
             }
            },
            "type": "scattergl"
           }
          ],
          "scattermapbox": [
           {
            "marker": {
             "colorbar": {
              "outlinewidth": 0,
              "ticks": ""
             }
            },
            "type": "scattermapbox"
           }
          ],
          "scatterpolar": [
           {
            "marker": {
             "colorbar": {
              "outlinewidth": 0,
              "ticks": ""
             }
            },
            "type": "scatterpolar"
           }
          ],
          "scatterpolargl": [
           {
            "marker": {
             "colorbar": {
              "outlinewidth": 0,
              "ticks": ""
             }
            },
            "type": "scatterpolargl"
           }
          ],
          "scatterternary": [
           {
            "marker": {
             "colorbar": {
              "outlinewidth": 0,
              "ticks": ""
             }
            },
            "type": "scatterternary"
           }
          ],
          "surface": [
           {
            "colorbar": {
             "outlinewidth": 0,
             "ticks": ""
            },
            "colorscale": [
             [
              0,
              "#0d0887"
             ],
             [
              0.1111111111111111,
              "#46039f"
             ],
             [
              0.2222222222222222,
              "#7201a8"
             ],
             [
              0.3333333333333333,
              "#9c179e"
             ],
             [
              0.4444444444444444,
              "#bd3786"
             ],
             [
              0.5555555555555556,
              "#d8576b"
             ],
             [
              0.6666666666666666,
              "#ed7953"
             ],
             [
              0.7777777777777778,
              "#fb9f3a"
             ],
             [
              0.8888888888888888,
              "#fdca26"
             ],
             [
              1,
              "#f0f921"
             ]
            ],
            "type": "surface"
           }
          ],
          "table": [
           {
            "cells": {
             "fill": {
              "color": "#EBF0F8"
             },
             "line": {
              "color": "white"
             }
            },
            "header": {
             "fill": {
              "color": "#C8D4E3"
             },
             "line": {
              "color": "white"
             }
            },
            "type": "table"
           }
          ]
         },
         "layout": {
          "annotationdefaults": {
           "arrowcolor": "#2a3f5f",
           "arrowhead": 0,
           "arrowwidth": 1
          },
          "autotypenumbers": "strict",
          "coloraxis": {
           "colorbar": {
            "outlinewidth": 0,
            "ticks": ""
           }
          },
          "colorscale": {
           "diverging": [
            [
             0,
             "#8e0152"
            ],
            [
             0.1,
             "#c51b7d"
            ],
            [
             0.2,
             "#de77ae"
            ],
            [
             0.3,
             "#f1b6da"
            ],
            [
             0.4,
             "#fde0ef"
            ],
            [
             0.5,
             "#f7f7f7"
            ],
            [
             0.6,
             "#e6f5d0"
            ],
            [
             0.7,
             "#b8e186"
            ],
            [
             0.8,
             "#7fbc41"
            ],
            [
             0.9,
             "#4d9221"
            ],
            [
             1,
             "#276419"
            ]
           ],
           "sequential": [
            [
             0,
             "#0d0887"
            ],
            [
             0.1111111111111111,
             "#46039f"
            ],
            [
             0.2222222222222222,
             "#7201a8"
            ],
            [
             0.3333333333333333,
             "#9c179e"
            ],
            [
             0.4444444444444444,
             "#bd3786"
            ],
            [
             0.5555555555555556,
             "#d8576b"
            ],
            [
             0.6666666666666666,
             "#ed7953"
            ],
            [
             0.7777777777777778,
             "#fb9f3a"
            ],
            [
             0.8888888888888888,
             "#fdca26"
            ],
            [
             1,
             "#f0f921"
            ]
           ],
           "sequentialminus": [
            [
             0,
             "#0d0887"
            ],
            [
             0.1111111111111111,
             "#46039f"
            ],
            [
             0.2222222222222222,
             "#7201a8"
            ],
            [
             0.3333333333333333,
             "#9c179e"
            ],
            [
             0.4444444444444444,
             "#bd3786"
            ],
            [
             0.5555555555555556,
             "#d8576b"
            ],
            [
             0.6666666666666666,
             "#ed7953"
            ],
            [
             0.7777777777777778,
             "#fb9f3a"
            ],
            [
             0.8888888888888888,
             "#fdca26"
            ],
            [
             1,
             "#f0f921"
            ]
           ]
          },
          "colorway": [
           "#636efa",
           "#EF553B",
           "#00cc96",
           "#ab63fa",
           "#FFA15A",
           "#19d3f3",
           "#FF6692",
           "#B6E880",
           "#FF97FF",
           "#FECB52"
          ],
          "font": {
           "color": "#2a3f5f"
          },
          "geo": {
           "bgcolor": "white",
           "lakecolor": "white",
           "landcolor": "#E5ECF6",
           "showlakes": true,
           "showland": true,
           "subunitcolor": "white"
          },
          "hoverlabel": {
           "align": "left"
          },
          "hovermode": "closest",
          "mapbox": {
           "style": "light"
          },
          "paper_bgcolor": "white",
          "plot_bgcolor": "#E5ECF6",
          "polar": {
           "angularaxis": {
            "gridcolor": "white",
            "linecolor": "white",
            "ticks": ""
           },
           "bgcolor": "#E5ECF6",
           "radialaxis": {
            "gridcolor": "white",
            "linecolor": "white",
            "ticks": ""
           }
          },
          "scene": {
           "xaxis": {
            "backgroundcolor": "#E5ECF6",
            "gridcolor": "white",
            "gridwidth": 2,
            "linecolor": "white",
            "showbackground": true,
            "ticks": "",
            "zerolinecolor": "white"
           },
           "yaxis": {
            "backgroundcolor": "#E5ECF6",
            "gridcolor": "white",
            "gridwidth": 2,
            "linecolor": "white",
            "showbackground": true,
            "ticks": "",
            "zerolinecolor": "white"
           },
           "zaxis": {
            "backgroundcolor": "#E5ECF6",
            "gridcolor": "white",
            "gridwidth": 2,
            "linecolor": "white",
            "showbackground": true,
            "ticks": "",
            "zerolinecolor": "white"
           }
          },
          "shapedefaults": {
           "line": {
            "color": "#2a3f5f"
           }
          },
          "ternary": {
           "aaxis": {
            "gridcolor": "white",
            "linecolor": "white",
            "ticks": ""
           },
           "baxis": {
            "gridcolor": "white",
            "linecolor": "white",
            "ticks": ""
           },
           "bgcolor": "#E5ECF6",
           "caxis": {
            "gridcolor": "white",
            "linecolor": "white",
            "ticks": ""
           }
          },
          "title": {
           "x": 0.05
          },
          "xaxis": {
           "automargin": true,
           "gridcolor": "white",
           "linecolor": "white",
           "ticks": "",
           "title": {
            "standoff": 15
           },
           "zerolinecolor": "white",
           "zerolinewidth": 2
          },
          "yaxis": {
           "automargin": true,
           "gridcolor": "white",
           "linecolor": "white",
           "ticks": "",
           "title": {
            "standoff": 15
           },
           "zerolinecolor": "white",
           "zerolinewidth": 2
          }
         }
        }
       }
      },
      "text/html": [
       "<div>                            <div id=\"6f9c8213-bfc0-455d-95f0-2ca820fab5cc\" class=\"plotly-graph-div\" style=\"height:600px; width:100%;\"></div>            <script type=\"text/javascript\">                require([\"plotly\"], function(Plotly) {                    window.PLOTLYENV=window.PLOTLYENV || {};                                    if (document.getElementById(\"6f9c8213-bfc0-455d-95f0-2ca820fab5cc\")) {                    Plotly.newPlot(                        \"6f9c8213-bfc0-455d-95f0-2ca820fab5cc\",                        [{\"type\":\"scattergeo\"},{\"hovertemplate\":\"From: Albania<br>To: Italy<br>12,165<extra></extra>\",\"lat\":[41.0,42.8],\"line\":{\"color\":\"rgb(115, 175, 72)\",\"dash\":\"dash\",\"width\":2.433},\"lon\":[20.0,12.8],\"mode\":\"lines\",\"type\":\"scattergeo\"},{\"hovertemplate\":\"From: Albania<br>To: Greece<br>99,967<extra></extra>\",\"lat\":[41.0,39.0],\"line\":{\"color\":\"rgb(148, 52, 110)\",\"dash\":\"dash\",\"width\":19.9934},\"lon\":[20.0,22.0],\"mode\":\"lines\",\"type\":\"scattergeo\"},{\"hovertemplate\":\"From: Australia<br>To: United Kingdom<br>20,217<extra></extra>\",\"lat\":[-27.0,54.0],\"line\":{\"color\":\"rgb(115, 175, 72)\",\"dash\":\"dash\",\"width\":4.0434},\"lon\":[133.0,-2.0],\"mode\":\"lines\",\"type\":\"scattergeo\"},{\"hovertemplate\":\"From: Bangladesh<br>To: United States<br>12,099<extra></extra>\",\"lat\":[24.0,38.0],\"line\":{\"color\":\"rgb(111, 64, 112)\",\"dash\":\"dash\",\"width\":2.4198},\"lon\":[90.0,-97.0],\"mode\":\"lines\",\"type\":\"scattergeo\"},{\"hovertemplate\":\"From: Bangladesh<br>To: Italy<br>10,487<extra></extra>\",\"lat\":[24.0,42.8],\"line\":{\"color\":\"rgb(15, 133, 84)\",\"dash\":\"dash\",\"width\":2.0974},\"lon\":[90.0,12.8],\"mode\":\"lines\",\"type\":\"scattergeo\"},{\"hovertemplate\":\"From: Brazil<br>To: United States<br>11,033<extra></extra>\",\"lat\":[-10.0,38.0],\"line\":{\"color\":\"rgb(102, 102, 102)\",\"dash\":\"dash\",\"width\":2.2066},\"lon\":[-55.0,-97.0],\"mode\":\"lines\",\"type\":\"scattergeo\"},{\"hovertemplate\":\"From: Bulgaria<br>To: Germany<br>24,093<extra></extra>\",\"lat\":[43.0,51.0],\"line\":{\"color\":\"rgb(204, 80, 62)\",\"dash\":\"dash\",\"width\":4.8186},\"lon\":[25.0,9.0],\"mode\":\"lines\",\"type\":\"scattergeo\"},{\"hovertemplate\":\"From: Canada<br>To: United States<br>13,181<extra></extra>\",\"lat\":[60.0,38.0],\"line\":{\"color\":\"rgb(56, 166, 165)\",\"dash\":\"dash\",\"width\":2.6362},\"lon\":[-95.0,-97.0],\"mode\":\"lines\",\"type\":\"scattergeo\"},{\"hovertemplate\":\"From: Colombia<br>To: United States<br>21,131<extra></extra>\",\"lat\":[4.0,38.0],\"line\":{\"color\":\"rgb(111, 64, 112)\",\"dash\":\"dash\",\"width\":4.2262},\"lon\":[-72.0,-97.0],\"mode\":\"lines\",\"type\":\"scattergeo\"},{\"hovertemplate\":\"From: Cuba<br>To: United States<br>32,219<extra></extra>\",\"lat\":[21.5,38.0],\"line\":{\"color\":\"rgb(15, 133, 84)\",\"dash\":\"dash\",\"width\":6.4438},\"lon\":[-80.0,-97.0],\"mode\":\"lines\",\"type\":\"scattergeo\"},{\"hovertemplate\":\"From: Dominican Republic<br>To: United States<br>41,311<extra></extra>\",\"lat\":[19.0,38.0],\"line\":{\"color\":\"rgb(225, 124, 5)\",\"dash\":\"dash\",\"width\":8.2622},\"lon\":[-70.7,-97.0],\"mode\":\"lines\",\"type\":\"scattergeo\"},{\"hovertemplate\":\"From: Ecuador<br>To: United States<br>10,591<extra></extra>\",\"lat\":[-2.0,38.0],\"line\":{\"color\":\"rgb(237, 173, 8)\",\"dash\":\"dash\",\"width\":2.1182},\"lon\":[-77.5,-97.0],\"mode\":\"lines\",\"type\":\"scattergeo\"},{\"hovertemplate\":\"From: Egypt<br>To: United States<br>10,294<extra></extra>\",\"lat\":[27.0,38.0],\"line\":{\"color\":\"rgb(115, 175, 72)\",\"dash\":\"dash\",\"width\":2.0588},\"lon\":[30.0,-97.0],\"mode\":\"lines\",\"type\":\"scattergeo\"},{\"hovertemplate\":\"From: El Salvador<br>To: United States<br>18,260<extra></extra>\",\"lat\":[13.8,38.0],\"line\":{\"color\":\"rgb(15, 133, 84)\",\"dash\":\"dash\",\"width\":3.652},\"lon\":[-88.9,-97.0],\"mode\":\"lines\",\"type\":\"scattergeo\"},{\"hovertemplate\":\"From: Ethiopia<br>To: United States<br>13,097<extra></extra>\",\"lat\":[8.0,38.0],\"line\":{\"color\":\"rgb(102, 102, 102)\",\"dash\":\"dash\",\"width\":2.6194},\"lon\":[38.0,-97.0],\"mode\":\"lines\",\"type\":\"scattergeo\"},{\"hovertemplate\":\"From: France<br>To: Switzerland<br>12,543<extra></extra>\",\"lat\":[46.0,47.0],\"line\":{\"color\":\"rgb(102, 102, 102)\",\"dash\":\"dash\",\"width\":2.5086},\"lon\":[2.0,8.0],\"mode\":\"lines\",\"type\":\"scattergeo\"},{\"hovertemplate\":\"From: France<br>To: Germany<br>12,979<extra></extra>\",\"lat\":[46.0,51.0],\"line\":{\"color\":\"rgb(225, 124, 5)\",\"dash\":\"dash\",\"width\":2.5958},\"lon\":[2.0,9.0],\"mode\":\"lines\",\"type\":\"scattergeo\"},{\"hovertemplate\":\"From: France<br>To: Belgium<br>12,282<extra></extra>\",\"lat\":[46.0,50.8],\"line\":{\"color\":\"rgb(115, 175, 72)\",\"dash\":\"dash\",\"width\":2.4564},\"lon\":[2.0,4.0],\"mode\":\"lines\",\"type\":\"scattergeo\"},{\"hovertemplate\":\"From: Germany<br>To: United Kingdom<br>13,617<extra></extra>\",\"lat\":[51.0,54.0],\"line\":{\"color\":\"rgb(115, 175, 72)\",\"dash\":\"dash\",\"width\":2.7234},\"lon\":[9.0,-2.0],\"mode\":\"lines\",\"type\":\"scattergeo\"},{\"hovertemplate\":\"From: Germany<br>To: Switzerland<br>23,289<extra></extra>\",\"lat\":[51.0,47.0],\"line\":{\"color\":\"rgb(225, 124, 5)\",\"dash\":\"dash\",\"width\":4.6578},\"lon\":[9.0,8.0],\"mode\":\"lines\",\"type\":\"scattergeo\"},{\"hovertemplate\":\"From: Germany<br>To: Austria<br>13,513<extra></extra>\",\"lat\":[51.0,47.3],\"line\":{\"color\":\"rgb(29, 105, 150)\",\"dash\":\"dash\",\"width\":2.7026},\"lon\":[9.0,13.3],\"mode\":\"lines\",\"type\":\"scattergeo\"},{\"hovertemplate\":\"From: Ghana<br>To: United States<br>10,265<extra></extra>\",\"lat\":[8.0,38.0],\"line\":{\"color\":\"rgb(56, 166, 165)\",\"dash\":\"dash\",\"width\":2.053},\"lon\":[-2.0,-97.0],\"mode\":\"lines\",\"type\":\"scattergeo\"},{\"hovertemplate\":\"From: Guatemala<br>To: United States<br>10,224<extra></extra>\",\"lat\":[15.5,38.0],\"line\":{\"color\":\"rgb(102, 102, 102)\",\"dash\":\"dash\",\"width\":2.0448},\"lon\":[-90.3,-97.0],\"mode\":\"lines\",\"type\":\"scattergeo\"},{\"hovertemplate\":\"From: Haiti<br>To: United States<br>20,351<extra></extra>\",\"lat\":[19.0,38.0],\"line\":{\"color\":\"rgb(225, 124, 5)\",\"dash\":\"dash\",\"width\":4.0702},\"lon\":[-72.4,-97.0],\"mode\":\"lines\",\"type\":\"scattergeo\"},{\"hovertemplate\":\"From: Hungary<br>To: Germany<br>25,151<extra></extra>\",\"lat\":[47.0,51.0],\"line\":{\"color\":\"rgb(56, 166, 165)\",\"dash\":\"dash\",\"width\":5.0302},\"lon\":[20.0,9.0],\"mode\":\"lines\",\"type\":\"scattergeo\"},{\"hovertemplate\":\"From: India<br>To: United States<br>68,458<extra></extra>\",\"lat\":[20.0,38.0],\"line\":{\"color\":\"rgb(29, 105, 150)\",\"dash\":\"dash\",\"width\":13.6916},\"lon\":[77.0,-97.0],\"mode\":\"lines\",\"type\":\"scattergeo\"},{\"hovertemplate\":\"From: India<br>To: United Kingdom<br>46,621<extra></extra>\",\"lat\":[20.0,54.0],\"line\":{\"color\":\"rgb(56, 166, 165)\",\"dash\":\"dash\",\"width\":9.3242},\"lon\":[77.0,-2.0],\"mode\":\"lines\",\"type\":\"scattergeo\"},{\"hovertemplate\":\"From: India<br>To: Italy<br>10,814<extra></extra>\",\"lat\":[20.0,42.8],\"line\":{\"color\":\"rgb(225, 124, 5)\",\"dash\":\"dash\",\"width\":2.1628},\"lon\":[77.0,12.8],\"mode\":\"lines\",\"type\":\"scattergeo\"},{\"hovertemplate\":\"From: India<br>To: Germany<br>11,403<extra></extra>\",\"lat\":[20.0,51.0],\"line\":{\"color\":\"rgb(95, 70, 144)\",\"dash\":\"dash\",\"width\":2.2806},\"lon\":[77.0,9.0],\"mode\":\"lines\",\"type\":\"scattergeo\"},{\"hovertemplate\":\"From: India<br>To: Canada<br>33,087<extra></extra>\",\"lat\":[20.0,60.0],\"line\":{\"color\":\"rgb(204, 80, 62)\",\"dash\":\"dash\",\"width\":6.6174},\"lon\":[77.0,-95.0],\"mode\":\"lines\",\"type\":\"scattergeo\"},{\"hovertemplate\":\"From: Iran, Islamic Republic of<br>To: United States<br>12,863<extra></extra>\",\"lat\":[32.0,38.0],\"line\":{\"color\":\"rgb(102, 102, 102)\",\"dash\":\"dash\",\"width\":2.5726},\"lon\":[53.0,-97.0],\"mode\":\"lines\",\"type\":\"scattergeo\"},{\"hovertemplate\":\"From: Iran, Islamic Republic of<br>To: Canada<br>11,291<extra></extra>\",\"lat\":[32.0,60.0],\"line\":{\"color\":\"rgb(237, 173, 8)\",\"dash\":\"dash\",\"width\":2.2582},\"lon\":[53.0,-95.0],\"mode\":\"lines\",\"type\":\"scattergeo\"},{\"hovertemplate\":\"From: Italy<br>To: Switzerland<br>15,942<extra></extra>\",\"lat\":[42.8,47.0],\"line\":{\"color\":\"rgb(111, 64, 112)\",\"dash\":\"dash\",\"width\":3.1884},\"lon\":[12.8,8.0],\"mode\":\"lines\",\"type\":\"scattergeo\"},{\"hovertemplate\":\"From: Italy<br>To: Spain<br>12,184<extra></extra>\",\"lat\":[42.8,40.0],\"line\":{\"color\":\"rgb(95, 70, 144)\",\"dash\":\"dash\",\"width\":2.4368},\"lon\":[12.8,-4.0],\"mode\":\"lines\",\"type\":\"scattergeo\"},{\"hovertemplate\":\"From: Italy<br>To: Germany<br>20,087<extra></extra>\",\"lat\":[42.8,51.0],\"line\":{\"color\":\"rgb(237, 173, 8)\",\"dash\":\"dash\",\"width\":4.0174},\"lon\":[12.8,9.0],\"mode\":\"lines\",\"type\":\"scattergeo\"},{\"hovertemplate\":\"From: Jamaica<br>To: United States<br>19,400<extra></extra>\",\"lat\":[18.3,38.0],\"line\":{\"color\":\"rgb(237, 173, 8)\",\"dash\":\"dash\",\"width\":3.88},\"lon\":[-77.5,-97.0],\"mode\":\"lines\",\"type\":\"scattergeo\"},{\"hovertemplate\":\"From: Mexico<br>To: United States<br>135,028<extra></extra>\",\"lat\":[23.0,38.0],\"line\":{\"color\":\"rgb(29, 105, 150)\",\"dash\":\"dash\",\"width\":27.0056},\"lon\":[-102.0,-97.0],\"mode\":\"lines\",\"type\":\"scattergeo\"},{\"hovertemplate\":\"From: Morocco<br>To: Spain<br>20,517<extra></extra>\",\"lat\":[32.0,40.0],\"line\":{\"color\":\"rgb(29, 105, 150)\",\"dash\":\"dash\",\"width\":4.1034},\"lon\":[-5.0,-4.0],\"mode\":\"lines\",\"type\":\"scattergeo\"},{\"hovertemplate\":\"From: Morocco<br>To: Italy<br>19,568<extra></extra>\",\"lat\":[32.0,42.8],\"line\":{\"color\":\"rgb(29, 105, 150)\",\"dash\":\"dash\",\"width\":3.9136},\"lon\":[-5.0,12.8],\"mode\":\"lines\",\"type\":\"scattergeo\"},{\"hovertemplate\":\"From: Myanmar<br>To: United States<br>12,565<extra></extra>\",\"lat\":[22.0,38.0],\"line\":{\"color\":\"rgb(237, 173, 8)\",\"dash\":\"dash\",\"width\":2.513},\"lon\":[98.0,-97.0],\"mode\":\"lines\",\"type\":\"scattergeo\"},{\"hovertemplate\":\"From: Nepal<br>To: United States<br>13,046<extra></extra>\",\"lat\":[28.0,38.0],\"line\":{\"color\":\"rgb(15, 133, 84)\",\"dash\":\"dash\",\"width\":2.6092},\"lon\":[84.0,-97.0],\"mode\":\"lines\",\"type\":\"scattergeo\"},{\"hovertemplate\":\"From: Netherlands<br>To: Germany<br>11,203<extra></extra>\",\"lat\":[52.5,51.0],\"line\":{\"color\":\"rgb(29, 105, 150)\",\"dash\":\"dash\",\"width\":2.2406},\"lon\":[5.8,9.0],\"mode\":\"lines\",\"type\":\"scattergeo\"},{\"hovertemplate\":\"From: New Zealand<br>To: United Kingdom<br>11,703<extra></extra>\",\"lat\":[-41.0,54.0],\"line\":{\"color\":\"rgb(56, 166, 165)\",\"dash\":\"dash\",\"width\":2.3406},\"lon\":[174.0,-2.0],\"mode\":\"lines\",\"type\":\"scattergeo\"},{\"hovertemplate\":\"From: Nigeria<br>To: United States<br>13,840<extra></extra>\",\"lat\":[10.0,38.0],\"line\":{\"color\":\"rgb(111, 64, 112)\",\"dash\":\"dash\",\"width\":2.768},\"lon\":[8.0,-97.0],\"mode\":\"lines\",\"type\":\"scattergeo\"},{\"hovertemplate\":\"From: Pakistan<br>To: United States<br>13,251<extra></extra>\",\"lat\":[30.0,38.0],\"line\":{\"color\":\"rgb(225, 124, 5)\",\"dash\":\"dash\",\"width\":2.6502},\"lon\":[70.0,-97.0],\"mode\":\"lines\",\"type\":\"scattergeo\"},{\"hovertemplate\":\"From: Pakistan<br>To: United Kingdom<br>15,758<extra></extra>\",\"lat\":[30.0,54.0],\"line\":{\"color\":\"rgb(204, 80, 62)\",\"dash\":\"dash\",\"width\":3.1516},\"lon\":[70.0,-2.0],\"mode\":\"lines\",\"type\":\"scattergeo\"},{\"hovertemplate\":\"From: Pakistan<br>To: Canada<br>12,603<extra></extra>\",\"lat\":[30.0,60.0],\"line\":{\"color\":\"rgb(29, 105, 150)\",\"dash\":\"dash\",\"width\":2.5206},\"lon\":[70.0,-95.0],\"mode\":\"lines\",\"type\":\"scattergeo\"},{\"hovertemplate\":\"From: Peru<br>To: United States<br>12,564<extra></extra>\",\"lat\":[-10.0,38.0],\"line\":{\"color\":\"rgb(56, 166, 165)\",\"dash\":\"dash\",\"width\":2.5128},\"lon\":[-76.0,-97.0],\"mode\":\"lines\",\"type\":\"scattergeo\"},{\"hovertemplate\":\"From: Philippines<br>To: United States<br>54,446<extra></extra>\",\"lat\":[13.0,38.0],\"line\":{\"color\":\"rgb(29, 105, 150)\",\"dash\":\"dash\",\"width\":10.8892},\"lon\":[122.0,-97.0],\"mode\":\"lines\",\"type\":\"scattergeo\"},{\"hovertemplate\":\"From: Philippines<br>To: Canada<br>29,544<extra></extra>\",\"lat\":[13.0,60.0],\"line\":{\"color\":\"rgb(204, 80, 62)\",\"dash\":\"dash\",\"width\":5.9088},\"lon\":[122.0,-95.0],\"mode\":\"lines\",\"type\":\"scattergeo\"},{\"hovertemplate\":\"From: Poland<br>To: United Kingdom<br>49,172<extra></extra>\",\"lat\":[52.0,54.0],\"line\":{\"color\":\"rgb(29, 105, 150)\",\"dash\":\"dash\",\"width\":9.8344},\"lon\":[20.0,-2.0],\"mode\":\"lines\",\"type\":\"scattergeo\"},{\"hovertemplate\":\"From: Poland<br>To: Norway<br>10,125<extra></extra>\",\"lat\":[52.0,62.0],\"line\":{\"color\":\"rgb(95, 70, 144)\",\"dash\":\"dash\",\"width\":2.025},\"lon\":[20.0,10.0],\"mode\":\"lines\",\"type\":\"scattergeo\"},{\"hovertemplate\":\"From: Poland<br>To: Netherlands<br>15,489<extra></extra>\",\"lat\":[52.0,52.5],\"line\":{\"color\":\"rgb(56, 166, 165)\",\"dash\":\"dash\",\"width\":3.0978},\"lon\":[20.0,5.8],\"mode\":\"lines\",\"type\":\"scattergeo\"},{\"hovertemplate\":\"From: Poland<br>To: Germany<br>119,867<extra></extra>\",\"lat\":[52.0,51.0],\"line\":{\"color\":\"rgb(102, 102, 102)\",\"dash\":\"dash\",\"width\":23.9734},\"lon\":[20.0,9.0],\"mode\":\"lines\",\"type\":\"scattergeo\"},{\"hovertemplate\":\"From: Portugal<br>To: Switzerland<br>14,615<extra></extra>\",\"lat\":[39.5,47.0],\"line\":{\"color\":\"rgb(56, 166, 165)\",\"dash\":\"dash\",\"width\":2.923},\"lon\":[-8.0,8.0],\"mode\":\"lines\",\"type\":\"scattergeo\"},{\"hovertemplate\":\"From: Korea, Republic of<br>To: United States<br>23,166<extra></extra>\",\"lat\":[37.0,38.0],\"line\":{\"color\":\"rgb(148, 52, 110)\",\"dash\":\"dash\",\"width\":4.6332},\"lon\":[127.5,-97.0],\"mode\":\"lines\",\"type\":\"scattergeo\"},{\"hovertemplate\":\"From: Romania<br>To: Spain<br>22,775<extra></extra>\",\"lat\":[46.0,40.0],\"line\":{\"color\":\"rgb(95, 70, 144)\",\"dash\":\"dash\",\"width\":4.555},\"lon\":[25.0,-4.0],\"mode\":\"lines\",\"type\":\"scattergeo\"},{\"hovertemplate\":\"From: Romania<br>To: Italy<br>58,227<extra></extra>\",\"lat\":[46.0,42.8],\"line\":{\"color\":\"rgb(95, 70, 144)\",\"dash\":\"dash\",\"width\":11.6454},\"lon\":[25.0,12.8],\"mode\":\"lines\",\"type\":\"scattergeo\"},{\"hovertemplate\":\"From: Romania<br>To: Germany<br>48,225<extra></extra>\",\"lat\":[46.0,51.0],\"line\":{\"color\":\"rgb(237, 173, 8)\",\"dash\":\"dash\",\"width\":9.645},\"lon\":[25.0,9.0],\"mode\":\"lines\",\"type\":\"scattergeo\"},{\"hovertemplate\":\"From: Russian Federation<br>To: Germany<br>15,052<extra></extra>\",\"lat\":[60.0,51.0],\"line\":{\"color\":\"rgb(115, 175, 72)\",\"dash\":\"dash\",\"width\":3.0104},\"lon\":[100.0,9.0],\"mode\":\"lines\",\"type\":\"scattergeo\"},{\"hovertemplate\":\"From: Serbia<br>To: Germany<br>11,556<extra></extra>\",\"lat\":[44.0,51.0],\"line\":{\"color\":\"rgb(237, 173, 8)\",\"dash\":\"dash\",\"width\":2.3112},\"lon\":[21.0,9.0],\"mode\":\"lines\",\"type\":\"scattergeo\"},{\"hovertemplate\":\"From: Somalia<br>To: Sweden<br>10,966<extra></extra>\",\"lat\":[10.0,62.0],\"line\":{\"color\":\"rgb(15, 133, 84)\",\"dash\":\"dash\",\"width\":2.1932},\"lon\":[49.0,15.0],\"mode\":\"lines\",\"type\":\"scattergeo\"},{\"hovertemplate\":\"From: South Africa<br>To: United Kingdom<br>24,291<extra></extra>\",\"lat\":[-29.0,54.0],\"line\":{\"color\":\"rgb(102, 102, 102)\",\"dash\":\"dash\",\"width\":4.8582},\"lon\":[24.0,-2.0],\"mode\":\"lines\",\"type\":\"scattergeo\"},{\"hovertemplate\":\"From: Syrian Arab Republic<br>To: Sweden<br>11,749<extra></extra>\",\"lat\":[35.0,62.0],\"line\":{\"color\":\"rgb(237, 173, 8)\",\"dash\":\"dash\",\"width\":2.3498},\"lon\":[38.0,15.0],\"mode\":\"lines\",\"type\":\"scattergeo\"},{\"hovertemplate\":\"From: Turkey<br>To: Germany<br>26,653<extra></extra>\",\"lat\":[39.0,51.0],\"line\":{\"color\":\"rgb(56, 166, 165)\",\"dash\":\"dash\",\"width\":5.3306},\"lon\":[35.0,9.0],\"mode\":\"lines\",\"type\":\"scattergeo\"},{\"hovertemplate\":\"From: Ukraine<br>To: Russian Federation<br>10,240<extra></extra>\",\"lat\":[49.0,60.0],\"line\":{\"color\":\"rgb(204, 80, 62)\",\"dash\":\"dash\",\"width\":2.048},\"lon\":[32.0,100.0],\"mode\":\"lines\",\"type\":\"scattergeo\"},{\"hovertemplate\":\"From: Ukraine<br>To: Italy<br>12,814<extra></extra>\",\"lat\":[49.0,42.8],\"line\":{\"color\":\"rgb(115, 175, 72)\",\"dash\":\"dash\",\"width\":2.5628},\"lon\":[32.0,12.8],\"mode\":\"lines\",\"type\":\"scattergeo\"},{\"hovertemplate\":\"From: United Kingdom<br>To: United States<br>12,984<extra></extra>\",\"lat\":[54.0,38.0],\"line\":{\"color\":\"rgb(148, 52, 110)\",\"dash\":\"dash\",\"width\":2.5968},\"lon\":[-2.0,-97.0],\"mode\":\"lines\",\"type\":\"scattergeo\"},{\"hovertemplate\":\"From: United Kingdom<br>To: Spain<br>14,146<extra></extra>\",\"lat\":[54.0,40.0],\"line\":{\"color\":\"rgb(56, 166, 165)\",\"dash\":\"dash\",\"width\":2.8292},\"lon\":[-2.0,-4.0],\"mode\":\"lines\",\"type\":\"scattergeo\"},{\"hovertemplate\":\"From: United Kingdom<br>To: New Zealand<br>10,082<extra></extra>\",\"lat\":[54.0,-41.0],\"line\":{\"color\":\"rgb(111, 64, 112)\",\"dash\":\"dash\",\"width\":2.0164},\"lon\":[-2.0,174.0],\"mode\":\"lines\",\"type\":\"scattergeo\"},{\"hovertemplate\":\"From: United States<br>To: United Kingdom<br>14,531<extra></extra>\",\"lat\":[38.0,54.0],\"line\":{\"color\":\"rgb(204, 80, 62)\",\"dash\":\"dash\",\"width\":2.9062},\"lon\":[-97.0,-2.0],\"mode\":\"lines\",\"type\":\"scattergeo\"},{\"hovertemplate\":\"From: United States<br>To: Germany<br>17,542<extra></extra>\",\"lat\":[38.0,51.0],\"line\":{\"color\":\"rgb(237, 173, 8)\",\"dash\":\"dash\",\"width\":3.5084},\"lon\":[-97.0,9.0],\"mode\":\"lines\",\"type\":\"scattergeo\"},{\"hovertemplate\":\"From: Viet Nam<br>To: United States<br>27,101<extra></extra>\",\"lat\":[16.0,38.0],\"line\":{\"color\":\"rgb(29, 105, 150)\",\"dash\":\"dash\",\"width\":5.4202},\"lon\":[106.0,-97.0],\"mode\":\"lines\",\"type\":\"scattergeo\"},{\"hovertemplate\":\"From: Albania<br>To: Italy<br>12,165<extra></extra>\",\"lat\":[41.0,42.8],\"line\":{\"color\":\"#FF97FF\",\"dash\":\"dash\",\"width\":2.433},\"lon\":[20.0,12.8],\"mode\":\"lines\",\"type\":\"scattergeo\"},{\"hovertemplate\":\"From: Albania<br>To: Greece<br>99,967<extra></extra>\",\"lat\":[41.0,39.0],\"line\":{\"color\":\"#00CC96\",\"dash\":\"dash\",\"width\":19.9934},\"lon\":[20.0,22.0],\"mode\":\"lines\",\"type\":\"scattergeo\"},{\"hovertemplate\":\"From: Australia<br>To: United Kingdom<br>20,217<extra></extra>\",\"lat\":[-27.0,54.0],\"line\":{\"color\":\"#B6E880\",\"dash\":\"dash\",\"width\":4.0434},\"lon\":[133.0,-2.0],\"mode\":\"lines\",\"type\":\"scattergeo\"},{\"hovertemplate\":\"From: Bangladesh<br>To: United States<br>12,099<extra></extra>\",\"lat\":[24.0,38.0],\"line\":{\"color\":\"#FF6692\",\"dash\":\"dash\",\"width\":2.4198},\"lon\":[90.0,-97.0],\"mode\":\"lines\",\"type\":\"scattergeo\"},{\"hovertemplate\":\"From: Bangladesh<br>To: Italy<br>10,487<extra></extra>\",\"lat\":[24.0,42.8],\"line\":{\"color\":\"#00CC96\",\"dash\":\"dash\",\"width\":2.0974},\"lon\":[90.0,12.8],\"mode\":\"lines\",\"type\":\"scattergeo\"},{\"hovertemplate\":\"From: Brazil<br>To: United States<br>11,033<extra></extra>\",\"lat\":[-10.0,38.0],\"line\":{\"color\":\"#FF6692\",\"dash\":\"dash\",\"width\":2.2066},\"lon\":[-55.0,-97.0],\"mode\":\"lines\",\"type\":\"scattergeo\"},{\"hovertemplate\":\"From: Bulgaria<br>To: Germany<br>24,093<extra></extra>\",\"lat\":[43.0,51.0],\"line\":{\"color\":\"#EF553B\",\"dash\":\"dash\",\"width\":4.8186},\"lon\":[25.0,9.0],\"mode\":\"lines\",\"type\":\"scattergeo\"},{\"hovertemplate\":\"From: Canada<br>To: United States<br>13,181<extra></extra>\",\"lat\":[60.0,38.0],\"line\":{\"color\":\"#00CC96\",\"dash\":\"dash\",\"width\":2.6362},\"lon\":[-95.0,-97.0],\"mode\":\"lines\",\"type\":\"scattergeo\"},{\"hovertemplate\":\"From: Colombia<br>To: United States<br>21,131<extra></extra>\",\"lat\":[4.0,38.0],\"line\":{\"color\":\"#636EFA\",\"dash\":\"dash\",\"width\":4.2262},\"lon\":[-72.0,-97.0],\"mode\":\"lines\",\"type\":\"scattergeo\"},{\"hovertemplate\":\"From: Cuba<br>To: United States<br>32,219<extra></extra>\",\"lat\":[21.5,38.0],\"line\":{\"color\":\"#00CC96\",\"dash\":\"dash\",\"width\":6.4438},\"lon\":[-80.0,-97.0],\"mode\":\"lines\",\"type\":\"scattergeo\"},{\"hovertemplate\":\"From: Dominican Republic<br>To: United States<br>41,311<extra></extra>\",\"lat\":[19.0,38.0],\"line\":{\"color\":\"#FF97FF\",\"dash\":\"dash\",\"width\":8.2622},\"lon\":[-70.7,-97.0],\"mode\":\"lines\",\"type\":\"scattergeo\"},{\"hovertemplate\":\"From: Ecuador<br>To: United States<br>10,591<extra></extra>\",\"lat\":[-2.0,38.0],\"line\":{\"color\":\"#636EFA\",\"dash\":\"dash\",\"width\":2.1182},\"lon\":[-77.5,-97.0],\"mode\":\"lines\",\"type\":\"scattergeo\"},{\"hovertemplate\":\"From: Egypt<br>To: United States<br>10,294<extra></extra>\",\"lat\":[27.0,38.0],\"line\":{\"color\":\"#00CC96\",\"dash\":\"dash\",\"width\":2.0588},\"lon\":[30.0,-97.0],\"mode\":\"lines\",\"type\":\"scattergeo\"},{\"hovertemplate\":\"From: El Salvador<br>To: United States<br>18,260<extra></extra>\",\"lat\":[13.8,38.0],\"line\":{\"color\":\"#FFA15A\",\"dash\":\"dash\",\"width\":3.652},\"lon\":[-88.9,-97.0],\"mode\":\"lines\",\"type\":\"scattergeo\"},{\"hovertemplate\":\"From: Ethiopia<br>To: United States<br>13,097<extra></extra>\",\"lat\":[8.0,38.0],\"line\":{\"color\":\"#00CC96\",\"dash\":\"dash\",\"width\":2.6194},\"lon\":[38.0,-97.0],\"mode\":\"lines\",\"type\":\"scattergeo\"},{\"hovertemplate\":\"From: France<br>To: Switzerland<br>12,543<extra></extra>\",\"lat\":[46.0,47.0],\"line\":{\"color\":\"#EF553B\",\"dash\":\"dash\",\"width\":2.5086},\"lon\":[2.0,8.0],\"mode\":\"lines\",\"type\":\"scattergeo\"},{\"hovertemplate\":\"From: France<br>To: Germany<br>12,979<extra></extra>\",\"lat\":[46.0,51.0],\"line\":{\"color\":\"#FECB52\",\"dash\":\"dash\",\"width\":2.5958},\"lon\":[2.0,9.0],\"mode\":\"lines\",\"type\":\"scattergeo\"},{\"hovertemplate\":\"From: France<br>To: Belgium<br>12,282<extra></extra>\",\"lat\":[46.0,50.8],\"line\":{\"color\":\"#FF97FF\",\"dash\":\"dash\",\"width\":2.4564},\"lon\":[2.0,4.0],\"mode\":\"lines\",\"type\":\"scattergeo\"},{\"hovertemplate\":\"From: Germany<br>To: United Kingdom<br>13,617<extra></extra>\",\"lat\":[51.0,54.0],\"line\":{\"color\":\"#B6E880\",\"dash\":\"dash\",\"width\":2.7234},\"lon\":[9.0,-2.0],\"mode\":\"lines\",\"type\":\"scattergeo\"},{\"hovertemplate\":\"From: Germany<br>To: Switzerland<br>23,289<extra></extra>\",\"lat\":[51.0,47.0],\"line\":{\"color\":\"#FECB52\",\"dash\":\"dash\",\"width\":4.6578},\"lon\":[9.0,8.0],\"mode\":\"lines\",\"type\":\"scattergeo\"},{\"hovertemplate\":\"From: Germany<br>To: Austria<br>13,513<extra></extra>\",\"lat\":[51.0,47.3],\"line\":{\"color\":\"#B6E880\",\"dash\":\"dash\",\"width\":2.7026},\"lon\":[9.0,13.3],\"mode\":\"lines\",\"type\":\"scattergeo\"},{\"hovertemplate\":\"From: Ghana<br>To: United States<br>10,265<extra></extra>\",\"lat\":[8.0,38.0],\"line\":{\"color\":\"#FF97FF\",\"dash\":\"dash\",\"width\":2.053},\"lon\":[-2.0,-97.0],\"mode\":\"lines\",\"type\":\"scattergeo\"},{\"hovertemplate\":\"From: Guatemala<br>To: United States<br>10,224<extra></extra>\",\"lat\":[15.5,38.0],\"line\":{\"color\":\"#FFA15A\",\"dash\":\"dash\",\"width\":2.0448},\"lon\":[-90.3,-97.0],\"mode\":\"lines\",\"type\":\"scattergeo\"},{\"hovertemplate\":\"From: Haiti<br>To: United States<br>20,351<extra></extra>\",\"lat\":[19.0,38.0],\"line\":{\"color\":\"#00CC96\",\"dash\":\"dash\",\"width\":4.0702},\"lon\":[-72.4,-97.0],\"mode\":\"lines\",\"type\":\"scattergeo\"},{\"hovertemplate\":\"From: Hungary<br>To: Germany<br>25,151<extra></extra>\",\"lat\":[47.0,51.0],\"line\":{\"color\":\"#FECB52\",\"dash\":\"dash\",\"width\":5.0302},\"lon\":[20.0,9.0],\"mode\":\"lines\",\"type\":\"scattergeo\"},{\"hovertemplate\":\"From: India<br>To: United States<br>68,458<extra></extra>\",\"lat\":[20.0,38.0],\"line\":{\"color\":\"#00CC96\",\"dash\":\"dash\",\"width\":13.6916},\"lon\":[77.0,-97.0],\"mode\":\"lines\",\"type\":\"scattergeo\"},{\"hovertemplate\":\"From: India<br>To: United Kingdom<br>46,621<extra></extra>\",\"lat\":[20.0,54.0],\"line\":{\"color\":\"#AB63FA\",\"dash\":\"dash\",\"width\":9.3242},\"lon\":[77.0,-2.0],\"mode\":\"lines\",\"type\":\"scattergeo\"},{\"hovertemplate\":\"From: India<br>To: Italy<br>10,814<extra></extra>\",\"lat\":[20.0,42.8],\"line\":{\"color\":\"#FF97FF\",\"dash\":\"dash\",\"width\":2.1628},\"lon\":[77.0,12.8],\"mode\":\"lines\",\"type\":\"scattergeo\"},{\"hovertemplate\":\"From: India<br>To: Germany<br>11,403<extra></extra>\",\"lat\":[20.0,51.0],\"line\":{\"color\":\"#AB63FA\",\"dash\":\"dash\",\"width\":2.2806},\"lon\":[77.0,9.0],\"mode\":\"lines\",\"type\":\"scattergeo\"},{\"hovertemplate\":\"From: India<br>To: Canada<br>33,087<extra></extra>\",\"lat\":[20.0,60.0],\"line\":{\"color\":\"#636EFA\",\"dash\":\"dash\",\"width\":6.6174},\"lon\":[77.0,-95.0],\"mode\":\"lines\",\"type\":\"scattergeo\"},{\"hovertemplate\":\"From: Iran, Islamic Republic of<br>To: United States<br>12,863<extra></extra>\",\"lat\":[32.0,38.0],\"line\":{\"color\":\"#FF6692\",\"dash\":\"dash\",\"width\":2.5726},\"lon\":[53.0,-97.0],\"mode\":\"lines\",\"type\":\"scattergeo\"},{\"hovertemplate\":\"From: Iran, Islamic Republic of<br>To: Canada<br>11,291<extra></extra>\",\"lat\":[32.0,60.0],\"line\":{\"color\":\"#FFA15A\",\"dash\":\"dash\",\"width\":2.2582},\"lon\":[53.0,-95.0],\"mode\":\"lines\",\"type\":\"scattergeo\"},{\"hovertemplate\":\"From: Italy<br>To: Switzerland<br>15,942<extra></extra>\",\"lat\":[42.8,47.0],\"line\":{\"color\":\"#B6E880\",\"dash\":\"dash\",\"width\":3.1884},\"lon\":[12.8,8.0],\"mode\":\"lines\",\"type\":\"scattergeo\"},{\"hovertemplate\":\"From: Italy<br>To: Spain<br>12,184<extra></extra>\",\"lat\":[42.8,40.0],\"line\":{\"color\":\"#FECB52\",\"dash\":\"dash\",\"width\":2.4368},\"lon\":[12.8,-4.0],\"mode\":\"lines\",\"type\":\"scattergeo\"},{\"hovertemplate\":\"From: Italy<br>To: Germany<br>20,087<extra></extra>\",\"lat\":[42.8,51.0],\"line\":{\"color\":\"#19D3F3\",\"dash\":\"dash\",\"width\":4.0174},\"lon\":[12.8,9.0],\"mode\":\"lines\",\"type\":\"scattergeo\"},{\"hovertemplate\":\"From: Jamaica<br>To: United States<br>19,400<extra></extra>\",\"lat\":[18.3,38.0],\"line\":{\"color\":\"#FF6692\",\"dash\":\"dash\",\"width\":3.88},\"lon\":[-77.5,-97.0],\"mode\":\"lines\",\"type\":\"scattergeo\"},{\"hovertemplate\":\"From: Mexico<br>To: United States<br>135,028<extra></extra>\",\"lat\":[23.0,38.0],\"line\":{\"color\":\"#FF97FF\",\"dash\":\"dash\",\"width\":27.0056},\"lon\":[-102.0,-97.0],\"mode\":\"lines\",\"type\":\"scattergeo\"},{\"hovertemplate\":\"From: Morocco<br>To: Spain<br>20,517<extra></extra>\",\"lat\":[32.0,40.0],\"line\":{\"color\":\"#AB63FA\",\"dash\":\"dash\",\"width\":4.1034},\"lon\":[-5.0,-4.0],\"mode\":\"lines\",\"type\":\"scattergeo\"},{\"hovertemplate\":\"From: Morocco<br>To: Italy<br>19,568<extra></extra>\",\"lat\":[32.0,42.8],\"line\":{\"color\":\"#FFA15A\",\"dash\":\"dash\",\"width\":3.9136},\"lon\":[-5.0,12.8],\"mode\":\"lines\",\"type\":\"scattergeo\"},{\"hovertemplate\":\"From: Myanmar<br>To: United States<br>12,565<extra></extra>\",\"lat\":[22.0,38.0],\"line\":{\"color\":\"#00CC96\",\"dash\":\"dash\",\"width\":2.513},\"lon\":[98.0,-97.0],\"mode\":\"lines\",\"type\":\"scattergeo\"},{\"hovertemplate\":\"From: Nepal<br>To: United States<br>13,046<extra></extra>\",\"lat\":[28.0,38.0],\"line\":{\"color\":\"#FF6692\",\"dash\":\"dash\",\"width\":2.6092},\"lon\":[84.0,-97.0],\"mode\":\"lines\",\"type\":\"scattergeo\"},{\"hovertemplate\":\"From: Netherlands<br>To: Germany<br>11,203<extra></extra>\",\"lat\":[52.5,51.0],\"line\":{\"color\":\"#FECB52\",\"dash\":\"dash\",\"width\":2.2406},\"lon\":[5.8,9.0],\"mode\":\"lines\",\"type\":\"scattergeo\"},{\"hovertemplate\":\"From: New Zealand<br>To: United Kingdom<br>11,703<extra></extra>\",\"lat\":[-41.0,54.0],\"line\":{\"color\":\"#EF553B\",\"dash\":\"dash\",\"width\":2.3406},\"lon\":[174.0,-2.0],\"mode\":\"lines\",\"type\":\"scattergeo\"},{\"hovertemplate\":\"From: Nigeria<br>To: United States<br>13,840<extra></extra>\",\"lat\":[10.0,38.0],\"line\":{\"color\":\"#FF6692\",\"dash\":\"dash\",\"width\":2.768},\"lon\":[8.0,-97.0],\"mode\":\"lines\",\"type\":\"scattergeo\"},{\"hovertemplate\":\"From: Pakistan<br>To: United States<br>13,251<extra></extra>\",\"lat\":[30.0,38.0],\"line\":{\"color\":\"#00CC96\",\"dash\":\"dash\",\"width\":2.6502},\"lon\":[70.0,-97.0],\"mode\":\"lines\",\"type\":\"scattergeo\"},{\"hovertemplate\":\"From: Pakistan<br>To: United Kingdom<br>15,758<extra></extra>\",\"lat\":[30.0,54.0],\"line\":{\"color\":\"#AB63FA\",\"dash\":\"dash\",\"width\":3.1516},\"lon\":[70.0,-2.0],\"mode\":\"lines\",\"type\":\"scattergeo\"},{\"hovertemplate\":\"From: Pakistan<br>To: Canada<br>12,603<extra></extra>\",\"lat\":[30.0,60.0],\"line\":{\"color\":\"#636EFA\",\"dash\":\"dash\",\"width\":2.5206},\"lon\":[70.0,-95.0],\"mode\":\"lines\",\"type\":\"scattergeo\"},{\"hovertemplate\":\"From: Peru<br>To: United States<br>12,564<extra></extra>\",\"lat\":[-10.0,38.0],\"line\":{\"color\":\"#636EFA\",\"dash\":\"dash\",\"width\":2.5128},\"lon\":[-76.0,-97.0],\"mode\":\"lines\",\"type\":\"scattergeo\"},{\"hovertemplate\":\"From: Philippines<br>To: United States<br>54,446<extra></extra>\",\"lat\":[13.0,38.0],\"line\":{\"color\":\"#00CC96\",\"dash\":\"dash\",\"width\":10.8892},\"lon\":[122.0,-97.0],\"mode\":\"lines\",\"type\":\"scattergeo\"},{\"hovertemplate\":\"From: Philippines<br>To: Canada<br>29,544<extra></extra>\",\"lat\":[13.0,60.0],\"line\":{\"color\":\"#636EFA\",\"dash\":\"dash\",\"width\":5.9088},\"lon\":[122.0,-95.0],\"mode\":\"lines\",\"type\":\"scattergeo\"},{\"hovertemplate\":\"From: Poland<br>To: United Kingdom<br>49,172<extra></extra>\",\"lat\":[52.0,54.0],\"line\":{\"color\":\"#19D3F3\",\"dash\":\"dash\",\"width\":9.8344},\"lon\":[20.0,-2.0],\"mode\":\"lines\",\"type\":\"scattergeo\"},{\"hovertemplate\":\"From: Poland<br>To: Norway<br>10,125<extra></extra>\",\"lat\":[52.0,62.0],\"line\":{\"color\":\"#19D3F3\",\"dash\":\"dash\",\"width\":2.025},\"lon\":[20.0,10.0],\"mode\":\"lines\",\"type\":\"scattergeo\"},{\"hovertemplate\":\"From: Poland<br>To: Netherlands<br>15,489<extra></extra>\",\"lat\":[52.0,52.5],\"line\":{\"color\":\"#B6E880\",\"dash\":\"dash\",\"width\":3.0978},\"lon\":[20.0,5.8],\"mode\":\"lines\",\"type\":\"scattergeo\"},{\"hovertemplate\":\"From: Poland<br>To: Germany<br>119,867<extra></extra>\",\"lat\":[52.0,51.0],\"line\":{\"color\":\"#19D3F3\",\"dash\":\"dash\",\"width\":23.9734},\"lon\":[20.0,9.0],\"mode\":\"lines\",\"type\":\"scattergeo\"},{\"hovertemplate\":\"From: Portugal<br>To: Switzerland<br>14,615<extra></extra>\",\"lat\":[39.5,47.0],\"line\":{\"color\":\"#FECB52\",\"dash\":\"dash\",\"width\":2.923},\"lon\":[-8.0,8.0],\"mode\":\"lines\",\"type\":\"scattergeo\"},{\"hovertemplate\":\"From: Korea, Republic of<br>To: United States<br>23,166<extra></extra>\",\"lat\":[37.0,38.0],\"line\":{\"color\":\"#636EFA\",\"dash\":\"dash\",\"width\":4.6332},\"lon\":[127.5,-97.0],\"mode\":\"lines\",\"type\":\"scattergeo\"},{\"hovertemplate\":\"From: Romania<br>To: Spain<br>22,775<extra></extra>\",\"lat\":[46.0,40.0],\"line\":{\"color\":\"#FECB52\",\"dash\":\"dash\",\"width\":4.555},\"lon\":[25.0,-4.0],\"mode\":\"lines\",\"type\":\"scattergeo\"},{\"hovertemplate\":\"From: Romania<br>To: Italy<br>58,227<extra></extra>\",\"lat\":[46.0,42.8],\"line\":{\"color\":\"#636EFA\",\"dash\":\"dash\",\"width\":11.6454},\"lon\":[25.0,12.8],\"mode\":\"lines\",\"type\":\"scattergeo\"},{\"hovertemplate\":\"From: Romania<br>To: Germany<br>48,225<extra></extra>\",\"lat\":[46.0,51.0],\"line\":{\"color\":\"#19D3F3\",\"dash\":\"dash\",\"width\":9.645},\"lon\":[25.0,9.0],\"mode\":\"lines\",\"type\":\"scattergeo\"},{\"hovertemplate\":\"From: Russian Federation<br>To: Germany<br>15,052<extra></extra>\",\"lat\":[60.0,51.0],\"line\":{\"color\":\"#B6E880\",\"dash\":\"dash\",\"width\":3.0104},\"lon\":[100.0,9.0],\"mode\":\"lines\",\"type\":\"scattergeo\"},{\"hovertemplate\":\"From: Serbia<br>To: Germany<br>11,556<extra></extra>\",\"lat\":[44.0,51.0],\"line\":{\"color\":\"#B6E880\",\"dash\":\"dash\",\"width\":2.3112},\"lon\":[21.0,9.0],\"mode\":\"lines\",\"type\":\"scattergeo\"},{\"hovertemplate\":\"From: Somalia<br>To: Sweden<br>10,966<extra></extra>\",\"lat\":[10.0,62.0],\"line\":{\"color\":\"#FFA15A\",\"dash\":\"dash\",\"width\":2.1932},\"lon\":[49.0,15.0],\"mode\":\"lines\",\"type\":\"scattergeo\"},{\"hovertemplate\":\"From: South Africa<br>To: United Kingdom<br>24,291<extra></extra>\",\"lat\":[-29.0,54.0],\"line\":{\"color\":\"#AB63FA\",\"dash\":\"dash\",\"width\":4.8582},\"lon\":[24.0,-2.0],\"mode\":\"lines\",\"type\":\"scattergeo\"},{\"hovertemplate\":\"From: Syrian Arab Republic<br>To: Sweden<br>11,749<extra></extra>\",\"lat\":[35.0,62.0],\"line\":{\"color\":\"#00CC96\",\"dash\":\"dash\",\"width\":2.3498},\"lon\":[38.0,15.0],\"mode\":\"lines\",\"type\":\"scattergeo\"},{\"hovertemplate\":\"From: Turkey<br>To: Germany<br>26,653<extra></extra>\",\"lat\":[39.0,51.0],\"line\":{\"color\":\"#B6E880\",\"dash\":\"dash\",\"width\":5.3306},\"lon\":[35.0,9.0],\"mode\":\"lines\",\"type\":\"scattergeo\"},{\"hovertemplate\":\"From: Ukraine<br>To: Russian Federation<br>10,240<extra></extra>\",\"lat\":[49.0,60.0],\"line\":{\"color\":\"#00CC96\",\"dash\":\"dash\",\"width\":2.048},\"lon\":[32.0,100.0],\"mode\":\"lines\",\"type\":\"scattergeo\"},{\"hovertemplate\":\"From: Ukraine<br>To: Italy<br>12,814<extra></extra>\",\"lat\":[49.0,42.8],\"line\":{\"color\":\"#636EFA\",\"dash\":\"dash\",\"width\":2.5628},\"lon\":[32.0,12.8],\"mode\":\"lines\",\"type\":\"scattergeo\"},{\"hovertemplate\":\"From: United Kingdom<br>To: United States<br>12,984<extra></extra>\",\"lat\":[54.0,38.0],\"line\":{\"color\":\"#FF97FF\",\"dash\":\"dash\",\"width\":2.5968},\"lon\":[-2.0,-97.0],\"mode\":\"lines\",\"type\":\"scattergeo\"},{\"hovertemplate\":\"From: United Kingdom<br>To: Spain<br>14,146<extra></extra>\",\"lat\":[54.0,40.0],\"line\":{\"color\":\"#AB63FA\",\"dash\":\"dash\",\"width\":2.8292},\"lon\":[-2.0,-4.0],\"mode\":\"lines\",\"type\":\"scattergeo\"},{\"hovertemplate\":\"From: United Kingdom<br>To: New Zealand<br>10,082<extra></extra>\",\"lat\":[54.0,-41.0],\"line\":{\"color\":\"#636EFA\",\"dash\":\"dash\",\"width\":2.0164},\"lon\":[-2.0,174.0],\"mode\":\"lines\",\"type\":\"scattergeo\"},{\"hovertemplate\":\"From: United States<br>To: United Kingdom<br>14,531<extra></extra>\",\"lat\":[38.0,54.0],\"line\":{\"color\":\"#AB63FA\",\"dash\":\"dash\",\"width\":2.9062},\"lon\":[-97.0,-2.0],\"mode\":\"lines\",\"type\":\"scattergeo\"},{\"hovertemplate\":\"From: United States<br>To: Germany<br>17,542<extra></extra>\",\"lat\":[38.0,51.0],\"line\":{\"color\":\"#AB63FA\",\"dash\":\"dash\",\"width\":3.5084},\"lon\":[-97.0,9.0],\"mode\":\"lines\",\"type\":\"scattergeo\"},{\"hovertemplate\":\"From: Viet Nam<br>To: United States<br>27,101<extra></extra>\",\"lat\":[16.0,38.0],\"line\":{\"color\":\"#00CC96\",\"dash\":\"dash\",\"width\":5.4202},\"lon\":[106.0,-97.0],\"mode\":\"lines\",\"type\":\"scattergeo\"}],                        {\"template\":{\"data\":{\"bar\":[{\"error_x\":{\"color\":\"#2a3f5f\"},\"error_y\":{\"color\":\"#2a3f5f\"},\"marker\":{\"line\":{\"color\":\"#E5ECF6\",\"width\":0.5},\"pattern\":{\"fillmode\":\"overlay\",\"size\":10,\"solidity\":0.2}},\"type\":\"bar\"}],\"barpolar\":[{\"marker\":{\"line\":{\"color\":\"#E5ECF6\",\"width\":0.5},\"pattern\":{\"fillmode\":\"overlay\",\"size\":10,\"solidity\":0.2}},\"type\":\"barpolar\"}],\"carpet\":[{\"aaxis\":{\"endlinecolor\":\"#2a3f5f\",\"gridcolor\":\"white\",\"linecolor\":\"white\",\"minorgridcolor\":\"white\",\"startlinecolor\":\"#2a3f5f\"},\"baxis\":{\"endlinecolor\":\"#2a3f5f\",\"gridcolor\":\"white\",\"linecolor\":\"white\",\"minorgridcolor\":\"white\",\"startlinecolor\":\"#2a3f5f\"},\"type\":\"carpet\"}],\"choropleth\":[{\"colorbar\":{\"outlinewidth\":0,\"ticks\":\"\"},\"type\":\"choropleth\"}],\"contour\":[{\"colorbar\":{\"outlinewidth\":0,\"ticks\":\"\"},\"colorscale\":[[0.0,\"#0d0887\"],[0.1111111111111111,\"#46039f\"],[0.2222222222222222,\"#7201a8\"],[0.3333333333333333,\"#9c179e\"],[0.4444444444444444,\"#bd3786\"],[0.5555555555555556,\"#d8576b\"],[0.6666666666666666,\"#ed7953\"],[0.7777777777777778,\"#fb9f3a\"],[0.8888888888888888,\"#fdca26\"],[1.0,\"#f0f921\"]],\"type\":\"contour\"}],\"contourcarpet\":[{\"colorbar\":{\"outlinewidth\":0,\"ticks\":\"\"},\"type\":\"contourcarpet\"}],\"heatmap\":[{\"colorbar\":{\"outlinewidth\":0,\"ticks\":\"\"},\"colorscale\":[[0.0,\"#0d0887\"],[0.1111111111111111,\"#46039f\"],[0.2222222222222222,\"#7201a8\"],[0.3333333333333333,\"#9c179e\"],[0.4444444444444444,\"#bd3786\"],[0.5555555555555556,\"#d8576b\"],[0.6666666666666666,\"#ed7953\"],[0.7777777777777778,\"#fb9f3a\"],[0.8888888888888888,\"#fdca26\"],[1.0,\"#f0f921\"]],\"type\":\"heatmap\"}],\"heatmapgl\":[{\"colorbar\":{\"outlinewidth\":0,\"ticks\":\"\"},\"colorscale\":[[0.0,\"#0d0887\"],[0.1111111111111111,\"#46039f\"],[0.2222222222222222,\"#7201a8\"],[0.3333333333333333,\"#9c179e\"],[0.4444444444444444,\"#bd3786\"],[0.5555555555555556,\"#d8576b\"],[0.6666666666666666,\"#ed7953\"],[0.7777777777777778,\"#fb9f3a\"],[0.8888888888888888,\"#fdca26\"],[1.0,\"#f0f921\"]],\"type\":\"heatmapgl\"}],\"histogram\":[{\"marker\":{\"pattern\":{\"fillmode\":\"overlay\",\"size\":10,\"solidity\":0.2}},\"type\":\"histogram\"}],\"histogram2d\":[{\"colorbar\":{\"outlinewidth\":0,\"ticks\":\"\"},\"colorscale\":[[0.0,\"#0d0887\"],[0.1111111111111111,\"#46039f\"],[0.2222222222222222,\"#7201a8\"],[0.3333333333333333,\"#9c179e\"],[0.4444444444444444,\"#bd3786\"],[0.5555555555555556,\"#d8576b\"],[0.6666666666666666,\"#ed7953\"],[0.7777777777777778,\"#fb9f3a\"],[0.8888888888888888,\"#fdca26\"],[1.0,\"#f0f921\"]],\"type\":\"histogram2d\"}],\"histogram2dcontour\":[{\"colorbar\":{\"outlinewidth\":0,\"ticks\":\"\"},\"colorscale\":[[0.0,\"#0d0887\"],[0.1111111111111111,\"#46039f\"],[0.2222222222222222,\"#7201a8\"],[0.3333333333333333,\"#9c179e\"],[0.4444444444444444,\"#bd3786\"],[0.5555555555555556,\"#d8576b\"],[0.6666666666666666,\"#ed7953\"],[0.7777777777777778,\"#fb9f3a\"],[0.8888888888888888,\"#fdca26\"],[1.0,\"#f0f921\"]],\"type\":\"histogram2dcontour\"}],\"mesh3d\":[{\"colorbar\":{\"outlinewidth\":0,\"ticks\":\"\"},\"type\":\"mesh3d\"}],\"parcoords\":[{\"line\":{\"colorbar\":{\"outlinewidth\":0,\"ticks\":\"\"}},\"type\":\"parcoords\"}],\"pie\":[{\"automargin\":true,\"type\":\"pie\"}],\"scatter\":[{\"marker\":{\"colorbar\":{\"outlinewidth\":0,\"ticks\":\"\"}},\"type\":\"scatter\"}],\"scatter3d\":[{\"line\":{\"colorbar\":{\"outlinewidth\":0,\"ticks\":\"\"}},\"marker\":{\"colorbar\":{\"outlinewidth\":0,\"ticks\":\"\"}},\"type\":\"scatter3d\"}],\"scattercarpet\":[{\"marker\":{\"colorbar\":{\"outlinewidth\":0,\"ticks\":\"\"}},\"type\":\"scattercarpet\"}],\"scattergeo\":[{\"marker\":{\"colorbar\":{\"outlinewidth\":0,\"ticks\":\"\"}},\"type\":\"scattergeo\"}],\"scattergl\":[{\"marker\":{\"colorbar\":{\"outlinewidth\":0,\"ticks\":\"\"}},\"type\":\"scattergl\"}],\"scattermapbox\":[{\"marker\":{\"colorbar\":{\"outlinewidth\":0,\"ticks\":\"\"}},\"type\":\"scattermapbox\"}],\"scatterpolar\":[{\"marker\":{\"colorbar\":{\"outlinewidth\":0,\"ticks\":\"\"}},\"type\":\"scatterpolar\"}],\"scatterpolargl\":[{\"marker\":{\"colorbar\":{\"outlinewidth\":0,\"ticks\":\"\"}},\"type\":\"scatterpolargl\"}],\"scatterternary\":[{\"marker\":{\"colorbar\":{\"outlinewidth\":0,\"ticks\":\"\"}},\"type\":\"scatterternary\"}],\"surface\":[{\"colorbar\":{\"outlinewidth\":0,\"ticks\":\"\"},\"colorscale\":[[0.0,\"#0d0887\"],[0.1111111111111111,\"#46039f\"],[0.2222222222222222,\"#7201a8\"],[0.3333333333333333,\"#9c179e\"],[0.4444444444444444,\"#bd3786\"],[0.5555555555555556,\"#d8576b\"],[0.6666666666666666,\"#ed7953\"],[0.7777777777777778,\"#fb9f3a\"],[0.8888888888888888,\"#fdca26\"],[1.0,\"#f0f921\"]],\"type\":\"surface\"}],\"table\":[{\"cells\":{\"fill\":{\"color\":\"#EBF0F8\"},\"line\":{\"color\":\"white\"}},\"header\":{\"fill\":{\"color\":\"#C8D4E3\"},\"line\":{\"color\":\"white\"}},\"type\":\"table\"}]},\"layout\":{\"annotationdefaults\":{\"arrowcolor\":\"#2a3f5f\",\"arrowhead\":0,\"arrowwidth\":1},\"autotypenumbers\":\"strict\",\"coloraxis\":{\"colorbar\":{\"outlinewidth\":0,\"ticks\":\"\"}},\"colorscale\":{\"diverging\":[[0,\"#8e0152\"],[0.1,\"#c51b7d\"],[0.2,\"#de77ae\"],[0.3,\"#f1b6da\"],[0.4,\"#fde0ef\"],[0.5,\"#f7f7f7\"],[0.6,\"#e6f5d0\"],[0.7,\"#b8e186\"],[0.8,\"#7fbc41\"],[0.9,\"#4d9221\"],[1,\"#276419\"]],\"sequential\":[[0.0,\"#0d0887\"],[0.1111111111111111,\"#46039f\"],[0.2222222222222222,\"#7201a8\"],[0.3333333333333333,\"#9c179e\"],[0.4444444444444444,\"#bd3786\"],[0.5555555555555556,\"#d8576b\"],[0.6666666666666666,\"#ed7953\"],[0.7777777777777778,\"#fb9f3a\"],[0.8888888888888888,\"#fdca26\"],[1.0,\"#f0f921\"]],\"sequentialminus\":[[0.0,\"#0d0887\"],[0.1111111111111111,\"#46039f\"],[0.2222222222222222,\"#7201a8\"],[0.3333333333333333,\"#9c179e\"],[0.4444444444444444,\"#bd3786\"],[0.5555555555555556,\"#d8576b\"],[0.6666666666666666,\"#ed7953\"],[0.7777777777777778,\"#fb9f3a\"],[0.8888888888888888,\"#fdca26\"],[1.0,\"#f0f921\"]]},\"colorway\":[\"#636efa\",\"#EF553B\",\"#00cc96\",\"#ab63fa\",\"#FFA15A\",\"#19d3f3\",\"#FF6692\",\"#B6E880\",\"#FF97FF\",\"#FECB52\"],\"font\":{\"color\":\"#2a3f5f\"},\"geo\":{\"bgcolor\":\"white\",\"lakecolor\":\"white\",\"landcolor\":\"#E5ECF6\",\"showlakes\":true,\"showland\":true,\"subunitcolor\":\"white\"},\"hoverlabel\":{\"align\":\"left\"},\"hovermode\":\"closest\",\"mapbox\":{\"style\":\"light\"},\"paper_bgcolor\":\"white\",\"plot_bgcolor\":\"#E5ECF6\",\"polar\":{\"angularaxis\":{\"gridcolor\":\"white\",\"linecolor\":\"white\",\"ticks\":\"\"},\"bgcolor\":\"#E5ECF6\",\"radialaxis\":{\"gridcolor\":\"white\",\"linecolor\":\"white\",\"ticks\":\"\"}},\"scene\":{\"xaxis\":{\"backgroundcolor\":\"#E5ECF6\",\"gridcolor\":\"white\",\"gridwidth\":2,\"linecolor\":\"white\",\"showbackground\":true,\"ticks\":\"\",\"zerolinecolor\":\"white\"},\"yaxis\":{\"backgroundcolor\":\"#E5ECF6\",\"gridcolor\":\"white\",\"gridwidth\":2,\"linecolor\":\"white\",\"showbackground\":true,\"ticks\":\"\",\"zerolinecolor\":\"white\"},\"zaxis\":{\"backgroundcolor\":\"#E5ECF6\",\"gridcolor\":\"white\",\"gridwidth\":2,\"linecolor\":\"white\",\"showbackground\":true,\"ticks\":\"\",\"zerolinecolor\":\"white\"}},\"shapedefaults\":{\"line\":{\"color\":\"#2a3f5f\"}},\"ternary\":{\"aaxis\":{\"gridcolor\":\"white\",\"linecolor\":\"white\",\"ticks\":\"\"},\"baxis\":{\"gridcolor\":\"white\",\"linecolor\":\"white\",\"ticks\":\"\"},\"bgcolor\":\"#E5ECF6\",\"caxis\":{\"gridcolor\":\"white\",\"linecolor\":\"white\",\"ticks\":\"\"}},\"title\":{\"x\":0.05},\"xaxis\":{\"automargin\":true,\"gridcolor\":\"white\",\"linecolor\":\"white\",\"ticks\":\"\",\"title\":{\"standoff\":15},\"zerolinecolor\":\"white\",\"zerolinewidth\":2},\"yaxis\":{\"automargin\":true,\"gridcolor\":\"white\",\"linecolor\":\"white\",\"ticks\":\"\",\"title\":{\"standoff\":15},\"zerolinecolor\":\"white\",\"zerolinewidth\":2}}},\"geo\":{\"projection\":{\"type\":\"equirectangular\"},\"showcountries\":true,\"countrycolor\":\"grey\"},\"margin\":{\"r\":10,\"t\":60,\"l\":20,\"b\":50},\"height\":600,\"showlegend\":false},                        {\"responsive\": true}                    ).then(function(){\n",
       "                            \n",
       "var gd = document.getElementById('6f9c8213-bfc0-455d-95f0-2ca820fab5cc');\n",
       "var x = new MutationObserver(function (mutations, observer) {{\n",
       "        var display = window.getComputedStyle(gd).display;\n",
       "        if (!display || display === 'none') {{\n",
       "            console.log([gd, 'removed!']);\n",
       "            Plotly.purge(gd);\n",
       "            observer.disconnect();\n",
       "        }}\n",
       "}});\n",
       "\n",
       "// Listen for the removal of the full notebook cells\n",
       "var notebookContainer = gd.closest('#notebook-container');\n",
       "if (notebookContainer) {{\n",
       "    x.observe(notebookContainer, {childList: true});\n",
       "}}\n",
       "\n",
       "// Listen for the clearing of the current output cell\n",
       "var outputEl = gd.closest('.output');\n",
       "if (outputEl) {{\n",
       "    x.observe(outputEl, {childList: true});\n",
       "}}\n",
       "\n",
       "                        })                };                });            </script>        </div>"
      ]
     },
     "metadata": {},
     "output_type": "display_data"
    }
   ],
   "source": [
    "scl=px.colors.qualitative.Plotly\n",
    "\n",
    "normalization=max(migration['num'])/width_value\n",
    "dataset_filtered=dataset[dataset['num']>filter_value]\n",
    "\n",
    "for i in dataset_filtered.index:\n",
    "        if (df[df.country==dataset_filtered.loc[i,'from']].shape[0]>0)&(df[df.country==dataset_filtered.loc[i,'to']].shape[0]>0):\n",
    "\n",
    "            fig.add_trace(\n",
    "                go.Scattergeo(\n",
    "                    lon = [list(df[df.country==dataset_filtered.loc[i,'from']]['long'])[0], list(df[df.country==dataset_filtered.loc[i,'to']]['long'])[0]],\n",
    "                    lat = [list(df[df.country==dataset_filtered.loc[i,'from']]['lat'])[0], list(df[df.country==dataset_filtered.loc[i,'to']]['lat'])[0]],\n",
    "                    mode = 'lines',                                      \n",
    "                    hovertemplate = \"From: \"+dataset_filtered.loc[i,'from']+\"<br>To: \"+ dataset_filtered.loc[i,'to']+\"<br>\"\n",
    "                    +\"{:,}\".format(dataset_filtered.loc[i,'num']) + '<extra></extra>',\n",
    "                    \n",
    "                    #hovertemplate=[dataset.loc[i,'from'], dataset.loc[i,'to']], \n",
    "                    line = dict(width = dataset_filtered.loc[i, 'num']/normalization, color= scl[i % len(scl)], dash='dash'                               \n",
    "                               )))\n",
    "\n",
    "        \n",
    "fig.update_layout(\n",
    "showlegend = False)\n",
    "\n",
    "fig.show()"
   ]
  },
  {
   "cell_type": "code",
   "execution_count": 242,
   "metadata": {},
   "outputs": [
    {
     "name": "stdout",
     "output_type": "stream",
     "text": [
      "Dash is running on http://127.0.0.1:8050/\n",
      "\n",
      "Dash is running on http://127.0.0.1:8050/\n",
      "\n",
      "Dash is running on http://127.0.0.1:8050/\n",
      "\n",
      "Dash is running on http://127.0.0.1:8050/\n",
      "\n",
      "Dash is running on http://127.0.0.1:8050/\n",
      "\n",
      "Dash is running on http://127.0.0.1:8050/\n",
      "\n",
      "Dash is running on http://127.0.0.1:8050/\n",
      "\n",
      "Dash is running on http://127.0.0.1:8050/\n",
      "\n",
      "Dash is running on http://127.0.0.1:8050/\n",
      "\n",
      "Dash is running on http://127.0.0.1:8050/\n",
      "\n",
      "Dash is running on http://127.0.0.1:8050/\n",
      "\n",
      "Dash is running on http://127.0.0.1:8050/\n",
      "\n",
      "Dash is running on http://127.0.0.1:8050/\n",
      "\n",
      "Dash is running on http://127.0.0.1:8050/\n",
      "\n",
      "Dash is running on http://127.0.0.1:8050/\n",
      "\n",
      "Dash is running on http://127.0.0.1:8050/\n",
      "\n",
      "Dash is running on http://127.0.0.1:8050/\n",
      "\n",
      "Dash is running on http://127.0.0.1:8050/\n",
      "\n",
      "Dash is running on http://127.0.0.1:8050/\n",
      "\n",
      "Dash is running on http://127.0.0.1:8050/\n",
      "\n",
      "Dash is running on http://127.0.0.1:8050/\n",
      "\n",
      "Dash is running on http://127.0.0.1:8050/\n",
      "\n",
      "Dash is running on http://127.0.0.1:8050/\n",
      "\n",
      "Dash is running on http://127.0.0.1:8050/\n",
      "\n",
      "Dash is running on http://127.0.0.1:8050/\n",
      "\n",
      "Dash is running on http://127.0.0.1:8050/\n",
      "\n",
      "Dash is running on http://127.0.0.1:8050/\n",
      "\n",
      "Dash is running on http://127.0.0.1:8050/\n",
      "\n",
      "Dash is running on http://127.0.0.1:8050/\n",
      "\n",
      "Dash is running on http://127.0.0.1:8050/\n",
      "\n",
      "Dash is running on http://127.0.0.1:8050/\n",
      "\n",
      "Dash is running on http://127.0.0.1:8050/\n",
      "\n",
      "Dash is running on http://127.0.0.1:8050/\n",
      "\n",
      "Dash is running on http://127.0.0.1:8050/\n",
      "\n",
      "Dash is running on http://127.0.0.1:8050/\n",
      "\n",
      "Dash is running on http://127.0.0.1:8050/\n",
      "\n",
      "Dash is running on http://127.0.0.1:8050/\n",
      "\n",
      "Dash is running on http://127.0.0.1:8050/\n",
      "\n",
      "Dash is running on http://127.0.0.1:8050/\n",
      "\n",
      "Dash is running on http://127.0.0.1:8050/\n",
      "\n",
      "Dash is running on http://127.0.0.1:8050/\n",
      "\n",
      "Dash is running on http://127.0.0.1:8050/\n",
      "\n",
      "Dash is running on http://127.0.0.1:8050/\n",
      "\n",
      "Dash is running on http://127.0.0.1:8050/\n",
      "\n",
      "Dash is running on http://127.0.0.1:8050/\n",
      "\n",
      "Dash is running on http://127.0.0.1:8050/\n",
      "\n",
      "Dash is running on http://127.0.0.1:8050/\n",
      "\n",
      "Dash is running on http://127.0.0.1:8050/\n",
      "\n",
      "Dash is running on http://127.0.0.1:8050/\n",
      "\n",
      "Dash is running on http://127.0.0.1:8050/\n",
      "\n",
      "Dash is running on http://127.0.0.1:8050/\n",
      "\n",
      "Dash is running on http://127.0.0.1:8050/\n",
      "\n",
      "Dash is running on http://127.0.0.1:8050/\n",
      "\n",
      "Dash is running on http://127.0.0.1:8050/\n",
      "\n",
      "Dash is running on http://127.0.0.1:8050/\n",
      "\n",
      " * Serving Flask app \"__main__\" (lazy loading)\n",
      " * Environment: production\n",
      "   WARNING: This is a development server. Do not use it in a production deployment.\n",
      "   Use a production WSGI server instead.\n",
      " * Debug mode: off\n"
     ]
    },
    {
     "name": "stderr",
     "output_type": "stream",
     "text": [
      " * Running on http://127.0.0.1:8050/ (Press CTRL+C to quit)\n",
      "127.0.0.1 - - [11/Feb/2022 21:07:01] \"\u001b[37mGET / HTTP/1.1\u001b[0m\" 200 -\n",
      "127.0.0.1 - - [11/Feb/2022 21:07:01] \"\u001b[37mGET /_dash-layout HTTP/1.1\u001b[0m\" 200 -\n",
      "127.0.0.1 - - [11/Feb/2022 21:07:01] \"\u001b[37mGET /_dash-dependencies HTTP/1.1\u001b[0m\" 200 -\n",
      "127.0.0.1 - - [11/Feb/2022 21:07:01] \"\u001b[37mGET /_dash-component-suites/dash/dcc/async-upload.js HTTP/1.1\u001b[0m\" 200 -\n",
      "127.0.0.1 - - [11/Feb/2022 21:07:01] \"\u001b[37mGET /_dash-component-suites/dash/dcc/async-dropdown.js HTTP/1.1\u001b[0m\" 200 -\n",
      "127.0.0.1 - - [11/Feb/2022 21:07:01] \"\u001b[37mGET /_dash-component-suites/dash/dcc/async-slider.js HTTP/1.1\u001b[0m\" 200 -\n",
      "127.0.0.1 - - [11/Feb/2022 21:07:01] \"\u001b[37mGET /_dash-component-suites/dash/dcc/async-graph.js HTTP/1.1\u001b[0m\" 200 -\n",
      "127.0.0.1 - - [11/Feb/2022 21:07:01] \"\u001b[37mGET /_dash-component-suites/dash/dcc/async-plotlyjs.js HTTP/1.1\u001b[0m\" 200 -\n",
      "127.0.0.1 - - [11/Feb/2022 21:07:01] \"\u001b[37mPOST /_dash-update-component HTTP/1.1\u001b[0m\" 200 -\n",
      "127.0.0.1 - - [11/Feb/2022 21:07:02] \"\u001b[37mPOST /_dash-update-component HTTP/1.1\u001b[0m\" 204 -\n"
     ]
    },
    {
     "name": "stdout",
     "output_type": "stream",
     "text": [
      "0 from_column None to_column None\n",
      "No update\n"
     ]
    },
    {
     "name": "stderr",
     "output_type": "stream",
     "text": [
      "127.0.0.1 - - [11/Feb/2022 21:07:04] \"\u001b[37mPOST /_dash-update-component HTTP/1.1\u001b[0m\" 204 -\n"
     ]
    },
    {
     "name": "stdout",
     "output_type": "stream",
     "text": [
      "0 from_column None to_column None\n",
      "No update\n"
     ]
    },
    {
     "name": "stderr",
     "output_type": "stream",
     "text": [
      "127.0.0.1 - - [11/Feb/2022 21:07:06] \"\u001b[37mPOST /_dash-update-component HTTP/1.1\u001b[0m\" 204 -\n"
     ]
    },
    {
     "name": "stdout",
     "output_type": "stream",
     "text": [
      "0 from_column None to_column None\n",
      "No update\n"
     ]
    },
    {
     "name": "stderr",
     "output_type": "stream",
     "text": [
      "127.0.0.1 - - [11/Feb/2022 21:07:11] \"\u001b[37mPOST /_dash-update-component HTTP/1.1\u001b[0m\" 200 -\n",
      "127.0.0.1 - - [11/Feb/2022 21:07:12] \"\u001b[37mPOST /_dash-update-component HTTP/1.1\u001b[0m\" 204 -\n"
     ]
    },
    {
     "name": "stdout",
     "output_type": "stream",
     "text": [
      "3 from_column Source to_column None\n",
      "No update\n",
      "3 from_column Source to_column Destination\n",
      "value column None\n",
      "from column Source\n",
      "to column Destination\n",
      "dataset_filtered RangeIndex(start=0, stop=5, step=1)\n"
     ]
    },
    {
     "name": "stderr",
     "output_type": "stream",
     "text": [
      "127.0.0.1 - - [11/Feb/2022 21:07:14] \"\u001b[37mPOST /_dash-update-component HTTP/1.1\u001b[0m\" 200 -\n"
     ]
    },
    {
     "name": "stdout",
     "output_type": "stream",
     "text": [
      "3 from_column Source to_column Destination\n",
      "value column Number\n",
      "from column Source\n",
      "to column Destination\n",
      "width max 10 <class 'int'>\n",
      "norm 13502.8\n",
      "dataset_filtered Int64Index([], dtype='int64')\n",
      "3 from_column Source to_column Destination\n",
      "value column Number\n",
      "from column Source\n",
      "to column Destination\n",
      "width max 10 <class 'int'>\n",
      "norm 13502.8\n",
      "dataset_filtered3 from_column Source  Int64Index([0, 1, 3, 4, 5], dtype='int64')\n",
      "to_column Destination\n",
      "value column Number\n",
      "from column Source\n",
      "to column Destination\n",
      "width max 10 <class 'int'>\n",
      "norm 13502.8\n",
      "dataset_filtered Int64Index([0, 1, 3, 4, 5], dtype='int64')\n",
      "3 from_column Source to_column Destination\n",
      "value column Number\n",
      "from column Source\n",
      "to column Destination\n",
      "width max 10 <class 'int'>\n",
      "norm 13502.8\n",
      "dataset_filtered Int64Index([0, 1, 3, 4, 8], dtype='int64')\n",
      "3 from_column Source to_column Destination\n",
      "value column Number\n",
      "from column Source\n",
      "3 from_columnto column Destination\n",
      " Source to_column Destination\n",
      "value column width maxNumber\n",
      " 10from column  <class 'int'>\n",
      "norm 13502.8Source\n",
      "\n",
      "to column Destination\n",
      "width max 10 <class 'int'>\n",
      "normdataset_filtered Int64Index([0, 4, 13, 16, 21], dtype='int64')\n",
      " 13502.8\n",
      "dataset_filtered Int64Index([48, 52, 257, 416, 432], dtype='int64')\n"
     ]
    },
    {
     "name": "stderr",
     "output_type": "stream",
     "text": [
      "127.0.0.1 - - [11/Feb/2022 21:07:18] \"\u001b[37mPOST /_dash-update-component HTTP/1.1\u001b[0m\" 200 -\n"
     ]
    },
    {
     "name": "stdout",
     "output_type": "stream",
     "text": [
      "3 from_column Source to_column Destination\n",
      "value column Number\n",
      "from column Source\n",
      "to column Destination\n",
      "width max 24 <class 'int'>\n",
      "norm 5626.166666666667\n",
      "dataset_filtered Int64Index([48, 52, 257, 416, 432], dtype='int64')\n"
     ]
    },
    {
     "name": "stderr",
     "output_type": "stream",
     "text": [
      "127.0.0.1 - - [11/Feb/2022 21:07:21] \"\u001b[37mPOST /_dash-update-component HTTP/1.1\u001b[0m\" 200 -\n"
     ]
    },
    {
     "name": "stdout",
     "output_type": "stream",
     "text": [
      "3 from_column Source to_column Destination\n",
      "value column Number\n",
      "from column Source\n",
      "to column Destination\n",
      "width max 24 <class 'int'>\n",
      "norm 5626.166666666667\n",
      "dataset_filtered Int64Index([48, 52, 257, 416, 432], dtype='int64')\n"
     ]
    },
    {
     "name": "stderr",
     "output_type": "stream",
     "text": [
      "127.0.0.1 - - [11/Feb/2022 21:07:24] \"\u001b[37mPOST /_dash-update-component HTTP/1.1\u001b[0m\" 200 -\n"
     ]
    },
    {
     "name": "stdout",
     "output_type": "stream",
     "text": [
      "3 from_column Source to_column Destination\n",
      "value column Number\n",
      "from column Source\n",
      "to column Destination\n",
      "width max 24 <class 'int'>\n",
      "norm 5626.166666666667\n",
      "dataset_filtered Int64Index([48, 52, 257, 416, 432], dtype='int64')\n"
     ]
    },
    {
     "name": "stderr",
     "output_type": "stream",
     "text": [
      "127.0.0.1 - - [11/Feb/2022 21:07:26] \"\u001b[37mPOST /_dash-update-component HTTP/1.1\u001b[0m\" 200 -\n"
     ]
    },
    {
     "name": "stdout",
     "output_type": "stream",
     "text": [
      "3 from_column Source to_column Destination\n",
      "value column Number\n",
      "from column Source\n",
      "to column Destination\n",
      "width max 24 <class 'int'>\n",
      "norm 5626.166666666667\n",
      "dataset_filtered Int64Index([48, 52, 257, 416, 432], dtype='int64')\n"
     ]
    },
    {
     "name": "stderr",
     "output_type": "stream",
     "text": [
      "127.0.0.1 - - [11/Feb/2022 21:07:29] \"\u001b[37mPOST /_dash-update-component HTTP/1.1\u001b[0m\" 200 -\n"
     ]
    },
    {
     "name": "stdout",
     "output_type": "stream",
     "text": [
      "3 from_column Source to_column Destination\n",
      "value column Number\n",
      "from column Source\n",
      "to column Destination\n",
      "width max 24 <class 'int'>\n",
      "norm 5626.166666666667\n",
      "dataset_filtered Int64Index([48, 52, 257, 416, 432], dtype='int64')\n"
     ]
    },
    {
     "name": "stderr",
     "output_type": "stream",
     "text": [
      "127.0.0.1 - - [11/Feb/2022 21:07:30] \"\u001b[37mPOST /_dash-update-component HTTP/1.1\u001b[0m\" 200 -\n"
     ]
    },
    {
     "name": "stdout",
     "output_type": "stream",
     "text": [
      "3 from_column Source to_column Destination\n",
      "value column Number\n",
      "from column Source\n",
      "to column Destination\n",
      "width max 24 <class 'int'>\n",
      "norm 5626.166666666667\n",
      "dataset_filtered Int64Index([48, 52, 257, 416, 432], dtype='int64')\n"
     ]
    },
    {
     "name": "stderr",
     "output_type": "stream",
     "text": [
      "127.0.0.1 - - [11/Feb/2022 21:07:31] \"\u001b[37mPOST /_dash-update-component HTTP/1.1\u001b[0m\" 200 -\n"
     ]
    },
    {
     "name": "stdout",
     "output_type": "stream",
     "text": [
      "3 from_column Source to_column Destination\n",
      "value column Number\n",
      "from column Source\n",
      "to column Destination\n",
      "width max 24 <class 'int'>\n",
      "norm 5626.166666666667\n",
      "dataset_filtered Int64Index([48, 52, 257, 416, 432], dtype='int64')\n"
     ]
    },
    {
     "name": "stderr",
     "output_type": "stream",
     "text": [
      "127.0.0.1 - - [11/Feb/2022 21:07:33] \"\u001b[37mPOST /_dash-update-component HTTP/1.1\u001b[0m\" 200 -\n"
     ]
    },
    {
     "name": "stdout",
     "output_type": "stream",
     "text": [
      "3 from_column Source to_column Destination\n",
      "value column Number\n",
      "from column Source\n",
      "to column Destination\n",
      "width max 24 <class 'int'>\n",
      "norm 5626.166666666667\n",
      "dataset_filtered Int64Index([48, 52, 257, 416, 432], dtype='int64')\n"
     ]
    },
    {
     "name": "stderr",
     "output_type": "stream",
     "text": [
      "127.0.0.1 - - [11/Feb/2022 21:07:33] \"\u001b[37mPOST /_dash-update-component HTTP/1.1\u001b[0m\" 200 -\n"
     ]
    },
    {
     "name": "stdout",
     "output_type": "stream",
     "text": [
      "3 from_column Source to_column Destination\n",
      "value column Number\n",
      "from column Source\n",
      "to column Destination\n",
      "width max 24 <class 'int'>\n",
      "norm 5626.166666666667\n",
      "dataset_filtered Int64Index([48, 52, 257, 416, 432], dtype='int64')\n"
     ]
    },
    {
     "name": "stderr",
     "output_type": "stream",
     "text": [
      "127.0.0.1 - - [11/Feb/2022 21:07:35] \"\u001b[37mPOST /_dash-update-component HTTP/1.1\u001b[0m\" 200 -\n",
      "127.0.0.1 - - [11/Feb/2022 21:07:35] \"\u001b[37mPOST /_dash-update-component HTTP/1.1\u001b[0m\" 200 -\n"
     ]
    },
    {
     "name": "stdout",
     "output_type": "stream",
     "text": [
      "33  from_column Source to_column Destination\n",
      "from_column Source to_column Destination\n",
      "value columnvalue column Number\n",
      " Number\n",
      "from column Source\n",
      "to column Destination\n",
      "from column Source\n",
      "to column Destination\n",
      "width maxwidth max 24 24  <class 'int'><class 'int'>\n",
      "norm 5626.166666666667\n",
      "\n",
      "norm 5626.166666666667\n",
      "dataset_filtereddataset_filtered  Int64Index([48, 52, 257, 416, 432], dtype='int64')\n",
      "Int64Index([48, 52, 257, 416, 432], dtype='int64')\n"
     ]
    },
    {
     "name": "stderr",
     "output_type": "stream",
     "text": [
      "127.0.0.1 - - [11/Feb/2022 21:07:38] \"\u001b[37mPOST /_dash-update-component HTTP/1.1\u001b[0m\" 200 -\n"
     ]
    },
    {
     "name": "stdout",
     "output_type": "stream",
     "text": [
      "3 from_column Source to_column Destination\n",
      "value column Number\n",
      "from column Source\n",
      "to column Destination\n",
      "width max 24 <class 'int'>\n",
      "norm 5626.166666666667\n",
      "dataset_filtered Int64Index([48, 52, 257, 416, 432], dtype='int64')\n"
     ]
    },
    {
     "name": "stderr",
     "output_type": "stream",
     "text": [
      "127.0.0.1 - - [11/Feb/2022 21:07:38] \"\u001b[37mPOST /_dash-update-component HTTP/1.1\u001b[0m\" 200 -\n"
     ]
    },
    {
     "name": "stdout",
     "output_type": "stream",
     "text": [
      "3 from_column Source to_column Destination\n",
      "value column Number\n",
      "from column Source\n",
      "to column Destination\n",
      "width max 24 <class 'int'>\n",
      "norm 5626.166666666667\n",
      "dataset_filtered Int64Index([48, 52, 257, 416, 432], dtype='int64')\n"
     ]
    },
    {
     "name": "stderr",
     "output_type": "stream",
     "text": [
      "127.0.0.1 - - [11/Feb/2022 21:07:40] \"\u001b[37mPOST /_dash-update-component HTTP/1.1\u001b[0m\" 200 -\n"
     ]
    },
    {
     "name": "stdout",
     "output_type": "stream",
     "text": [
      "3 from_column Source to_column Destination\n",
      "value column Number\n",
      "from column Source\n",
      "to column Destination\n",
      "width max 24 <class 'int'>\n",
      "norm 5626.166666666667\n",
      "dataset_filtered Int64Index([48, 52, 257, 416, 432], dtype='int64')\n"
     ]
    },
    {
     "name": "stderr",
     "output_type": "stream",
     "text": [
      "127.0.0.1 - - [11/Feb/2022 21:07:41] \"\u001b[37mPOST /_dash-update-component HTTP/1.1\u001b[0m\" 200 -\n"
     ]
    },
    {
     "name": "stdout",
     "output_type": "stream",
     "text": [
      "3 from_column Source to_column Destination\n",
      "value column Number\n",
      "from column Source\n",
      "to column Destination\n",
      "width max 24 <class 'int'>\n",
      "norm 5626.166666666667\n",
      "dataset_filtered Int64Index([48, 52, 257, 416, 432], dtype='int64')\n"
     ]
    },
    {
     "name": "stderr",
     "output_type": "stream",
     "text": [
      "127.0.0.1 - - [11/Feb/2022 21:07:43] \"\u001b[37mPOST /_dash-update-component HTTP/1.1\u001b[0m\" 200 -\n"
     ]
    },
    {
     "name": "stdout",
     "output_type": "stream",
     "text": [
      "3 from_column Source to_column Destination\n",
      "value column Number\n",
      "from column Source\n",
      "to column Destination\n",
      "width max 24 <class 'int'>\n",
      "norm 5626.166666666667\n",
      "dataset_filtered Int64Index([48, 52, 257, 416, 432], dtype='int64')\n"
     ]
    },
    {
     "name": "stderr",
     "output_type": "stream",
     "text": [
      "127.0.0.1 - - [11/Feb/2022 21:07:44] \"\u001b[37mPOST /_dash-update-component HTTP/1.1\u001b[0m\" 200 -\n"
     ]
    },
    {
     "name": "stdout",
     "output_type": "stream",
     "text": [
      "3 from_column Source to_column Destination\n",
      "value column Number\n",
      "from column Source\n",
      "to column Destination\n",
      "width max 24 <class 'int'>\n",
      "norm 5626.166666666667\n",
      "dataset_filtered Int64Index([48, 52, 257, 416, 432], dtype='int64')\n"
     ]
    },
    {
     "name": "stderr",
     "output_type": "stream",
     "text": [
      "127.0.0.1 - - [11/Feb/2022 21:07:46] \"\u001b[37mPOST /_dash-update-component HTTP/1.1\u001b[0m\" 200 -\n",
      "127.0.0.1 - - [11/Feb/2022 21:07:46] \"\u001b[37mPOST /_dash-update-component HTTP/1.1\u001b[0m\" 200 -\n"
     ]
    },
    {
     "name": "stdout",
     "output_type": "stream",
     "text": [
      "3 from_column Source to_column Destination\n",
      "value column Number\n",
      "from column Source\n",
      "to column Destination\n",
      "width max 24 <class 'int'>\n",
      "norm 5626.166666666667\n",
      "dataset_filtered Int64Index([48, 52, 257, 416, 432], dtype='int64')\n",
      "3 from_column Source to_column Destination\n",
      "value column Number\n",
      "from column Source\n",
      "to column Destination\n",
      "width max 24 <class 'int'>\n",
      "norm 5626.166666666667\n",
      "dataset_filtered Int64Index([48, 52, 257, 416, 432], dtype='int64')\n"
     ]
    },
    {
     "name": "stderr",
     "output_type": "stream",
     "text": [
      "127.0.0.1 - - [11/Feb/2022 21:07:47] \"\u001b[37mPOST /_dash-update-component HTTP/1.1\u001b[0m\" 200 -\n"
     ]
    },
    {
     "name": "stdout",
     "output_type": "stream",
     "text": [
      "3 from_column Source to_column Destination\n",
      "value column Number\n",
      "from column Source\n",
      "to column Destination\n",
      "width max 24 <class 'int'>\n",
      "norm 5626.166666666667\n",
      "dataset_filtered Int64Index([48, 52, 257, 416, 432], dtype='int64')\n"
     ]
    },
    {
     "name": "stderr",
     "output_type": "stream",
     "text": [
      "127.0.0.1 - - [11/Feb/2022 21:07:48] \"\u001b[37mPOST /_dash-update-component HTTP/1.1\u001b[0m\" 200 -\n"
     ]
    },
    {
     "name": "stdout",
     "output_type": "stream",
     "text": [
      "3 from_column Source to_column Destination\n",
      "value column Number\n",
      "from column Source\n",
      "to column Destination\n",
      "width max 24 <class 'int'>\n",
      "norm 5626.166666666667\n",
      "dataset_filtered Int64Index([48, 52, 257, 416, 432], dtype='int64')\n"
     ]
    },
    {
     "name": "stderr",
     "output_type": "stream",
     "text": [
      "127.0.0.1 - - [11/Feb/2022 21:07:50] \"\u001b[37mPOST /_dash-update-component HTTP/1.1\u001b[0m\" 200 -\n"
     ]
    },
    {
     "name": "stdout",
     "output_type": "stream",
     "text": [
      "3 from_column Source to_column Destination\n",
      "value column Number\n",
      "from column Source\n",
      "to column Destination\n",
      "width max 24 <class 'int'>\n",
      "norm 5626.166666666667\n",
      "dataset_filtered Int64Index([48, 52, 257, 416, 432], dtype='int64')\n"
     ]
    },
    {
     "name": "stderr",
     "output_type": "stream",
     "text": [
      "127.0.0.1 - - [11/Feb/2022 21:07:51] \"\u001b[37mPOST /_dash-update-component HTTP/1.1\u001b[0m\" 200 -\n"
     ]
    },
    {
     "name": "stdout",
     "output_type": "stream",
     "text": [
      "3 from_column Source to_column Destination\n",
      "value column Number\n",
      "from column Source\n",
      "to column Destination\n",
      "width max 24 <class 'int'>\n",
      "norm 5626.166666666667\n",
      "dataset_filtered Int64Index([48, 52, 257, 416, 432], dtype='int64')\n"
     ]
    },
    {
     "name": "stderr",
     "output_type": "stream",
     "text": [
      "127.0.0.1 - - [11/Feb/2022 21:07:54] \"\u001b[37mPOST /_dash-update-component HTTP/1.1\u001b[0m\" 200 -\n",
      "127.0.0.1 - - [11/Feb/2022 21:07:54] \"\u001b[37mPOST /_dash-update-component HTTP/1.1\u001b[0m\" 200 -\n"
     ]
    },
    {
     "name": "stdout",
     "output_type": "stream",
     "text": [
      "3 3from_column Source to_column Destination\n",
      "value column Number\n",
      "from column Source\n",
      "to column Destination from_column Source\n",
      " width maxto_column Destination\n",
      "value column Number\n",
      "from column Source\n",
      "to column Destination\n",
      "width max 24 <class 'int'>\n",
      "norm 24 <class 'int'>\n",
      "norm 5626.166666666667\n",
      " 5626.166666666667\n",
      "dataset_filtered Int64Index([48, 52, 257, 416, 432], dtype='int64')\n",
      "dataset_filtered Int64Index([48, 52, 257, 416, 432], dtype='int64')\n"
     ]
    },
    {
     "name": "stderr",
     "output_type": "stream",
     "text": [
      "127.0.0.1 - - [11/Feb/2022 21:07:57] \"\u001b[37mPOST /_dash-update-component HTTP/1.1\u001b[0m\" 200 -\n",
      "127.0.0.1 - - [11/Feb/2022 21:07:57] \"\u001b[37mPOST /_dash-update-component HTTP/1.1\u001b[0m\" 200 -\n"
     ]
    },
    {
     "name": "stdout",
     "output_type": "stream",
     "text": [
      "3 from_column Source to_column Destination\n",
      "value column Number\n",
      "from column Source\n",
      "to column Destination\n",
      "width max 24 <class 'int'>\n",
      "norm 5626.166666666667\n",
      "dataset_filtered Int64Index([48, 52, 257, 416, 432], dtype='int64')\n",
      "3 from_column Source to_column Destination\n",
      "value column Number\n",
      "from column Source\n",
      "to column Destination\n",
      "width max 24 <class 'int'>\n",
      "norm 5626.166666666667\n",
      "dataset_filtered Int64Index([48, 52, 257, 416, 432], dtype='int64')\n"
     ]
    },
    {
     "name": "stderr",
     "output_type": "stream",
     "text": [
      "127.0.0.1 - - [11/Feb/2022 21:07:59] \"\u001b[37mPOST /_dash-update-component HTTP/1.1\u001b[0m\" 200 -\n",
      "127.0.0.1 - - [11/Feb/2022 21:08:00] \"\u001b[37mPOST /_dash-update-component HTTP/1.1\u001b[0m\" 200 -\n"
     ]
    },
    {
     "name": "stdout",
     "output_type": "stream",
     "text": [
      "3 from_column Source to_column Destination\n",
      "value column Number\n",
      "from column Source\n",
      "to column Destination\n",
      "width max 24 <class 'int'>\n",
      "norm 5626.166666666667\n",
      "dataset_filtered Int64Index([48, 52, 257, 416, 432], dtype='int64')\n",
      "3 from_column Source to_column Destination\n",
      "value column Number\n",
      "from column Source\n",
      "to column Destination\n",
      "width max 24 <class 'int'>\n",
      "norm 5626.166666666667\n",
      "dataset_filtered Int64Index([48, 52, 257, 416, 432], dtype='int64')\n"
     ]
    },
    {
     "name": "stderr",
     "output_type": "stream",
     "text": [
      "127.0.0.1 - - [11/Feb/2022 21:08:02] \"\u001b[37mPOST /_dash-update-component HTTP/1.1\u001b[0m\" 200 -\n",
      "127.0.0.1 - - [11/Feb/2022 21:08:02] \"\u001b[37mPOST /_dash-update-component HTTP/1.1\u001b[0m\" 200 -\n"
     ]
    },
    {
     "name": "stdout",
     "output_type": "stream",
     "text": [
      "3 from_column Source to_column Destination\n",
      "value column Number\n",
      "from column Source\n",
      "to column Destination\n",
      "width max 24 <class 'int'>\n",
      "norm 5626.166666666667\n",
      "dataset_filtered Int64Index([48, 52, 257, 416, 432], dtype='int64')\n",
      "3 from_column Source to_column Destination\n",
      "value column Number\n",
      "from column Source\n",
      "to column Destination\n",
      "width max 24 <class 'int'>\n",
      "norm 5626.166666666667\n",
      "dataset_filtered Int64Index([48, 52, 257, 416, 432], dtype='int64')\n"
     ]
    },
    {
     "name": "stderr",
     "output_type": "stream",
     "text": [
      "127.0.0.1 - - [11/Feb/2022 21:08:04] \"\u001b[37mPOST /_dash-update-component HTTP/1.1\u001b[0m\" 200 -\n",
      "127.0.0.1 - - [11/Feb/2022 21:08:04] \"\u001b[37mPOST /_dash-update-component HTTP/1.1\u001b[0m\" 200 -\n"
     ]
    },
    {
     "name": "stdout",
     "output_type": "stream",
     "text": [
      "3 from_column Source to_column Destination\n",
      "value column Number\n",
      "from column Source\n",
      "to column Destination\n",
      "width max 24 <class 'int'>\n",
      "norm 5626.166666666667\n",
      "dataset_filtered Int64Index([0, 1, 3, 4, 5], dtype='int64')\n",
      "3 from_column Source to_column Destination\n",
      "value column Number\n",
      "from column Source\n",
      "to column Destination\n",
      "width max 24 <class 'int'>\n",
      "norm 5626.166666666667\n",
      "dataset_filtered Int64Index([52, 257, 821, 1120, 1312], dtype='int64')\n"
     ]
    },
    {
     "name": "stderr",
     "output_type": "stream",
     "text": [
      "127.0.0.1 - - [11/Feb/2022 21:08:05] \"\u001b[37mPOST /_dash-update-component HTTP/1.1\u001b[0m\" 200 -\n"
     ]
    },
    {
     "name": "stdout",
     "output_type": "stream",
     "text": [
      "3 from_column Source to_column Destination\n",
      "value column Number\n",
      "from column Source\n",
      "to column Destination\n",
      "width max 24 <class 'int'>\n",
      "norm 5626.166666666667\n",
      "dataset_filtered Int64Index([52, 257, 821, 1120, 1312], dtype='int64')\n"
     ]
    },
    {
     "name": "stderr",
     "output_type": "stream",
     "text": [
      "127.0.0.1 - - [11/Feb/2022 21:08:06] \"\u001b[37mPOST /_dash-update-component HTTP/1.1\u001b[0m\" 200 -\n"
     ]
    },
    {
     "name": "stdout",
     "output_type": "stream",
     "text": [
      "3 from_column Source to_column Destination\n",
      "value column Number\n",
      "from column Source\n",
      "to column Destination\n",
      "width max 24 <class 'int'>\n",
      "norm 5626.166666666667\n",
      "dataset_filtered Int64Index([52, 257, 821, 1120, 1312], dtype='int64')\n"
     ]
    },
    {
     "name": "stderr",
     "output_type": "stream",
     "text": [
      "127.0.0.1 - - [11/Feb/2022 21:08:07] \"\u001b[37mPOST /_dash-update-component HTTP/1.1\u001b[0m\" 200 -\n",
      "127.0.0.1 - - [11/Feb/2022 21:08:07] \"\u001b[37mPOST /_dash-update-component HTTP/1.1\u001b[0m\" 200 -\n",
      "127.0.0.1 - - [11/Feb/2022 21:08:31] \"\u001b[37mPOST /_dash-update-component HTTP/1.1\u001b[0m\" 200 -\n"
     ]
    },
    {
     "name": "stdout",
     "output_type": "stream",
     "text": [
      "3 from_column Source to_column Destination\n",
      "value column Number\n",
      "from column Source\n",
      "to column Destination\n",
      "width max 24 <class 'int'>\n",
      "norm 5626.166666666667\n",
      "dataset_filtered Int64Index([52, 257, 821, 1120, 1312], dtype='int64')\n"
     ]
    },
    {
     "name": "stderr",
     "output_type": "stream",
     "text": [
      "127.0.0.1 - - [11/Feb/2022 21:08:32] \"\u001b[37mPOST /_dash-update-component HTTP/1.1\u001b[0m\" 200 -\n"
     ]
    },
    {
     "name": "stdout",
     "output_type": "stream",
     "text": [
      "3 from_column Source to_column Destination\n",
      "value column Number\n",
      "from column Source\n",
      "to column Destination\n",
      "width max 24 <class 'int'>\n",
      "norm 5626.166666666667\n",
      "dataset_filtered Int64Index([52, 257, 821, 1120, 1312], dtype='int64')\n"
     ]
    },
    {
     "name": "stderr",
     "output_type": "stream",
     "text": [
      "127.0.0.1 - - [11/Feb/2022 21:08:34] \"\u001b[37mPOST /_dash-update-component HTTP/1.1\u001b[0m\" 200 -\n",
      "127.0.0.1 - - [11/Feb/2022 21:08:54] \"\u001b[37mPOST /_dash-update-component HTTP/1.1\u001b[0m\" 200 -\n",
      "127.0.0.1 - - [11/Feb/2022 21:09:10] \"\u001b[37mPOST /_dash-update-component HTTP/1.1\u001b[0m\" 200 -\n",
      "127.0.0.1 - - [11/Feb/2022 21:09:12] \"\u001b[37mPOST /_dash-update-component HTTP/1.1\u001b[0m\" 200 -\n"
     ]
    }
   ],
   "source": [
    "app = Dash(__name__, external_stylesheets=[dbc.themes.BOOTSTRAP])\n",
    "\n",
    "text_value=\"\"\n",
    "\n",
    "dataset=pd.DataFrame()\n",
    "theme_options={'light':'plotly', 'dark':\"plotly_dark\"}\n",
    "scl=px.colors.qualitative.Plotly\n",
    "\n",
    "\n",
    "app.layout = html.Div([\n",
    "   dbc.Container(dbc.Row([ \n",
    "         \n",
    "    dbc.Col([\n",
    "        \n",
    "    dcc.Upload(\n",
    "        id='upload-data',\n",
    "        children=html.Div(\n",
    "        dbc.Button('Select Data File (csv or xls, incl. \"country\" column)', color=\"primary\"), \n",
    "                style={'width': '90%', 'height': '35px', 'margin-left': '10px', 'margin-top': '10px'}), \n",
    "        # Allow multiple files to be uploaded\n",
    "        multiple=True\n",
    "    ),    \n",
    "        html.Div(            \n",
    "    dcc.Dropdown(id=\"from_selection\", placeholder=\"Select Start column\"), style={'margin-left': '10px', 'width': '90%', \n",
    "                                                                             'margin-top': '35px', 'color':'black'}),\n",
    "\n",
    "       html.Div(            \n",
    "    dcc.Dropdown(id=\"to_selection\", placeholder=\"Select Destination column\"), style={'margin-left': '10px', 'width': '90%', \n",
    "                                                                             'margin-top': '15px', 'color':'black'}),\n",
    "        \n",
    "        html.Div(            \n",
    "    dcc.Dropdown(id=\"value_selection\", placeholder=\"Select Value column\"), style={'margin-left': '10px', 'width': '90%', \n",
    "                                                                             'margin-top': '15px', 'color':'black'}),\n",
    "        \n",
    "        \n",
    "        html.Div([  \n",
    "    html.Div(\"Enter min value to filter lines\", style={'margin-left': '10px','margin-top': '10px'}),\n",
    "            dcc.Input(\n",
    "            id=\"min-value\".format(\"number\"),\n",
    "            type=\"number\",\n",
    "            placeholder=0,\n",
    "            style={'margin-left': '10px','margin-top': '5px'}\n",
    "        )\n",
    "    ]), \n",
    "        \n",
    "        html.Div([  \n",
    "    html.Div(\"Choose max line width\", style={'margin-left': '10px','margin-top': '10px'}),\n",
    "     html.Div(dcc.Slider(0, 50, marks=None,\n",
    "               value=10,\n",
    "               id='width-choice'),\n",
    "                style={'width': '90%', 'height': '15px', 'margin-left': '10px','margin-top': '10px'}), \n",
    "    ]),   \n",
    "            \n",
    "    html.Div([\n",
    "    html.Div(\"Choose map type\", style={'margin-left': '10px','margin-top': '20px'}),\n",
    "    html.Div(dcc.Dropdown(id=\"map_type\", options=['natural earth', 'equirectangular', 'mercator', 'orthographic', 'kavrayskiy7',\n",
    "              'miller', 'robinson', 'eckert4', 'azimuthal equal area', 'azimuthal equidistant', 'gnomonic', 'stereographic', \n",
    "            'mollweide', 'hammer', 'transverse mercator', 'winkel tripel', 'aitoff', 'sinusoidal'],\n",
    "                 value=\"equirectangular\"), style={'margin-left': '10px', 'width': '90%', \n",
    "                                                                             'margin-top': '10px', 'color':'black'})\n",
    "    ]),\n",
    "       \n",
    "         html.Div([\n",
    "    html.Div(\"Choose map template\", style={'margin-left': '10px','margin-top': '20px'}),\n",
    "    html.Div(dcc.Dropdown(id=\"theme_choice\", options=['light', 'dark'],\n",
    "                 value=\"light\"), style={'margin-left': '10px', 'width': '90%', \n",
    "                                                                             'margin-top': '10px', 'color':'black'})\n",
    "    ]),\n",
    "        \n",
    "    \n",
    "    html.P(),\n",
    "    \n",
    "    html.Div([\n",
    "         html.Div(\"Add title\", style={'margin-left': '10px','margin-top': '10px'}),\n",
    "   html.Div(dcc.Input(\n",
    "            id=\"chart-title\",\n",
    "            type=\"text\",\n",
    "            placeholder=\"Please input the title name\".format(_),\n",
    "         style={'width': '90%',  'display': 'inline-block', 'margin-left': '10px','margin-top': '10px'}\n",
    "        )),\n",
    "        \n",
    "    html.Div(dcc.Dropdown(options=font_options, value='Arial', id=\"font_type\", placeholder=\"Title Font\"), style={'margin-left': '10px', 'width': '90%', \n",
    "                                                                             'margin-top': '15px', 'color':'black'}),\n",
    "        \n",
    "        html.Div(\"Font size\", style={'margin-left': '10px','margin-top': '10px'}),\n",
    "     html.Div(dcc.Slider(0, 40, marks=None,  value=20,\n",
    "               id='font_size'),\n",
    "                style={'width': '90%', 'height': '35px', 'margin-left': '10px','margin-top': '10px'}),  \n",
    "        \n",
    "]),\n",
    "        \n",
    "    ], style={'backgroundColor': 'black', 'color': 'white'} , width=3),\n",
    "   \n",
    "    dbc.Col([\n",
    "     html.Div([\n",
    "                  \n",
    "         \n",
    "         dcc.Graph(\n",
    "        id='example-graph')\n",
    "         ])],  width=9), \n",
    "    \n",
    "    ],  style={\"height\": \"100vh\"}), \n",
    "        fluid=True)])\n",
    "    \n",
    "def parse_contents(contents, filename):\n",
    "    \n",
    "    content_type, content_string = contents.split(',')\n",
    "\n",
    "    decoded = base64.b64decode(content_string)\n",
    "    \n",
    "    data=pd.DataFrame()\n",
    "    try:\n",
    "        if 'csv' in filename:\n",
    "            # Assume that the user uploaded a CSV file\n",
    "            data = pd.read_csv(\n",
    "                io.StringIO(decoded.decode('utf-8')))\n",
    "        elif 'xls' in filename:\n",
    "            # Assume that the user uploaded an excel file\n",
    "            data = pd.read_excel(io.BytesIO(decoded))\n",
    "\n",
    "    except Exception as e:\n",
    "        print(e)\n",
    "        return html.Div([\n",
    "            'There was an error processing this file.'\n",
    "        ])\n",
    "\n",
    "    return data\n",
    "\n",
    "\n",
    "@app.callback(Output('from_selection', 'options'),\n",
    "              Output('to_selection', 'options'),\n",
    "              Output('value_selection', 'options'),\n",
    "              Input('upload-data', 'contents'),              \n",
    "             State('upload-data', 'filename'))\n",
    "\n",
    "\n",
    "def update_data(list_of_contents, list_of_names): \n",
    "    global dataset\n",
    "    \n",
    "    dropdown_options=[]\n",
    "        \n",
    "    if list_of_contents is not None:\n",
    "        \n",
    "        dataset = [parse_contents(c, n) for c, n in\n",
    "            zip(list_of_contents, list_of_names)][0]\n",
    "        \n",
    "        dataset=dataset.fillna(0)\n",
    "        \n",
    "        dropdown_options=dataset.columns\n",
    "        \n",
    "    return dropdown_options, dropdown_options, dropdown_options\n",
    "\n",
    "    \n",
    "@app.callback( Output('example-graph', 'figure'),\n",
    "             Input('width-choice', 'value'),\n",
    "              Input('min-value', 'value'),\n",
    "             Input('chart-title', 'value'),\n",
    "             Input('from_selection', 'value'),\n",
    "             Input('to_selection', 'value'),\n",
    "              Input('value_selection', 'value'),\n",
    "             Input('map_type', 'value'),\n",
    "             Input('font_size', 'value'),\n",
    "             Input('font_type', 'value'),\n",
    "             Input('theme_choice', 'value'))\n",
    "\n",
    "\n",
    "def update_graph(width_value, filter_value, text_value, from_column, to_column, value_column,\n",
    "                 map_type, font_size, font_type, theme):\n",
    "    \n",
    "    \n",
    "    global dataset   \n",
    "    label_width=\"\"\n",
    "    \n",
    "    \n",
    "    fig = go.Figure(go.Scattergeo())\n",
    "    fig.update_geos(\n",
    "            projection_type=\"equirectangular\",\n",
    "             showcountries=True, countrycolor=\"grey\")\n",
    "        \n",
    "    fig.update_layout(height=600, margin={\"r\":10,\"t\":60,\"l\":20,\"b\":50})\n",
    "   \n",
    "\n",
    "    print(len(dataset.columns), \"from_column\", from_column, \"to_column\", to_column )\n",
    "    \n",
    "    if (len(dataset.columns)==0) or (from_column==None) or (to_column==None):\n",
    "        print(\"No update\")\n",
    "        raise PreventUpdate\n",
    "    \n",
    "    else:\n",
    "        \n",
    "        print(\"value column\", value_column)\n",
    "        print(\"from column\", from_column)\n",
    "        print(\"to column\", to_column)\n",
    "        \n",
    "        if value_column!=None:\n",
    "            dataset[value_column]=pd.Series([convert_to_number(x) for x in dataset[value_column]])\n",
    "            print('width max', width_value, type(width_value))\n",
    "            normalization=max(dataset[value_column])/width_value\n",
    "            print('norm', normalization)\n",
    "            dataset_filtered=dataset[dataset[value_column]>filter_value]\n",
    "            \n",
    "        else: \n",
    "            dataset_filtered=dataset\n",
    "            \n",
    "        print('dataset_filtered', dataset_filtered.head().index)\n",
    "        \n",
    "        if value_column !=None:\n",
    "                line_width = dataset_filtered[value_column]/normalization\n",
    "        else:\n",
    "                line_width=3\n",
    "                \n",
    "#         fig.add_trace(go.Scattergeo(\n",
    "#                                   lon=pd.merge(dataset_filtered, df[['country', 'long']], left_on=to_column, right_on='country')['long'], \n",
    "#                                   lat=pd.merge(dataset_filtered, df[['country', 'lat']], left_on=to_column, right_on='country')['lat'],\n",
    "#                                     mode='markers',\n",
    "#                                     marker_symbol = 'diamond',\n",
    "#                                     marker = dict(\n",
    "#                                     size = line_width,\n",
    "#                                     color= [scl[i % len(scl)] for i in dataset_filtered.index]\n",
    "#                                   )))\n",
    "\n",
    "        for i in dataset_filtered.index:\n",
    "                \n",
    "                if (df[df.country==dataset_filtered.loc[i,from_column]].shape[0]>0)&(df[df.country==dataset_filtered.loc[i,to_column]].shape[0]>0):\n",
    "                    \n",
    "                    if value_column !=None:\n",
    "                        fig.add_trace(\n",
    "                            go.Scattergeo(\n",
    "                                lon = [list(df[df.country==dataset_filtered.loc[i,from_column]]['long'])[0], list(df[df.country==dataset_filtered.loc[i,to_column]]['long'])[0]],\n",
    "                                lat = [list(df[df.country==dataset_filtered.loc[i,from_column]]['lat'])[0], list(df[df.country==dataset_filtered.loc[i,to_column]]['lat'])[0]],\n",
    "                                mode = 'lines',          \n",
    "                                hovertemplate = \"From: \"+ dataset_filtered.loc[i,from_column]+\"<br>To: \"\n",
    "                                           + dataset_filtered.loc[i,to_column]+\"<br>\"\n",
    "                                +\"{:,}\".format(dataset_filtered.loc[i,value_column])\n",
    "                                            +'<extra></extra>',    \n",
    "\n",
    "                                line = dict(width = line_width.loc[i], color= scl[i % len(scl)], dash='dash')\n",
    "                            ))\n",
    "                        \n",
    "                    else:\n",
    "                        fig.add_trace(\n",
    "                            go.Scattergeo(\n",
    "                                lon = [list(df[df.country==dataset_filtered.loc[i,from_column]]['long'])[0], \n",
    "                                       list(df[df.country==dataset_filtered.loc[i,to_column]]['long'])[0]],\n",
    "                                lat = [list(df[df.country==dataset_filtered.loc[i,from_column]]['lat'])[0], \n",
    "                                       list(df[df.country==dataset_filtered.loc[i,to_column]]['lat'])[0]],\n",
    "                                mode = 'lines',          \n",
    "                                hovertemplate = \"From: \"+ dataset_filtered.loc[i,from_column]+\"<br>To: \"\n",
    "                                           + dataset_filtered.loc[i,to_column]\n",
    "                                            +'<extra></extra>',    \n",
    "\n",
    "                                line = dict(width = width_value/5, color= scl[i % len(scl)], dash='dash', \n",
    "\n",
    "\n",
    "                                               )\n",
    "                            ))\n",
    "                        \n",
    "                 \n",
    "\n",
    "\n",
    "        fig.update_layout(template=theme_options[theme],\n",
    "        showlegend = False, title_text=text_value,\n",
    "                            title_font_family=font_type, title_font_size=font_size, title={'y':0.95, 'x':0.5,\n",
    "                    'xanchor': 'center', 'yanchor': 'top'})\n",
    "        \n",
    "        if theme=='dark':\n",
    "             fig.update_geos(\n",
    "      showland=True, landcolor=\"rgb(203,213,232)\"\n",
    ")\n",
    "\n",
    "\n",
    "    return fig\n",
    "\n",
    "if __name__ == '__main__':\n",
    "    app.run_server()"
   ]
  },
  {
   "cell_type": "code",
   "execution_count": 187,
   "metadata": {},
   "outputs": [],
   "source": [
    "value_column='Number'"
   ]
  },
  {
   "cell_type": "code",
   "execution_count": 29,
   "metadata": {},
   "outputs": [
    {
     "data": {
      "text/plain": [
       "['#636EFA',\n",
       " '#EF553B',\n",
       " '#00CC96',\n",
       " '#AB63FA',\n",
       " '#FFA15A',\n",
       " '#19D3F3',\n",
       " '#FF6692',\n",
       " '#B6E880',\n",
       " '#FF97FF',\n",
       " '#FECB52']"
      ]
     },
     "execution_count": 29,
     "metadata": {},
     "output_type": "execute_result"
    }
   ],
   "source": [
    "scl"
   ]
  },
  {
   "cell_type": "code",
   "execution_count": 227,
   "metadata": {},
   "outputs": [
    {
     "data": {
      "text/html": [
       "<div>\n",
       "<style scoped>\n",
       "    .dataframe tbody tr th:only-of-type {\n",
       "        vertical-align: middle;\n",
       "    }\n",
       "\n",
       "    .dataframe tbody tr th {\n",
       "        vertical-align: top;\n",
       "    }\n",
       "\n",
       "    .dataframe thead th {\n",
       "        text-align: right;\n",
       "    }\n",
       "</style>\n",
       "<table border=\"1\" class=\"dataframe\">\n",
       "  <thead>\n",
       "    <tr style=\"text-align: right;\">\n",
       "      <th></th>\n",
       "      <th>Source</th>\n",
       "      <th>Destination</th>\n",
       "      <th>Number</th>\n",
       "    </tr>\n",
       "  </thead>\n",
       "  <tbody>\n",
       "    <tr>\n",
       "      <th>0</th>\n",
       "      <td>Afghanistan</td>\n",
       "      <td>United States</td>\n",
       "      <td>2196.0</td>\n",
       "    </tr>\n",
       "    <tr>\n",
       "      <th>1</th>\n",
       "      <td>Afghanistan</td>\n",
       "      <td>United Kingdom</td>\n",
       "      <td>607.0</td>\n",
       "    </tr>\n",
       "    <tr>\n",
       "      <th>2</th>\n",
       "      <td>Afghanistan</td>\n",
       "      <td>Ukraine</td>\n",
       "      <td>0.0</td>\n",
       "    </tr>\n",
       "    <tr>\n",
       "      <th>3</th>\n",
       "      <td>Afghanistan</td>\n",
       "      <td>Switzerland</td>\n",
       "      <td>127.0</td>\n",
       "    </tr>\n",
       "    <tr>\n",
       "      <th>4</th>\n",
       "      <td>Afghanistan</td>\n",
       "      <td>Sweden</td>\n",
       "      <td>4165.0</td>\n",
       "    </tr>\n",
       "  </tbody>\n",
       "</table>\n",
       "</div>"
      ],
      "text/plain": [
       "        Source     Destination  Number\n",
       "0  Afghanistan   United States  2196.0\n",
       "1  Afghanistan  United Kingdom   607.0\n",
       "2  Afghanistan         Ukraine     0.0\n",
       "3  Afghanistan     Switzerland   127.0\n",
       "4  Afghanistan          Sweden  4165.0"
      ]
     },
     "execution_count": 227,
     "metadata": {},
     "output_type": "execute_result"
    }
   ],
   "source": [
    "dataset.head()"
   ]
  },
  {
   "cell_type": "code",
   "execution_count": 228,
   "metadata": {},
   "outputs": [
    {
     "data": {
      "text/html": [
       "<div>\n",
       "<style scoped>\n",
       "    .dataframe tbody tr th:only-of-type {\n",
       "        vertical-align: middle;\n",
       "    }\n",
       "\n",
       "    .dataframe tbody tr th {\n",
       "        vertical-align: top;\n",
       "    }\n",
       "\n",
       "    .dataframe thead th {\n",
       "        text-align: right;\n",
       "    }\n",
       "</style>\n",
       "<table border=\"1\" class=\"dataframe\">\n",
       "  <thead>\n",
       "    <tr style=\"text-align: right;\">\n",
       "      <th></th>\n",
       "      <th>country</th>\n",
       "      <th>2_code</th>\n",
       "      <th>iso_code</th>\n",
       "      <th>Numeric code</th>\n",
       "      <th>lat</th>\n",
       "      <th>long</th>\n",
       "    </tr>\n",
       "  </thead>\n",
       "  <tbody>\n",
       "    <tr>\n",
       "      <th>0</th>\n",
       "      <td>Afghanistan</td>\n",
       "      <td>AF</td>\n",
       "      <td>AFG</td>\n",
       "      <td>4</td>\n",
       "      <td>33.0</td>\n",
       "      <td>65.0</td>\n",
       "    </tr>\n",
       "    <tr>\n",
       "      <th>1</th>\n",
       "      <td>Albania</td>\n",
       "      <td>AL</td>\n",
       "      <td>ALB</td>\n",
       "      <td>8</td>\n",
       "      <td>41.0</td>\n",
       "      <td>20.0</td>\n",
       "    </tr>\n",
       "    <tr>\n",
       "      <th>2</th>\n",
       "      <td>Algeria</td>\n",
       "      <td>DZ</td>\n",
       "      <td>DZA</td>\n",
       "      <td>12</td>\n",
       "      <td>28.0</td>\n",
       "      <td>3.0</td>\n",
       "    </tr>\n",
       "    <tr>\n",
       "      <th>3</th>\n",
       "      <td>American Samoa</td>\n",
       "      <td>AS</td>\n",
       "      <td>ASM</td>\n",
       "      <td>16</td>\n",
       "      <td>-14.3</td>\n",
       "      <td>-170.0</td>\n",
       "    </tr>\n",
       "    <tr>\n",
       "      <th>4</th>\n",
       "      <td>Andorra</td>\n",
       "      <td>AD</td>\n",
       "      <td>AND</td>\n",
       "      <td>20</td>\n",
       "      <td>42.5</td>\n",
       "      <td>1.6</td>\n",
       "    </tr>\n",
       "  </tbody>\n",
       "</table>\n",
       "</div>"
      ],
      "text/plain": [
       "          country 2_code iso_code  Numeric code   lat   long\n",
       "0     Afghanistan     AF      AFG             4  33.0   65.0\n",
       "1         Albania     AL      ALB             8  41.0   20.0\n",
       "2         Algeria     DZ      DZA            12  28.0    3.0\n",
       "3  American Samoa     AS      ASM            16 -14.3 -170.0\n",
       "4         Andorra     AD      AND            20  42.5    1.6"
      ]
     },
     "execution_count": 228,
     "metadata": {},
     "output_type": "execute_result"
    }
   ],
   "source": [
    "df.head()"
   ]
  },
  {
   "cell_type": "code",
   "execution_count": 235,
   "metadata": {},
   "outputs": [
    {
     "data": {
      "text/plain": [
       "0       33.0\n",
       "1       33.0\n",
       "2       33.0\n",
       "3       33.0\n",
       "4       33.0\n",
       "        ... \n",
       "6011   -20.0\n",
       "6012   -20.0\n",
       "6013   -20.0\n",
       "6014   -20.0\n",
       "6015   -20.0\n",
       "Name: lat, Length: 6016, dtype: float64"
      ]
     },
     "execution_count": 235,
     "metadata": {},
     "output_type": "execute_result"
    }
   ],
   "source": []
  },
  {
   "cell_type": "code",
   "execution_count": 196,
   "metadata": {},
   "outputs": [],
   "source": [
    "def convert_to_number(x):\n",
    "    try: \n",
    "        x=np.float(x)\n",
    "    except:\n",
    "        x=0\n",
    "    return x"
   ]
  },
  {
   "cell_type": "code",
   "execution_count": 223,
   "metadata": {},
   "outputs": [],
   "source": [
    "line_width=dataset[value_column]/15"
   ]
  },
  {
   "cell_type": "code",
   "execution_count": 224,
   "metadata": {},
   "outputs": [
    {
     "data": {
      "text/plain": [
       "146.4"
      ]
     },
     "execution_count": 224,
     "metadata": {},
     "output_type": "execute_result"
    }
   ],
   "source": [
    "line_width.loc[0]"
   ]
  },
  {
   "cell_type": "code",
   "execution_count": 162,
   "metadata": {},
   "outputs": [],
   "source": [
    "to_column='Destination'\n",
    "from_column='Source'"
   ]
  },
  {
   "cell_type": "code",
   "execution_count": 160,
   "metadata": {},
   "outputs": [
    {
     "data": {
      "text/plain": [
       "(1, 6)"
      ]
     },
     "execution_count": 160,
     "metadata": {},
     "output_type": "execute_result"
    }
   ],
   "source": [
    "i=0\n",
    "df[df.country==dataset.loc[i,to_column]].shape"
   ]
  },
  {
   "cell_type": "code",
   "execution_count": 244,
   "metadata": {},
   "outputs": [
    {
     "name": "stdout",
     "output_type": "stream",
     "text": [
      " Volume in drive C is Windows\n",
      " Volume Serial Number is 620D-D09A\n",
      "\n",
      " Directory of C:\\Users\\vnuretdi\\Documents\\Python\n",
      "\n",
      "02/12/2022  12:14 AM    <DIR>          .\n",
      "02/12/2022  12:14 AM    <DIR>          ..\n",
      "02/11/2022  01:22 PM    <DIR>          .ipynb_checkpoints\n",
      "02/10/2022  09:44 PM            14,331 combined.xlsm\n",
      "02/11/2022  01:21 PM        15,235,289 combined.xlsx\n",
      "02/10/2022  10:20 PM    <DIR>          countries\n",
      "02/10/2022  08:43 PM             8,944 country_codes.csv\n",
      "02/10/2022  08:37 PM             8,717 country_data.csv\n",
      "02/07/2022  06:20 PM       189,607,577 crashes.csv\n",
      "02/10/2022  12:39 PM             1,059 fonts.csv\n",
      "09/21/2020  12:49 PM         3,550,322 Global Terrorism database - project 2 notebook.ipynb\n",
      "07/18/2017  08:30 PM       150,950,913 globalterrorismdb_0617dist.csv\n",
      "02/12/2022  12:14 AM           486,268 Map Dash.ipynb\n",
      "02/11/2022  12:54 PM            19,828 migration.csv\n",
      "02/11/2022  12:50 PM            46,993 Migration.xlsx\n",
      "02/11/2022  05:25 PM           145,819 migration_stacked.csv\n",
      "02/05/2022  07:37 PM        28,361,389 movie.csv\n",
      "12/11/2019  04:02 AM        28,311,747 movie_collection.csv\n",
      "02/05/2022  08:00 PM           223,006 movie_short.xlsx\n",
      "02/12/2022  12:06 AM             1,760 public spending.csv\n",
      "02/05/2022  07:37 PM            15,392 Untitled.ipynb\n",
      "              17 File(s)    416,989,354 bytes\n",
      "               4 Dir(s)   3,101,274,112 bytes free\n"
     ]
    }
   ],
   "source": [
    "ls"
   ]
  },
  {
   "cell_type": "code",
   "execution_count": 245,
   "metadata": {},
   "outputs": [
    {
     "data": {
      "text/html": [
       "<div>\n",
       "<style scoped>\n",
       "    .dataframe tbody tr th:only-of-type {\n",
       "        vertical-align: middle;\n",
       "    }\n",
       "\n",
       "    .dataframe tbody tr th {\n",
       "        vertical-align: top;\n",
       "    }\n",
       "\n",
       "    .dataframe thead th {\n",
       "        text-align: right;\n",
       "    }\n",
       "</style>\n",
       "<table border=\"1\" class=\"dataframe\">\n",
       "  <thead>\n",
       "    <tr style=\"text-align: right;\">\n",
       "      <th></th>\n",
       "      <th>Country</th>\n",
       "      <th>DEF</th>\n",
       "      <th>EDU</th>\n",
       "      <th>HEALTH</th>\n",
       "      <th>SOCPROT</th>\n",
       "    </tr>\n",
       "  </thead>\n",
       "  <tbody>\n",
       "    <tr>\n",
       "      <th>0</th>\n",
       "      <td>AUS</td>\n",
       "      <td>34941706596</td>\n",
       "      <td>87833155843</td>\n",
       "      <td>107217107104</td>\n",
       "      <td>153478591509</td>\n",
       "    </tr>\n",
       "    <tr>\n",
       "      <th>1</th>\n",
       "      <td>AUT</td>\n",
       "      <td>2676338905</td>\n",
       "      <td>21292808187</td>\n",
       "      <td>36952957989</td>\n",
       "      <td>89672382274</td>\n",
       "    </tr>\n",
       "    <tr>\n",
       "      <th>2</th>\n",
       "      <td>BEL</td>\n",
       "      <td>4215717109</td>\n",
       "      <td>32826910788</td>\n",
       "      <td>40449524673</td>\n",
       "      <td>103271075740</td>\n",
       "    </tr>\n",
       "    <tr>\n",
       "      <th>3</th>\n",
       "      <td>CHE</td>\n",
       "      <td>5964187067</td>\n",
       "      <td>39779406825</td>\n",
       "      <td>15488254390</td>\n",
       "      <td>94247671798</td>\n",
       "    </tr>\n",
       "    <tr>\n",
       "      <th>4</th>\n",
       "      <td>CHL</td>\n",
       "      <td>2614318775</td>\n",
       "      <td>15978131218</td>\n",
       "      <td>13007071886</td>\n",
       "      <td>17361456324</td>\n",
       "    </tr>\n",
       "  </tbody>\n",
       "</table>\n",
       "</div>"
      ],
      "text/plain": [
       "  Country          DEF          EDU        HEALTH       SOCPROT\n",
       "0     AUS  34941706596  87833155843  107217107104  153478591509\n",
       "1     AUT   2676338905  21292808187   36952957989   89672382274\n",
       "2     BEL   4215717109  32826910788   40449524673  103271075740\n",
       "3     CHE   5964187067  39779406825   15488254390   94247671798\n",
       "4     CHL   2614318775  15978131218   13007071886   17361456324"
      ]
     },
     "execution_count": 245,
     "metadata": {},
     "output_type": "execute_result"
    }
   ],
   "source": [
    "dataset=pd.read_csv('public spending.csv')\n",
    "dataset.head()"
   ]
  },
  {
   "cell_type": "code",
   "execution_count": null,
   "metadata": {},
   "outputs": [],
   "source": [
    "app = Dash(__name__, external_stylesheets=[dbc.themes.BOOTSTRAP])\n",
    "\n",
    "text_value=\"\"\n",
    "\n",
    "dataset=pd.DataFrame()\n",
    "theme_options={'light':'plotly', 'dark':\"plotly_dark\"}\n",
    "\n",
    "app.layout = html.Div([\n",
    "   dbc.Container(dbc.Row([ \n",
    "         \n",
    "    dbc.Col([\n",
    "        \n",
    "    dcc.Upload(\n",
    "        id='upload-data',\n",
    "        children=html.Div(\n",
    "        dbc.Button('Select Data File (csv or xls, incl. \"country\" column)', color=\"primary\"), \n",
    "                style={'width': '90%', 'height': '35px', 'margin-left': '10px', 'margin-top': '10px'}), \n",
    "        # Allow multiple files to be uploaded\n",
    "        multiple=True\n",
    "    ),    \n",
    "        html.Div(            \n",
    "    dcc.Dropdown(id=\"value_columns\", placeholder=\"Select pie chart columns\"),\n",
    "                multi=True,style={'margin-left': '10px', 'width': '90%', \n",
    "                                  'margin-top': '35px', 'color':'black'}),\n",
    "\n",
    "            \n",
    "    html.Div([\n",
    "    html.Div(\"Choose map type\", style={'margin-left': '10px','margin-top': '20px'}),\n",
    "    html.Div(dcc.Dropdown(id=\"map_type\", options=['natural earth', 'equirectangular', 'mercator', 'orthographic', 'kavrayskiy7',\n",
    "              'miller', 'robinson', 'eckert4', 'azimuthal equal area', 'azimuthal equidistant', 'gnomonic', 'stereographic', \n",
    "            'mollweide', 'hammer', 'transverse mercator', 'winkel tripel', 'aitoff', 'sinusoidal'],\n",
    "                 value=\"equirectangular\"), style={'margin-left': '10px', 'width': '90%', \n",
    "                                                                             'margin-top': '10px', 'color':'black'})\n",
    "    ]),\n",
    "       \n",
    "         html.Div([\n",
    "    html.Div(\"Choose map template\", style={'margin-left': '10px','margin-top': '20px'}),\n",
    "    html.Div(dcc.Dropdown(id=\"theme_choice\", options=['light', 'dark'],\n",
    "                 value=\"light\"), style={'margin-left': '10px', 'width': '90%', \n",
    "                                                                             'margin-top': '10px', 'color':'black'})\n",
    "    ]),\n",
    "        \n",
    "    \n",
    "    html.P(),\n",
    "    \n",
    "    html.Div([\n",
    "         html.Div(\"Add title\", style={'margin-left': '10px','margin-top': '10px'}),\n",
    "   html.Div(dcc.Input(\n",
    "            id=\"chart-title\",\n",
    "            type=\"text\",\n",
    "            placeholder=\"Please input the title name\".format(_),\n",
    "         style={'width': '90%',  'display': 'inline-block', 'margin-left': '10px','margin-top': '10px'}\n",
    "        )),\n",
    "        \n",
    "    html.Div(dcc.Dropdown(options=font_options, value='Arial', id=\"font_type\", placeholder=\"Title Font\"), style={'margin-left': '10px', 'width': '90%', \n",
    "                                                                             'margin-top': '15px', 'color':'black'}),\n",
    "        \n",
    "        html.Div(\"Font size\", style={'margin-left': '10px','margin-top': '10px'}),\n",
    "     html.Div(dcc.Slider(0, 40, marks=None,  value=20,\n",
    "               id='font_size'),\n",
    "                style={'width': '90%', 'height': '35px', 'margin-left': '10px','margin-top': '10px'}),  \n",
    "        \n",
    "]),\n",
    "        \n",
    "    html.P(),\n",
    "      \n",
    "    html.Div([  \n",
    "    html.Div(\"Choose bubbles size\", style={'margin-left': '10px','margin-top': '10px'}),\n",
    "     html.Div(dcc.Slider(0, 100, 10,\n",
    "               value=50,\n",
    "               id='my-slider'),\n",
    "                style={'width': '90%', 'height': '35px', 'margin-left': '10px','margin-top': '10px'}), \n",
    "    ]),    \n",
    "        \n",
    "        \n",
    "    ], style={'backgroundColor': 'black', 'color': 'white'} , width=3),\n",
    "   \n",
    "    dbc.Col([\n",
    "     html.Div([\n",
    "                  \n",
    "         \n",
    "         dcc.Graph(\n",
    "        id='example-graph')\n",
    "         ])],  width=9), \n",
    "    \n",
    "    ],  style={\"height\": \"100vh\"}), \n",
    "        fluid=True)])\n",
    "    \n",
    "def parse_contents(contents, filename):\n",
    "    \n",
    "    content_type, content_string = contents.split(',')\n",
    "\n",
    "    decoded = base64.b64decode(content_string)\n",
    "    \n",
    "    data=pd.DataFrame()\n",
    "    try:\n",
    "        if 'csv' in filename:\n",
    "            # Assume that the user uploaded a CSV file\n",
    "            data = pd.read_csv(\n",
    "                io.StringIO(decoded.decode('utf-8')))\n",
    "        elif 'xls' in filename:\n",
    "            # Assume that the user uploaded an excel file\n",
    "            data = pd.read_excel(io.BytesIO(decoded))\n",
    "\n",
    "    except Exception as e:\n",
    "        print(e)\n",
    "        return html.Div([\n",
    "            'There was an error processing this file.'\n",
    "        ])\n",
    "\n",
    "    return data\n",
    "\n",
    "\n",
    "@app.callback(Output('value_columns', 'options'),\n",
    "              Input('upload-data', 'contents'),              \n",
    "             State('upload-data', 'filename'))\n",
    "\n",
    "\n",
    "def update_data(list_of_contents, list_of_names): \n",
    "    global dataset\n",
    "    \n",
    "    dropdown_options=[]\n",
    "        \n",
    "    if list_of_contents is not None:\n",
    "        \n",
    "        dataset = [parse_contents(c, n) for c, n in\n",
    "            zip(list_of_contents, list_of_names)][0]\n",
    "        \n",
    "        if max([len(x) for x in dataset['country']])==3:\n",
    "            dataset=pd.merge(dataset, df, on_left='country', on_right='iso_code')\n",
    "        else:\n",
    "            dataset=pd.merge(dataset, df[['country','iso_code']], on='country')\n",
    "            \n",
    "        dataset=dataset.fillna(0)\n",
    "        print(dataset.head())\n",
    "        \n",
    "        dropdown_options=list(dataset.drop(['country','iso_code'], axis=1).columns)\n",
    "        \n",
    "    return dropdown_options\n",
    "\n",
    "    \n",
    "@app.callback( Output('example-graph', 'figure'),\n",
    "             Input('my-slider', 'value'),\n",
    "             Input('chart-title', 'value'),\n",
    "             Input('value_columns', 'list'),\n",
    "             Input('map_type', 'value'),\n",
    "             Input('font_size', 'value'),\n",
    "             Input('font_type', 'value'),\n",
    "             Input('theme_choice', 'value'))\n",
    "\n",
    "\n",
    "def update_graph(slider_value, text_value, column_sel, color_value, map_type, font_size, font_type, theme):\n",
    "    \n",
    "    global dataset\n",
    "    \n",
    "   \n",
    "    \n",
    "    if len(dataset.columns)==0:\n",
    "        raise PreventUpdate\n",
    "    \n",
    "    else:\n",
    "        \n",
    "        print(\"second columns\", column_sel, dataset[column_sel].head(), \n",
    "          dataset[(dataset.iso_code!='NaN')&(dataset[column_sel]!='NaN')].shape)\n",
    "        \n",
    "        fig = px.scatter_geo(dataset[(dataset.iso_code!='NaN')&(dataset[column_sel]!='NaN')], locations=\"iso_code\", \n",
    "                             hover_name='country', size=column_sel, size_max=slider_value, projection=map_type,                             \n",
    "                                 title=text_value, color=color_value, template=theme_options[theme], \n",
    "                             hover_data={'iso_code':False})\n",
    "\n",
    "        fig.update_layout(height=600, margin={\"r\":10,\"t\":60,\"l\":20,\"b\":50},   title={'y':0.95, 'x':0.45,\n",
    "                    'xanchor': 'center', 'yanchor': 'top'},\n",
    "                            title_font_family=font_type, title_font_size=font_size)\n",
    "        \n",
    "   #     fig.update_layout(legend=dict(orientation=\"h\", y=0.05, x=0.1))\n",
    "       \n",
    "        \n",
    "        fig.update_geos(\n",
    "     showcountries=True, countrycolor=\"grey\"\n",
    ")\n",
    "        \n",
    "        if theme=='dark':\n",
    "             fig.update_geos(\n",
    "      showland=True, landcolor=\"rgb(203,213,232)\"\n",
    ")\n",
    "\n",
    "\n",
    "    return fig\n",
    "\n",
    "if __name__ == '__main__':\n",
    "    app.run_server()"
   ]
  }
 ],
 "metadata": {
  "kernelspec": {
   "display_name": "Python 3",
   "language": "python",
   "name": "python3"
  },
  "language_info": {
   "codemirror_mode": {
    "name": "ipython",
    "version": 3
   },
   "file_extension": ".py",
   "mimetype": "text/x-python",
   "name": "python",
   "nbconvert_exporter": "python",
   "pygments_lexer": "ipython3",
   "version": "3.7.6"
  }
 },
 "nbformat": 4,
 "nbformat_minor": 4
}
